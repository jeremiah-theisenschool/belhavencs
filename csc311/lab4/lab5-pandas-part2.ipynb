{
 "cells": [
  {
   "cell_type": "markdown",
   "metadata": {},
   "source": [
    "# Lab 5\n",
    "\n",
    "# Data Manipulation with Pandas\n",
    "\n",
    "In this lab, you'll be working through Chapter 3 to get an introduction to the data manipulation and analysis package for Python, Pandas. This notebook is made up of two sections.\n",
    "\n",
    "- Section 1: Work through the code samples in Chapter 3\n",
    "- Section 2: Exercises"
   ]
  },
  {
   "cell_type": "markdown",
   "metadata": {},
   "source": [
    "# Section 1: Code Practice\n",
    "\n",
    "In this section, you will be reading through the various chapter sections and **typing out**/running the code samples given in the sections. The purpose of this is for you to practice using Jupyter to run Python code as well as learn about the functionality available to you in both IPython and Jupyter.\n",
    "\n",
    "**Do not copy/paste the code**. Type it out. Don't go zen, either. Pay attention to the meaning of what you are typing. Pay attention to the parameters and the types of arguments. Find the similarities and differences among the various object APIs. \n",
    "\n",
    "## The hardest part of Pandas is the *massive* API.\n",
    "\n",
    "The only way to become proficient is to **actually, physically, viscerally** use it. Repeatedly and deliberately over time.\n",
    "\n",
    "---\n",
    "\n",
    "##### Executing code in Jupyter\n",
    "\n",
    "When typing and executing code in Jupyter, it is helpful to know the various keyboard shortcuts. You can find the full list of these by clicking **Help &rarr; Keyboard Shortcuts** in the menu. However, the two most useful keyboard shortcuts are:\n",
    "\n",
    "- `Shift-Enter`: Execute the current cell and advance to the next cell. This will create one if none exists, but if a cell exists below your current cell, a new cell will **not** be created.\n",
    "- `Alt-Enter`: Execute the current cell and **create** a new cell below.\n",
    "- `Control-Enter`: Execute the current cell without advancing to the next cell\n",
    "\n",
    "When writing your code, you will be using these two commands to make sure input/output (`In`/`Out`) is consistent with what is found in the chapter. If you create a cell by mistake, you can always go to **Edit &rarr; Delete Cells** to remove it.\n",
    "\n",
    "#### Purpose of Section 1\n",
    "\n",
    "Your purpose in this section is \n",
    "\n",
    "- **Type out** the code examples from the chapter (do not copy and paste)\n",
    "- **Run** them\n",
    "- **Check** to **make sure** you are getting the same results as what is contained in the chapter\n",
    "\n",
    "---\n",
    "\n",
    "\n"
   ]
  },
  {
   "cell_type": "markdown",
   "metadata": {},
   "source": [
    "## Vectorized String Operations\n",
    "\n",
    "[Chapter/Section link](https://nbviewer.jupyter.org/urls/bitbucket.org/dogwynn/pythondatasciencehandbook/raw/master/notebooks/03.10-Working-With-Strings.ipynb)\n",
    "\n",
    "### Introducing Pandas String Operations"
   ]
  },
  {
   "cell_type": "code",
   "execution_count": 5,
   "metadata": {
    "collapsed": true
   },
   "outputs": [
    {
     "data": {
      "text/plain": [
       "array([ 4,  6, 10, 14, 22, 26])"
      ]
     },
     "execution_count": 5,
     "metadata": {},
     "output_type": "execute_result"
    }
   ],
   "source": [
    "import numpy as np\n",
    "x = np.array([2, 3, 5, 7, 11, 13])\n",
    "x * 2"
   ]
  },
  {
   "cell_type": "code",
   "execution_count": 6,
   "metadata": {
    "collapsed": true
   },
   "outputs": [
    {
     "data": {
      "text/plain": [
       "['Peter', 'Paul', 'Mary', 'Guido']"
      ]
     },
     "execution_count": 6,
     "metadata": {},
     "output_type": "execute_result"
    }
   ],
   "source": [
    "data = ['peter', 'Paul', 'MARY', 'gUIDO']\n",
    "[s.capitalize() for s in data]"
   ]
  },
  {
   "cell_type": "code",
   "execution_count": 7,
   "metadata": {
    "collapsed": true
   },
   "outputs": [
    {
     "ename": "AttributeError",
     "evalue": "'NoneType' object has no attribute 'capitalize'",
     "output_type": "error",
     "traceback": [
      "\u001b[1;31m---------------------------------------------------------------------------\u001b[0m",
      "\u001b[1;31mAttributeError\u001b[0m                            Traceback (most recent call last)",
      "Cell \u001b[1;32mIn[7], line 2\u001b[0m\n\u001b[0;32m      1\u001b[0m data \u001b[38;5;241m=\u001b[39m [\u001b[38;5;124m'\u001b[39m\u001b[38;5;124mpeter\u001b[39m\u001b[38;5;124m'\u001b[39m, \u001b[38;5;124m'\u001b[39m\u001b[38;5;124mPaul\u001b[39m\u001b[38;5;124m'\u001b[39m, \u001b[38;5;28;01mNone\u001b[39;00m, \u001b[38;5;124m'\u001b[39m\u001b[38;5;124mMARY\u001b[39m\u001b[38;5;124m'\u001b[39m, \u001b[38;5;124m'\u001b[39m\u001b[38;5;124mgUIDO\u001b[39m\u001b[38;5;124m'\u001b[39m]\n\u001b[1;32m----> 2\u001b[0m [s\u001b[38;5;241m.\u001b[39mcapitalize() \u001b[38;5;28;01mfor\u001b[39;00m s \u001b[38;5;129;01min\u001b[39;00m data]\n",
      "Cell \u001b[1;32mIn[7], line 2\u001b[0m, in \u001b[0;36m<listcomp>\u001b[1;34m(.0)\u001b[0m\n\u001b[0;32m      1\u001b[0m data \u001b[38;5;241m=\u001b[39m [\u001b[38;5;124m'\u001b[39m\u001b[38;5;124mpeter\u001b[39m\u001b[38;5;124m'\u001b[39m, \u001b[38;5;124m'\u001b[39m\u001b[38;5;124mPaul\u001b[39m\u001b[38;5;124m'\u001b[39m, \u001b[38;5;28;01mNone\u001b[39;00m, \u001b[38;5;124m'\u001b[39m\u001b[38;5;124mMARY\u001b[39m\u001b[38;5;124m'\u001b[39m, \u001b[38;5;124m'\u001b[39m\u001b[38;5;124mgUIDO\u001b[39m\u001b[38;5;124m'\u001b[39m]\n\u001b[1;32m----> 2\u001b[0m [\u001b[43ms\u001b[49m\u001b[38;5;241;43m.\u001b[39;49m\u001b[43mcapitalize\u001b[49m() \u001b[38;5;28;01mfor\u001b[39;00m s \u001b[38;5;129;01min\u001b[39;00m data]\n",
      "\u001b[1;31mAttributeError\u001b[0m: 'NoneType' object has no attribute 'capitalize'"
     ]
    }
   ],
   "source": [
    "data = ['peter', 'Paul', None, 'MARY', 'gUIDO']\n",
    "[s.capitalize() for s in data]"
   ]
  },
  {
   "cell_type": "code",
   "execution_count": 8,
   "metadata": {
    "collapsed": true
   },
   "outputs": [
    {
     "data": {
      "text/plain": [
       "0    peter\n",
       "1     Paul\n",
       "2     None\n",
       "3     MARY\n",
       "4    gUIDO\n",
       "dtype: object"
      ]
     },
     "execution_count": 8,
     "metadata": {},
     "output_type": "execute_result"
    }
   ],
   "source": [
    "import pandas as pd\n",
    "names = pd.Series(data)\n",
    "names"
   ]
  },
  {
   "cell_type": "code",
   "execution_count": 9,
   "metadata": {
    "collapsed": true
   },
   "outputs": [
    {
     "data": {
      "text/plain": [
       "0    Peter\n",
       "1     Paul\n",
       "2     None\n",
       "3     Mary\n",
       "4    Guido\n",
       "dtype: object"
      ]
     },
     "execution_count": 9,
     "metadata": {},
     "output_type": "execute_result"
    }
   ],
   "source": [
    "names.str.capitalize()"
   ]
  },
  {
   "cell_type": "markdown",
   "metadata": {},
   "source": [
    "### Tables of Pandas String Methods"
   ]
  },
  {
   "cell_type": "code",
   "execution_count": 10,
   "metadata": {
    "collapsed": true
   },
   "outputs": [],
   "source": [
    "monte = pd.Series(['Graham Chapman', 'John Cleese', 'Terry Gilliam',\n",
    "                   'Eric Idle', 'Terry Jones', 'Michael Palin'])"
   ]
  },
  {
   "cell_type": "code",
   "execution_count": 11,
   "metadata": {
    "collapsed": true
   },
   "outputs": [
    {
     "data": {
      "text/plain": [
       "0    graham chapman\n",
       "1       john cleese\n",
       "2     terry gilliam\n",
       "3         eric idle\n",
       "4       terry jones\n",
       "5     michael palin\n",
       "dtype: object"
      ]
     },
     "execution_count": 11,
     "metadata": {},
     "output_type": "execute_result"
    }
   ],
   "source": [
    "monte.str.lower()"
   ]
  },
  {
   "cell_type": "code",
   "execution_count": 12,
   "metadata": {
    "collapsed": true
   },
   "outputs": [
    {
     "data": {
      "text/plain": [
       "0    14\n",
       "1    11\n",
       "2    13\n",
       "3     9\n",
       "4    11\n",
       "5    13\n",
       "dtype: int64"
      ]
     },
     "execution_count": 12,
     "metadata": {},
     "output_type": "execute_result"
    }
   ],
   "source": [
    "monte.str.len()"
   ]
  },
  {
   "cell_type": "code",
   "execution_count": 13,
   "metadata": {
    "collapsed": true
   },
   "outputs": [
    {
     "data": {
      "text/plain": [
       "0    False\n",
       "1    False\n",
       "2     True\n",
       "3    False\n",
       "4     True\n",
       "5    False\n",
       "dtype: bool"
      ]
     },
     "execution_count": 13,
     "metadata": {},
     "output_type": "execute_result"
    }
   ],
   "source": [
    "monte.str.startswith('T')"
   ]
  },
  {
   "cell_type": "code",
   "execution_count": 14,
   "metadata": {
    "collapsed": true
   },
   "outputs": [
    {
     "data": {
      "text/plain": [
       "0    [Graham, Chapman]\n",
       "1       [John, Cleese]\n",
       "2     [Terry, Gilliam]\n",
       "3         [Eric, Idle]\n",
       "4       [Terry, Jones]\n",
       "5     [Michael, Palin]\n",
       "dtype: object"
      ]
     },
     "execution_count": 14,
     "metadata": {},
     "output_type": "execute_result"
    }
   ],
   "source": [
    "monte.str.split()"
   ]
  },
  {
   "cell_type": "markdown",
   "metadata": {},
   "source": [
    "#### Methods using regular expressions"
   ]
  },
  {
   "cell_type": "code",
   "execution_count": 15,
   "metadata": {
    "collapsed": true
   },
   "outputs": [
    {
     "data": {
      "text/plain": [
       "0     Graham\n",
       "1       John\n",
       "2      Terry\n",
       "3       Eric\n",
       "4      Terry\n",
       "5    Michael\n",
       "dtype: object"
      ]
     },
     "execution_count": 15,
     "metadata": {},
     "output_type": "execute_result"
    }
   ],
   "source": [
    "monte.str.extract('([A-Za-z]+)', expand=False)"
   ]
  },
  {
   "cell_type": "code",
   "execution_count": 16,
   "metadata": {
    "collapsed": true
   },
   "outputs": [
    {
     "data": {
      "text/plain": [
       "0    [Graham Chapman]\n",
       "1                  []\n",
       "2     [Terry Gilliam]\n",
       "3                  []\n",
       "4       [Terry Jones]\n",
       "5     [Michael Palin]\n",
       "dtype: object"
      ]
     },
     "execution_count": 16,
     "metadata": {},
     "output_type": "execute_result"
    }
   ],
   "source": [
    "monte.str.findall(r'^[^AEIOU].*[^aeiou]$')"
   ]
  },
  {
   "cell_type": "markdown",
   "metadata": {},
   "source": [
    "#### Miscellaneous methods"
   ]
  },
  {
   "cell_type": "code",
   "execution_count": 17,
   "metadata": {
    "collapsed": true
   },
   "outputs": [
    {
     "data": {
      "text/plain": [
       "0    Gra\n",
       "1    Joh\n",
       "2    Ter\n",
       "3    Eri\n",
       "4    Ter\n",
       "5    Mic\n",
       "dtype: object"
      ]
     },
     "execution_count": 17,
     "metadata": {},
     "output_type": "execute_result"
    }
   ],
   "source": [
    "monte.str[0:3]"
   ]
  },
  {
   "cell_type": "code",
   "execution_count": 18,
   "metadata": {
    "collapsed": true
   },
   "outputs": [
    {
     "data": {
      "text/plain": [
       "0    Chapman\n",
       "1     Cleese\n",
       "2    Gilliam\n",
       "3       Idle\n",
       "4      Jones\n",
       "5      Palin\n",
       "dtype: object"
      ]
     },
     "execution_count": 18,
     "metadata": {},
     "output_type": "execute_result"
    }
   ],
   "source": [
    "monte.str.split().str.get(-1)"
   ]
  },
  {
   "cell_type": "code",
   "execution_count": 19,
   "metadata": {
    "collapsed": true
   },
   "outputs": [
    {
     "data": {
      "text/html": [
       "<div>\n",
       "<style scoped>\n",
       "    .dataframe tbody tr th:only-of-type {\n",
       "        vertical-align: middle;\n",
       "    }\n",
       "\n",
       "    .dataframe tbody tr th {\n",
       "        vertical-align: top;\n",
       "    }\n",
       "\n",
       "    .dataframe thead th {\n",
       "        text-align: right;\n",
       "    }\n",
       "</style>\n",
       "<table border=\"1\" class=\"dataframe\">\n",
       "  <thead>\n",
       "    <tr style=\"text-align: right;\">\n",
       "      <th></th>\n",
       "      <th>name</th>\n",
       "      <th>info</th>\n",
       "    </tr>\n",
       "  </thead>\n",
       "  <tbody>\n",
       "    <tr>\n",
       "      <th>0</th>\n",
       "      <td>Graham Chapman</td>\n",
       "      <td>B|C|D</td>\n",
       "    </tr>\n",
       "    <tr>\n",
       "      <th>1</th>\n",
       "      <td>John Cleese</td>\n",
       "      <td>B|D</td>\n",
       "    </tr>\n",
       "    <tr>\n",
       "      <th>2</th>\n",
       "      <td>Terry Gilliam</td>\n",
       "      <td>A|C</td>\n",
       "    </tr>\n",
       "    <tr>\n",
       "      <th>3</th>\n",
       "      <td>Eric Idle</td>\n",
       "      <td>B|D</td>\n",
       "    </tr>\n",
       "    <tr>\n",
       "      <th>4</th>\n",
       "      <td>Terry Jones</td>\n",
       "      <td>B|C</td>\n",
       "    </tr>\n",
       "    <tr>\n",
       "      <th>5</th>\n",
       "      <td>Michael Palin</td>\n",
       "      <td>B|C|D</td>\n",
       "    </tr>\n",
       "  </tbody>\n",
       "</table>\n",
       "</div>"
      ],
      "text/plain": [
       "             name   info\n",
       "0  Graham Chapman  B|C|D\n",
       "1     John Cleese    B|D\n",
       "2   Terry Gilliam    A|C\n",
       "3       Eric Idle    B|D\n",
       "4     Terry Jones    B|C\n",
       "5   Michael Palin  B|C|D"
      ]
     },
     "execution_count": 19,
     "metadata": {},
     "output_type": "execute_result"
    }
   ],
   "source": [
    "full_monte = pd.DataFrame({'name': monte,\n",
    "                           'info': ['B|C|D', 'B|D', 'A|C',\n",
    "                                    'B|D', 'B|C', 'B|C|D']})\n",
    "full_monte"
   ]
  },
  {
   "cell_type": "code",
   "execution_count": 20,
   "metadata": {
    "collapsed": true
   },
   "outputs": [
    {
     "data": {
      "text/html": [
       "<div>\n",
       "<style scoped>\n",
       "    .dataframe tbody tr th:only-of-type {\n",
       "        vertical-align: middle;\n",
       "    }\n",
       "\n",
       "    .dataframe tbody tr th {\n",
       "        vertical-align: top;\n",
       "    }\n",
       "\n",
       "    .dataframe thead th {\n",
       "        text-align: right;\n",
       "    }\n",
       "</style>\n",
       "<table border=\"1\" class=\"dataframe\">\n",
       "  <thead>\n",
       "    <tr style=\"text-align: right;\">\n",
       "      <th></th>\n",
       "      <th>A</th>\n",
       "      <th>B</th>\n",
       "      <th>C</th>\n",
       "      <th>D</th>\n",
       "    </tr>\n",
       "  </thead>\n",
       "  <tbody>\n",
       "    <tr>\n",
       "      <th>0</th>\n",
       "      <td>0</td>\n",
       "      <td>1</td>\n",
       "      <td>1</td>\n",
       "      <td>1</td>\n",
       "    </tr>\n",
       "    <tr>\n",
       "      <th>1</th>\n",
       "      <td>0</td>\n",
       "      <td>1</td>\n",
       "      <td>0</td>\n",
       "      <td>1</td>\n",
       "    </tr>\n",
       "    <tr>\n",
       "      <th>2</th>\n",
       "      <td>1</td>\n",
       "      <td>0</td>\n",
       "      <td>1</td>\n",
       "      <td>0</td>\n",
       "    </tr>\n",
       "    <tr>\n",
       "      <th>3</th>\n",
       "      <td>0</td>\n",
       "      <td>1</td>\n",
       "      <td>0</td>\n",
       "      <td>1</td>\n",
       "    </tr>\n",
       "    <tr>\n",
       "      <th>4</th>\n",
       "      <td>0</td>\n",
       "      <td>1</td>\n",
       "      <td>1</td>\n",
       "      <td>0</td>\n",
       "    </tr>\n",
       "    <tr>\n",
       "      <th>5</th>\n",
       "      <td>0</td>\n",
       "      <td>1</td>\n",
       "      <td>1</td>\n",
       "      <td>1</td>\n",
       "    </tr>\n",
       "  </tbody>\n",
       "</table>\n",
       "</div>"
      ],
      "text/plain": [
       "   A  B  C  D\n",
       "0  0  1  1  1\n",
       "1  0  1  0  1\n",
       "2  1  0  1  0\n",
       "3  0  1  0  1\n",
       "4  0  1  1  0\n",
       "5  0  1  1  1"
      ]
     },
     "execution_count": 20,
     "metadata": {},
     "output_type": "execute_result"
    }
   ],
   "source": [
    "full_monte['info'].str.get_dummies('|')"
   ]
  },
  {
   "cell_type": "markdown",
   "metadata": {},
   "source": [
    "### Example: Recipe Database\n",
    "\n",
    "Do **not** try to execute cell (`In [17]`). The Amazon S3 bucket is empty. Type out and execute the following code instead.\n",
    "\n",
    "```python\n",
    "import gzip\n",
    "import urllib.request\n",
    "from pathlib import Path\n",
    "response = urllib.request.urlopen('https://belhavencs.nyc3.digitaloceanspaces.com/csc311/recipeitems-latest.json.gz')\n",
    "Path('recipeitems-latest.json').write_bytes(gzip.decompress(response.read()))\n",
    "```"
   ]
  },
  {
   "cell_type": "code",
   "execution_count": 45,
   "metadata": {
    "collapsed": true
   },
   "outputs": [
    {
     "data": {
      "text/plain": [
       "141698284"
      ]
     },
     "execution_count": 45,
     "metadata": {},
     "output_type": "execute_result"
    }
   ],
   "source": [
    "import gzip\n",
    "import urllib.request\n",
    "from pathlib import Path\n",
    "response = urllib.request.urlopen('https://belhavencs.nyc3.digitaloceanspaces.com/csc311/recipeitems-latest.json.gz')\n",
    "Path('recipeitems-latest.json').write_bytes(gzip.decompress(response.read()))"
   ]
  },
  {
   "cell_type": "code",
   "execution_count": 46,
   "metadata": {
    "collapsed": true
   },
   "outputs": [
    {
     "name": "stdout",
     "output_type": "stream",
     "text": [
      "ValueError: Trailing data\n"
     ]
    }
   ],
   "source": [
    "try:\n",
    "    recipes = pd.read_json('recipeitems-latest.json')\n",
    "except ValueError as e:\n",
    "    print(\"ValueError:\", e)"
   ]
  },
  {
   "cell_type": "code",
   "execution_count": 23,
   "metadata": {
    "collapsed": true
   },
   "outputs": [
    {
     "name": "stderr",
     "output_type": "stream",
     "text": [
      "C:\\Users\\jerem\\AppData\\Local\\Temp\\ipykernel_8776\\3770441400.py:3: FutureWarning: Passing literal json to 'read_json' is deprecated and will be removed in a future version. To read from a literal string, wrap it in a 'StringIO' object.\n",
      "  pd.read_json(line).shape\n"
     ]
    },
    {
     "data": {
      "text/plain": [
       "(2, 12)"
      ]
     },
     "execution_count": 23,
     "metadata": {},
     "output_type": "execute_result"
    }
   ],
   "source": [
    "with open('recipeitems-latest.json') as f:\n",
    "    line = f.readline()\n",
    "pd.read_json(line).shape"
   ]
  },
  {
   "cell_type": "code",
   "execution_count": 32,
   "metadata": {
    "collapsed": true
   },
   "outputs": [
    {
     "name": "stderr",
     "output_type": "stream",
     "text": [
      "C:\\Users\\jerem\\AppData\\Local\\Temp\\ipykernel_8776\\943163239.py:8: FutureWarning: Passing literal json to 'read_json' is deprecated and will be removed in a future version. To read from a literal string, wrap it in a 'StringIO' object.\n",
      "  recipes = pd.read_json(data_json)\n"
     ]
    }
   ],
   "source": [
    "# read the entire file into a Python array\n",
    "with open('recipeitems-latest.json', 'r', encoding=\"utf8\") as f:\n",
    "    # Extract each line\n",
    "    data = (line.strip() for line in f)\n",
    "    # Reformat so each line is the element of a list\n",
    "    data_json = \"[{0}]\".format(','.join(data))\n",
    "# read the result as a JSON\n",
    "recipes = pd.read_json(data_json)"
   ]
  },
  {
   "cell_type": "code",
   "execution_count": 33,
   "metadata": {
    "collapsed": true
   },
   "outputs": [
    {
     "data": {
      "text/plain": [
       "(173278, 17)"
      ]
     },
     "execution_count": 33,
     "metadata": {},
     "output_type": "execute_result"
    }
   ],
   "source": [
    "recipes.shape"
   ]
  },
  {
   "cell_type": "code",
   "execution_count": 34,
   "metadata": {
    "collapsed": true
   },
   "outputs": [
    {
     "data": {
      "text/plain": [
       "_id                                {'$oid': '5160756b96cc62079cc2db15'}\n",
       "name                                    Drop Biscuits and Sausage Gravy\n",
       "ingredients           Biscuits\\n3 cups All-purpose Flour\\n2 Tablespo...\n",
       "url                   http://thepioneerwoman.com/cooking/2013/03/dro...\n",
       "image                 http://static.thepioneerwoman.com/cooking/file...\n",
       "ts                                             {'$date': 1365276011104}\n",
       "cookTime                                                          PT30M\n",
       "source                                                  thepioneerwoman\n",
       "recipeYield                                                          12\n",
       "datePublished                                                2013-03-11\n",
       "prepTime                                                          PT10M\n",
       "description           Late Saturday afternoon, after Marlboro Man ha...\n",
       "totalTime                                                           NaN\n",
       "creator                                                             NaN\n",
       "recipeCategory                                                      NaN\n",
       "dateModified                                                        NaN\n",
       "recipeInstructions                                                  NaN\n",
       "Name: 0, dtype: object"
      ]
     },
     "execution_count": 34,
     "metadata": {},
     "output_type": "execute_result"
    }
   ],
   "source": [
    "recipes.iloc[0]"
   ]
  },
  {
   "cell_type": "code",
   "execution_count": 35,
   "metadata": {
    "collapsed": true
   },
   "outputs": [
    {
     "data": {
      "text/plain": [
       "count    173278.000000\n",
       "mean        244.617926\n",
       "std         146.705285\n",
       "min           0.000000\n",
       "25%         147.000000\n",
       "50%         221.000000\n",
       "75%         314.000000\n",
       "max        9067.000000\n",
       "Name: ingredients, dtype: float64"
      ]
     },
     "execution_count": 35,
     "metadata": {},
     "output_type": "execute_result"
    }
   ],
   "source": [
    "recipes.ingredients.str.len().describe()"
   ]
  },
  {
   "cell_type": "code",
   "execution_count": 36,
   "metadata": {
    "collapsed": true
   },
   "outputs": [
    {
     "data": {
      "text/plain": [
       "'Carrot Pineapple Spice &amp; Brownie Layer Cake with Whipped Cream &amp; Cream Cheese Frosting and Marzipan Carrots'"
      ]
     },
     "execution_count": 36,
     "metadata": {},
     "output_type": "execute_result"
    }
   ],
   "source": [
    "recipes.name[np.argmax(recipes.ingredients.str.len())]"
   ]
  },
  {
   "cell_type": "code",
   "execution_count": 37,
   "metadata": {
    "collapsed": true
   },
   "outputs": [
    {
     "data": {
      "text/plain": [
       "3524"
      ]
     },
     "execution_count": 37,
     "metadata": {},
     "output_type": "execute_result"
    }
   ],
   "source": [
    "recipes.description.str.contains('[Bb]reakfast').sum()"
   ]
  },
  {
   "cell_type": "code",
   "execution_count": 38,
   "metadata": {
    "collapsed": true
   },
   "outputs": [
    {
     "data": {
      "text/plain": [
       "np.int64(10526)"
      ]
     },
     "execution_count": 38,
     "metadata": {},
     "output_type": "execute_result"
    }
   ],
   "source": [
    "recipes.ingredients.str.contains('[Cc]innamon').sum()"
   ]
  },
  {
   "cell_type": "code",
   "execution_count": 39,
   "metadata": {
    "collapsed": true
   },
   "outputs": [
    {
     "data": {
      "text/plain": [
       "np.int64(11)"
      ]
     },
     "execution_count": 39,
     "metadata": {},
     "output_type": "execute_result"
    }
   ],
   "source": [
    "recipes.ingredients.str.contains('[Cc]inamon').sum()"
   ]
  },
  {
   "cell_type": "markdown",
   "metadata": {},
   "source": [
    "#### A simple recipe recommender"
   ]
  },
  {
   "cell_type": "code",
   "execution_count": 40,
   "metadata": {
    "collapsed": true
   },
   "outputs": [],
   "source": [
    "spice_list = ['salt', 'pepper', 'oregano', 'sage', 'parsley',\n",
    "              'rosemary', 'tarragon', 'thyme', 'paprika', 'cumin']"
   ]
  },
  {
   "cell_type": "code",
   "execution_count": 41,
   "metadata": {
    "collapsed": true
   },
   "outputs": [
    {
     "data": {
      "text/html": [
       "<div>\n",
       "<style scoped>\n",
       "    .dataframe tbody tr th:only-of-type {\n",
       "        vertical-align: middle;\n",
       "    }\n",
       "\n",
       "    .dataframe tbody tr th {\n",
       "        vertical-align: top;\n",
       "    }\n",
       "\n",
       "    .dataframe thead th {\n",
       "        text-align: right;\n",
       "    }\n",
       "</style>\n",
       "<table border=\"1\" class=\"dataframe\">\n",
       "  <thead>\n",
       "    <tr style=\"text-align: right;\">\n",
       "      <th></th>\n",
       "      <th>salt</th>\n",
       "      <th>pepper</th>\n",
       "      <th>oregano</th>\n",
       "      <th>sage</th>\n",
       "      <th>parsley</th>\n",
       "      <th>rosemary</th>\n",
       "      <th>tarragon</th>\n",
       "      <th>thyme</th>\n",
       "      <th>paprika</th>\n",
       "      <th>cumin</th>\n",
       "    </tr>\n",
       "  </thead>\n",
       "  <tbody>\n",
       "    <tr>\n",
       "      <th>0</th>\n",
       "      <td>False</td>\n",
       "      <td>False</td>\n",
       "      <td>False</td>\n",
       "      <td>True</td>\n",
       "      <td>False</td>\n",
       "      <td>False</td>\n",
       "      <td>False</td>\n",
       "      <td>False</td>\n",
       "      <td>False</td>\n",
       "      <td>False</td>\n",
       "    </tr>\n",
       "    <tr>\n",
       "      <th>1</th>\n",
       "      <td>False</td>\n",
       "      <td>False</td>\n",
       "      <td>False</td>\n",
       "      <td>False</td>\n",
       "      <td>False</td>\n",
       "      <td>False</td>\n",
       "      <td>False</td>\n",
       "      <td>False</td>\n",
       "      <td>False</td>\n",
       "      <td>False</td>\n",
       "    </tr>\n",
       "    <tr>\n",
       "      <th>2</th>\n",
       "      <td>True</td>\n",
       "      <td>True</td>\n",
       "      <td>False</td>\n",
       "      <td>False</td>\n",
       "      <td>False</td>\n",
       "      <td>False</td>\n",
       "      <td>False</td>\n",
       "      <td>False</td>\n",
       "      <td>False</td>\n",
       "      <td>True</td>\n",
       "    </tr>\n",
       "    <tr>\n",
       "      <th>3</th>\n",
       "      <td>False</td>\n",
       "      <td>False</td>\n",
       "      <td>False</td>\n",
       "      <td>False</td>\n",
       "      <td>False</td>\n",
       "      <td>False</td>\n",
       "      <td>False</td>\n",
       "      <td>False</td>\n",
       "      <td>False</td>\n",
       "      <td>False</td>\n",
       "    </tr>\n",
       "    <tr>\n",
       "      <th>4</th>\n",
       "      <td>False</td>\n",
       "      <td>False</td>\n",
       "      <td>False</td>\n",
       "      <td>False</td>\n",
       "      <td>False</td>\n",
       "      <td>False</td>\n",
       "      <td>False</td>\n",
       "      <td>False</td>\n",
       "      <td>False</td>\n",
       "      <td>False</td>\n",
       "    </tr>\n",
       "  </tbody>\n",
       "</table>\n",
       "</div>"
      ],
      "text/plain": [
       "    salt  pepper  oregano   sage  parsley  rosemary  tarragon  thyme  paprika  \\\n",
       "0  False   False    False   True    False     False     False  False    False   \n",
       "1  False   False    False  False    False     False     False  False    False   \n",
       "2   True    True    False  False    False     False     False  False    False   \n",
       "3  False   False    False  False    False     False     False  False    False   \n",
       "4  False   False    False  False    False     False     False  False    False   \n",
       "\n",
       "   cumin  \n",
       "0  False  \n",
       "1  False  \n",
       "2   True  \n",
       "3  False  \n",
       "4  False  "
      ]
     },
     "execution_count": 41,
     "metadata": {},
     "output_type": "execute_result"
    }
   ],
   "source": [
    "import re\n",
    "spice_df = pd.DataFrame(dict((spice, recipes.ingredients.str.contains(spice, re.IGNORECASE))\n",
    "                             for spice in spice_list))\n",
    "spice_df.head()"
   ]
  },
  {
   "cell_type": "code",
   "execution_count": 42,
   "metadata": {
    "collapsed": true
   },
   "outputs": [
    {
     "data": {
      "text/plain": [
       "10"
      ]
     },
     "execution_count": 42,
     "metadata": {},
     "output_type": "execute_result"
    }
   ],
   "source": [
    "selection = spice_df.query('parsley & paprika & tarragon')\n",
    "len(selection)"
   ]
  },
  {
   "cell_type": "code",
   "execution_count": 43,
   "metadata": {
    "collapsed": true
   },
   "outputs": [
    {
     "data": {
      "text/plain": [
       "2069      All cremat with a Little Gem, dandelion and wa...\n",
       "74964                         Lobster with Thermidor butter\n",
       "93768      Burton's Southern Fried Chicken with White Gravy\n",
       "113926                     Mijo's Slow Cooker Shredded Beef\n",
       "137686                     Asparagus Soup with Poached Eggs\n",
       "140530                                 Fried Oyster Po’boys\n",
       "158475                Lamb shank tagine with herb tabbouleh\n",
       "158486                 Southern fried chicken in buttermilk\n",
       "163175            Fried Chicken Sliders with Pickles + Slaw\n",
       "165243                        Bar Tartine Cauliflower Salad\n",
       "Name: name, dtype: object"
      ]
     },
     "execution_count": 43,
     "metadata": {},
     "output_type": "execute_result"
    }
   ],
   "source": [
    "recipes.name[selection.index]"
   ]
  },
  {
   "cell_type": "markdown",
   "metadata": {},
   "source": [
    "---\n",
    "\n",
    "## Working with Time Series\n",
    "\n",
    "[Chapter/section link](https://nbviewer.jupyter.org/urls/bitbucket.org/dogwynn/pythondatasciencehandbook/raw/master/notebooks/03.11-Working-with-Time-Series.ipynb)\n",
    "\n",
    "### Dates and Times in Python\n",
    "\n",
    "#### Native Python dates and times: `datetime` and `dateutil`"
   ]
  },
  {
   "cell_type": "code",
   "execution_count": 44,
   "metadata": {
    "collapsed": true
   },
   "outputs": [
    {
     "data": {
      "text/plain": [
       "datetime.datetime(2015, 7, 4, 0, 0)"
      ]
     },
     "execution_count": 44,
     "metadata": {},
     "output_type": "execute_result"
    }
   ],
   "source": [
    "from datetime import datetime\n",
    "datetime(year=2015, month=7, day=4)"
   ]
  },
  {
   "cell_type": "code",
   "execution_count": 45,
   "metadata": {
    "collapsed": true
   },
   "outputs": [
    {
     "data": {
      "text/plain": [
       "datetime.datetime(2015, 7, 4, 0, 0)"
      ]
     },
     "execution_count": 45,
     "metadata": {},
     "output_type": "execute_result"
    }
   ],
   "source": [
    "from dateutil import parser\n",
    "date = parser.parse(\"4th of July, 2015\")\n",
    "date"
   ]
  },
  {
   "cell_type": "code",
   "execution_count": 46,
   "metadata": {
    "collapsed": true
   },
   "outputs": [
    {
     "data": {
      "text/plain": [
       "'Saturday'"
      ]
     },
     "execution_count": 46,
     "metadata": {},
     "output_type": "execute_result"
    }
   ],
   "source": [
    "date.strftime('%A')"
   ]
  },
  {
   "cell_type": "markdown",
   "metadata": {},
   "source": [
    "#### Typed arrays of times: NumPy's `datetime64`"
   ]
  },
  {
   "cell_type": "code",
   "execution_count": 47,
   "metadata": {
    "collapsed": true
   },
   "outputs": [
    {
     "data": {
      "text/plain": [
       "array('2015-07-04', dtype='datetime64[D]')"
      ]
     },
     "execution_count": 47,
     "metadata": {},
     "output_type": "execute_result"
    }
   ],
   "source": [
    "import numpy as np\n",
    "date = np.array('2015-07-04', dtype=np.datetime64)\n",
    "date"
   ]
  },
  {
   "cell_type": "code",
   "execution_count": 48,
   "metadata": {
    "collapsed": true
   },
   "outputs": [
    {
     "data": {
      "text/plain": [
       "array(['2015-07-04', '2015-07-05', '2015-07-06', '2015-07-07',\n",
       "       '2015-07-08', '2015-07-09', '2015-07-10', '2015-07-11',\n",
       "       '2015-07-12', '2015-07-13', '2015-07-14', '2015-07-15'],\n",
       "      dtype='datetime64[D]')"
      ]
     },
     "execution_count": 48,
     "metadata": {},
     "output_type": "execute_result"
    }
   ],
   "source": [
    "date + np.arange(12)"
   ]
  },
  {
   "cell_type": "code",
   "execution_count": 49,
   "metadata": {
    "collapsed": true
   },
   "outputs": [
    {
     "data": {
      "text/plain": [
       "np.datetime64('2015-07-04')"
      ]
     },
     "execution_count": 49,
     "metadata": {},
     "output_type": "execute_result"
    }
   ],
   "source": [
    "np.datetime64('2015-07-04')"
   ]
  },
  {
   "cell_type": "code",
   "execution_count": 50,
   "metadata": {
    "collapsed": true
   },
   "outputs": [
    {
     "data": {
      "text/plain": [
       "np.datetime64('2015-07-04T12:00')"
      ]
     },
     "execution_count": 50,
     "metadata": {},
     "output_type": "execute_result"
    }
   ],
   "source": [
    "np.datetime64('2015-07-04 12:00')"
   ]
  },
  {
   "cell_type": "code",
   "execution_count": 51,
   "metadata": {
    "collapsed": true
   },
   "outputs": [
    {
     "data": {
      "text/plain": [
       "np.datetime64('2015-07-04T12:59:59.500000000')"
      ]
     },
     "execution_count": 51,
     "metadata": {},
     "output_type": "execute_result"
    }
   ],
   "source": [
    "np.datetime64('2015-07-04 12:59:59.50', 'ns')"
   ]
  },
  {
   "cell_type": "markdown",
   "metadata": {},
   "source": [
    "#### Dates and times in pandas: best of both worlds"
   ]
  },
  {
   "cell_type": "code",
   "execution_count": 52,
   "metadata": {
    "collapsed": true
   },
   "outputs": [
    {
     "data": {
      "text/plain": [
       "Timestamp('2015-07-04 00:00:00')"
      ]
     },
     "execution_count": 52,
     "metadata": {},
     "output_type": "execute_result"
    }
   ],
   "source": [
    "import pandas as pd\n",
    "date = pd.to_datetime(\"4th of July, 2015\")\n",
    "date"
   ]
  },
  {
   "cell_type": "code",
   "execution_count": 53,
   "metadata": {
    "collapsed": true
   },
   "outputs": [
    {
     "data": {
      "text/plain": [
       "'Saturday'"
      ]
     },
     "execution_count": 53,
     "metadata": {},
     "output_type": "execute_result"
    }
   ],
   "source": [
    "date.strftime('%A')"
   ]
  },
  {
   "cell_type": "code",
   "execution_count": 54,
   "metadata": {
    "collapsed": true
   },
   "outputs": [
    {
     "data": {
      "text/plain": [
       "DatetimeIndex(['2015-07-04', '2015-07-05', '2015-07-06', '2015-07-07',\n",
       "               '2015-07-08', '2015-07-09', '2015-07-10', '2015-07-11',\n",
       "               '2015-07-12', '2015-07-13', '2015-07-14', '2015-07-15'],\n",
       "              dtype='datetime64[ns]', freq=None)"
      ]
     },
     "execution_count": 54,
     "metadata": {},
     "output_type": "execute_result"
    }
   ],
   "source": [
    "date + pd.to_timedelta(np.arange(12), 'D')"
   ]
  },
  {
   "cell_type": "markdown",
   "metadata": {},
   "source": [
    "### Pandas Time Series: Indexing by Time"
   ]
  },
  {
   "cell_type": "code",
   "execution_count": 55,
   "metadata": {
    "collapsed": true
   },
   "outputs": [
    {
     "data": {
      "text/plain": [
       "2014-07-04    0\n",
       "2014-08-04    1\n",
       "2015-07-04    2\n",
       "2015-08-04    3\n",
       "dtype: int64"
      ]
     },
     "execution_count": 55,
     "metadata": {},
     "output_type": "execute_result"
    }
   ],
   "source": [
    "index = pd.DatetimeIndex(['2014-07-04', '2014-08-04',\n",
    "                          '2015-07-04', '2015-08-04'])\n",
    "data = pd.Series([0, 1, 2, 3], index=index)\n",
    "data"
   ]
  },
  {
   "cell_type": "code",
   "execution_count": 56,
   "metadata": {
    "collapsed": true
   },
   "outputs": [
    {
     "data": {
      "text/plain": [
       "2014-07-04    0\n",
       "2014-08-04    1\n",
       "2015-07-04    2\n",
       "dtype: int64"
      ]
     },
     "execution_count": 56,
     "metadata": {},
     "output_type": "execute_result"
    }
   ],
   "source": [
    "data['2014-07-04':'2015-07-04']"
   ]
  },
  {
   "cell_type": "code",
   "execution_count": 57,
   "metadata": {
    "collapsed": true
   },
   "outputs": [
    {
     "data": {
      "text/plain": [
       "2015-07-04    2\n",
       "2015-08-04    3\n",
       "dtype: int64"
      ]
     },
     "execution_count": 57,
     "metadata": {},
     "output_type": "execute_result"
    }
   ],
   "source": [
    "data['2015']"
   ]
  },
  {
   "cell_type": "markdown",
   "metadata": {},
   "source": [
    "### Pandas Time Series Data Structures"
   ]
  },
  {
   "cell_type": "code",
   "execution_count": 58,
   "metadata": {
    "collapsed": true
   },
   "outputs": [
    {
     "data": {
      "text/plain": [
       "DatetimeIndex(['2015-07-03', '2015-07-04', '2015-07-06', '2015-07-07',\n",
       "               '2015-07-08'],\n",
       "              dtype='datetime64[ns]', freq=None)"
      ]
     },
     "execution_count": 58,
     "metadata": {},
     "output_type": "execute_result"
    }
   ],
   "source": [
    "dates = pd.to_datetime([datetime(2015, 7, 3), '4th of July, 2015',\n",
    "                       '2015-Jul-6', '07-07-2015', '20150708'])\n",
    "dates"
   ]
  },
  {
   "cell_type": "code",
   "execution_count": 59,
   "metadata": {
    "collapsed": true
   },
   "outputs": [
    {
     "data": {
      "text/plain": [
       "PeriodIndex(['2015-07-03', '2015-07-04', '2015-07-06', '2015-07-07',\n",
       "             '2015-07-08'],\n",
       "            dtype='period[D]')"
      ]
     },
     "execution_count": 59,
     "metadata": {},
     "output_type": "execute_result"
    }
   ],
   "source": [
    "dates.to_period('D')"
   ]
  },
  {
   "cell_type": "code",
   "execution_count": 60,
   "metadata": {
    "collapsed": true
   },
   "outputs": [
    {
     "data": {
      "text/plain": [
       "TimedeltaIndex(['0 days', '1 days', '3 days', '4 days', '5 days'], dtype='timedelta64[ns]', freq=None)"
      ]
     },
     "execution_count": 60,
     "metadata": {},
     "output_type": "execute_result"
    }
   ],
   "source": [
    "dates - dates[0]"
   ]
  },
  {
   "cell_type": "markdown",
   "metadata": {},
   "source": [
    "#### Regular sequences: `pd.date_range()`"
   ]
  },
  {
   "cell_type": "code",
   "execution_count": 61,
   "metadata": {
    "collapsed": true
   },
   "outputs": [
    {
     "data": {
      "text/plain": [
       "DatetimeIndex(['2015-07-03', '2015-07-04', '2015-07-05', '2015-07-06',\n",
       "               '2015-07-07', '2015-07-08', '2015-07-09', '2015-07-10'],\n",
       "              dtype='datetime64[ns]', freq='D')"
      ]
     },
     "execution_count": 61,
     "metadata": {},
     "output_type": "execute_result"
    }
   ],
   "source": [
    "pd.date_range('2015-07-03', '2015-07-10')"
   ]
  },
  {
   "cell_type": "code",
   "execution_count": 62,
   "metadata": {
    "collapsed": true
   },
   "outputs": [
    {
     "data": {
      "text/plain": [
       "DatetimeIndex(['2015-07-03', '2015-07-04', '2015-07-05', '2015-07-06',\n",
       "               '2015-07-07', '2015-07-08', '2015-07-09', '2015-07-10'],\n",
       "              dtype='datetime64[ns]', freq='D')"
      ]
     },
     "execution_count": 62,
     "metadata": {},
     "output_type": "execute_result"
    }
   ],
   "source": [
    "pd.date_range('2015-07-03', periods=8)"
   ]
  },
  {
   "cell_type": "code",
   "execution_count": 63,
   "metadata": {
    "collapsed": true
   },
   "outputs": [
    {
     "name": "stderr",
     "output_type": "stream",
     "text": [
      "C:\\Users\\jerem\\AppData\\Local\\Temp\\ipykernel_8776\\3521404607.py:1: FutureWarning: 'H' is deprecated and will be removed in a future version, please use 'h' instead.\n",
      "  pd.date_range('2015-07-03', periods=8, freq='H')\n"
     ]
    },
    {
     "data": {
      "text/plain": [
       "DatetimeIndex(['2015-07-03 00:00:00', '2015-07-03 01:00:00',\n",
       "               '2015-07-03 02:00:00', '2015-07-03 03:00:00',\n",
       "               '2015-07-03 04:00:00', '2015-07-03 05:00:00',\n",
       "               '2015-07-03 06:00:00', '2015-07-03 07:00:00'],\n",
       "              dtype='datetime64[ns]', freq='h')"
      ]
     },
     "execution_count": 63,
     "metadata": {},
     "output_type": "execute_result"
    }
   ],
   "source": [
    "pd.date_range('2015-07-03', periods=8, freq='H')"
   ]
  },
  {
   "cell_type": "code",
   "execution_count": 64,
   "metadata": {
    "collapsed": true
   },
   "outputs": [
    {
     "data": {
      "text/plain": [
       "PeriodIndex(['2015-07', '2015-08', '2015-09', '2015-10', '2015-11', '2015-12',\n",
       "             '2016-01', '2016-02'],\n",
       "            dtype='period[M]')"
      ]
     },
     "execution_count": 64,
     "metadata": {},
     "output_type": "execute_result"
    }
   ],
   "source": [
    "pd.period_range('2015-07', periods=8, freq='M')"
   ]
  },
  {
   "cell_type": "code",
   "execution_count": 65,
   "metadata": {
    "collapsed": true
   },
   "outputs": [
    {
     "name": "stderr",
     "output_type": "stream",
     "text": [
      "C:\\Users\\jerem\\AppData\\Local\\Temp\\ipykernel_8776\\3928887474.py:1: FutureWarning: 'H' is deprecated and will be removed in a future version, please use 'h' instead.\n",
      "  pd.timedelta_range(0, periods=10, freq='H')\n"
     ]
    },
    {
     "data": {
      "text/plain": [
       "TimedeltaIndex(['0 days 00:00:00', '0 days 01:00:00', '0 days 02:00:00',\n",
       "                '0 days 03:00:00', '0 days 04:00:00', '0 days 05:00:00',\n",
       "                '0 days 06:00:00', '0 days 07:00:00', '0 days 08:00:00',\n",
       "                '0 days 09:00:00'],\n",
       "               dtype='timedelta64[ns]', freq='h')"
      ]
     },
     "execution_count": 65,
     "metadata": {},
     "output_type": "execute_result"
    }
   ],
   "source": [
    "pd.timedelta_range(0, periods=10, freq='H')"
   ]
  },
  {
   "cell_type": "markdown",
   "metadata": {},
   "source": [
    "### Frequencies and Offsets"
   ]
  },
  {
   "cell_type": "code",
   "execution_count": 66,
   "metadata": {
    "collapsed": true
   },
   "outputs": [
    {
     "name": "stderr",
     "output_type": "stream",
     "text": [
      "C:\\Users\\jerem\\AppData\\Local\\Temp\\ipykernel_8776\\2180289880.py:1: FutureWarning: 'H' is deprecated and will be removed in a future version, please use 'h' instead.\n",
      "  pd.timedelta_range(0, periods=9, freq=\"2H30T\")\n",
      "C:\\Users\\jerem\\AppData\\Local\\Temp\\ipykernel_8776\\2180289880.py:1: FutureWarning: 'T' is deprecated and will be removed in a future version, please use 'min' instead.\n",
      "  pd.timedelta_range(0, periods=9, freq=\"2H30T\")\n"
     ]
    },
    {
     "data": {
      "text/plain": [
       "TimedeltaIndex(['0 days 00:00:00', '0 days 02:30:00', '0 days 05:00:00',\n",
       "                '0 days 07:30:00', '0 days 10:00:00', '0 days 12:30:00',\n",
       "                '0 days 15:00:00', '0 days 17:30:00', '0 days 20:00:00'],\n",
       "               dtype='timedelta64[ns]', freq='150min')"
      ]
     },
     "execution_count": 66,
     "metadata": {},
     "output_type": "execute_result"
    }
   ],
   "source": [
    "pd.timedelta_range(0, periods=9, freq=\"2H30T\")"
   ]
  },
  {
   "cell_type": "code",
   "execution_count": 67,
   "metadata": {
    "collapsed": true
   },
   "outputs": [
    {
     "data": {
      "text/plain": [
       "DatetimeIndex(['2015-07-01', '2015-07-02', '2015-07-03', '2015-07-06',\n",
       "               '2015-07-07'],\n",
       "              dtype='datetime64[ns]', freq='B')"
      ]
     },
     "execution_count": 67,
     "metadata": {},
     "output_type": "execute_result"
    }
   ],
   "source": [
    "from pandas.tseries.offsets import BDay\n",
    "pd.date_range('2015-07-01', periods=5, freq=BDay())"
   ]
  },
  {
   "cell_type": "markdown",
   "metadata": {},
   "source": [
    "### Resampling, Shifting, and Windowing\n",
    "\n",
    "You'll need to install a third-party package, `pandas-datareader`, before executing the code in this section."
   ]
  },
  {
   "cell_type": "code",
   "execution_count": 78,
   "metadata": {
    "collapsed": true
   },
   "outputs": [
    {
     "name": "stderr",
     "output_type": "stream",
     "text": [
      "'conda' is not recognized as an internal or external command,\n",
      "operable program or batch file.\n"
     ]
    },
    {
     "ename": "AttributeError",
     "evalue": "'NoneType' object has no attribute 'group'",
     "output_type": "error",
     "traceback": [
      "\u001b[1;31m---------------------------------------------------------------------------\u001b[0m",
      "\u001b[1;31mAttributeError\u001b[0m                            Traceback (most recent call last)",
      "Cell \u001b[1;32mIn[78], line 4\u001b[0m\n\u001b[0;32m      1\u001b[0m get_ipython()\u001b[38;5;241m.\u001b[39msystem(\u001b[38;5;124m'\u001b[39m\u001b[38;5;124mconda install pandas-datareader\u001b[39m\u001b[38;5;124m'\u001b[39m)\n\u001b[0;32m      2\u001b[0m \u001b[38;5;28;01mfrom\u001b[39;00m \u001b[38;5;21;01mpandas_datareader\u001b[39;00m \u001b[38;5;28;01mimport\u001b[39;00m data\n\u001b[1;32m----> 4\u001b[0m yahoo \u001b[38;5;241m=\u001b[39m \u001b[43mdata\u001b[49m\u001b[38;5;241;43m.\u001b[39;49m\u001b[43mDataReader\u001b[49m\u001b[43m(\u001b[49m\u001b[38;5;124;43m'\u001b[39;49m\u001b[38;5;124;43mYahoo\u001b[39;49m\u001b[38;5;124;43m'\u001b[39;49m\u001b[43m,\u001b[49m\u001b[43m \u001b[49m\u001b[43mstart\u001b[49m\u001b[38;5;241;43m=\u001b[39;49m\u001b[38;5;124;43m'\u001b[39;49m\u001b[38;5;124;43m2004\u001b[39;49m\u001b[38;5;124;43m'\u001b[39;49m\u001b[43m,\u001b[49m\u001b[43m \u001b[49m\u001b[43mend\u001b[49m\u001b[38;5;241;43m=\u001b[39;49m\u001b[38;5;124;43m'\u001b[39;49m\u001b[38;5;124;43m2016\u001b[39;49m\u001b[38;5;124;43m'\u001b[39;49m\u001b[43m,\u001b[49m\n\u001b[0;32m      5\u001b[0m \u001b[43m                       \u001b[49m\u001b[43mdata_source\u001b[49m\u001b[38;5;241;43m=\u001b[39;49m\u001b[38;5;124;43m'\u001b[39;49m\u001b[38;5;124;43myahoo\u001b[39;49m\u001b[38;5;124;43m'\u001b[39;49m\u001b[43m)\u001b[49m\n\u001b[0;32m      6\u001b[0m yahoo\u001b[38;5;241m.\u001b[39mhead()\n",
      "File \u001b[1;32m~\\AppData\\Local\\Packages\\PythonSoftwareFoundation.Python.3.10_qbz5n2kfra8p0\\LocalCache\\local-packages\\Python310\\site-packages\\pandas\\util\\_decorators.py:213\u001b[0m, in \u001b[0;36mdeprecate_kwarg.<locals>._deprecate_kwarg.<locals>.wrapper\u001b[1;34m(*args, **kwargs)\u001b[0m\n\u001b[0;32m    211\u001b[0m         \u001b[38;5;28;01mraise\u001b[39;00m \u001b[38;5;167;01mTypeError\u001b[39;00m(msg)\n\u001b[0;32m    212\u001b[0m     kwargs[new_arg_name] \u001b[38;5;241m=\u001b[39m new_arg_value\n\u001b[1;32m--> 213\u001b[0m \u001b[38;5;28;01mreturn\u001b[39;00m func(\u001b[38;5;241m*\u001b[39margs, \u001b[38;5;241m*\u001b[39m\u001b[38;5;241m*\u001b[39mkwargs)\n",
      "File \u001b[1;32m~\\AppData\\Local\\Packages\\PythonSoftwareFoundation.Python.3.10_qbz5n2kfra8p0\\LocalCache\\local-packages\\Python310\\site-packages\\pandas_datareader\\data.py:379\u001b[0m, in \u001b[0;36mDataReader\u001b[1;34m(name, data_source, start, end, retry_count, pause, session, api_key)\u001b[0m\n\u001b[0;32m    367\u001b[0m     \u001b[38;5;28;01mraise\u001b[39;00m \u001b[38;5;167;01mNotImplementedError\u001b[39;00m(msg)\n\u001b[0;32m    369\u001b[0m \u001b[38;5;28;01mif\u001b[39;00m data_source \u001b[38;5;241m==\u001b[39m \u001b[38;5;124m\"\u001b[39m\u001b[38;5;124myahoo\u001b[39m\u001b[38;5;124m\"\u001b[39m:\n\u001b[0;32m    370\u001b[0m     \u001b[38;5;28;01mreturn\u001b[39;00m \u001b[43mYahooDailyReader\u001b[49m\u001b[43m(\u001b[49m\n\u001b[0;32m    371\u001b[0m \u001b[43m        \u001b[49m\u001b[43msymbols\u001b[49m\u001b[38;5;241;43m=\u001b[39;49m\u001b[43mname\u001b[49m\u001b[43m,\u001b[49m\n\u001b[0;32m    372\u001b[0m \u001b[43m        \u001b[49m\u001b[43mstart\u001b[49m\u001b[38;5;241;43m=\u001b[39;49m\u001b[43mstart\u001b[49m\u001b[43m,\u001b[49m\n\u001b[0;32m    373\u001b[0m \u001b[43m        \u001b[49m\u001b[43mend\u001b[49m\u001b[38;5;241;43m=\u001b[39;49m\u001b[43mend\u001b[49m\u001b[43m,\u001b[49m\n\u001b[0;32m    374\u001b[0m \u001b[43m        \u001b[49m\u001b[43madjust_price\u001b[49m\u001b[38;5;241;43m=\u001b[39;49m\u001b[38;5;28;43;01mFalse\u001b[39;49;00m\u001b[43m,\u001b[49m\n\u001b[0;32m    375\u001b[0m \u001b[43m        \u001b[49m\u001b[43mchunksize\u001b[49m\u001b[38;5;241;43m=\u001b[39;49m\u001b[38;5;241;43m25\u001b[39;49m\u001b[43m,\u001b[49m\n\u001b[0;32m    376\u001b[0m \u001b[43m        \u001b[49m\u001b[43mretry_count\u001b[49m\u001b[38;5;241;43m=\u001b[39;49m\u001b[43mretry_count\u001b[49m\u001b[43m,\u001b[49m\n\u001b[0;32m    377\u001b[0m \u001b[43m        \u001b[49m\u001b[43mpause\u001b[49m\u001b[38;5;241;43m=\u001b[39;49m\u001b[43mpause\u001b[49m\u001b[43m,\u001b[49m\n\u001b[0;32m    378\u001b[0m \u001b[43m        \u001b[49m\u001b[43msession\u001b[49m\u001b[38;5;241;43m=\u001b[39;49m\u001b[43msession\u001b[49m\u001b[43m,\u001b[49m\n\u001b[1;32m--> 379\u001b[0m \u001b[43m    \u001b[49m\u001b[43m)\u001b[49m\u001b[38;5;241;43m.\u001b[39;49m\u001b[43mread\u001b[49m\u001b[43m(\u001b[49m\u001b[43m)\u001b[49m\n\u001b[0;32m    381\u001b[0m \u001b[38;5;28;01melif\u001b[39;00m data_source \u001b[38;5;241m==\u001b[39m \u001b[38;5;124m\"\u001b[39m\u001b[38;5;124miex\u001b[39m\u001b[38;5;124m\"\u001b[39m:\n\u001b[0;32m    382\u001b[0m     \u001b[38;5;28;01mreturn\u001b[39;00m IEXDailyReader(\n\u001b[0;32m    383\u001b[0m         symbols\u001b[38;5;241m=\u001b[39mname,\n\u001b[0;32m    384\u001b[0m         start\u001b[38;5;241m=\u001b[39mstart,\n\u001b[1;32m   (...)\u001b[0m\n\u001b[0;32m    390\u001b[0m         session\u001b[38;5;241m=\u001b[39msession,\n\u001b[0;32m    391\u001b[0m     )\u001b[38;5;241m.\u001b[39mread()\n",
      "File \u001b[1;32m~\\AppData\\Local\\Packages\\PythonSoftwareFoundation.Python.3.10_qbz5n2kfra8p0\\LocalCache\\local-packages\\Python310\\site-packages\\pandas_datareader\\base.py:253\u001b[0m, in \u001b[0;36m_DailyBaseReader.read\u001b[1;34m(self)\u001b[0m\n\u001b[0;32m    251\u001b[0m \u001b[38;5;66;03m# If a single symbol, (e.g., 'GOOG')\u001b[39;00m\n\u001b[0;32m    252\u001b[0m \u001b[38;5;28;01mif\u001b[39;00m \u001b[38;5;28misinstance\u001b[39m(\u001b[38;5;28mself\u001b[39m\u001b[38;5;241m.\u001b[39msymbols, (string_types, \u001b[38;5;28mint\u001b[39m)):\n\u001b[1;32m--> 253\u001b[0m     df \u001b[38;5;241m=\u001b[39m \u001b[38;5;28;43mself\u001b[39;49m\u001b[38;5;241;43m.\u001b[39;49m\u001b[43m_read_one_data\u001b[49m\u001b[43m(\u001b[49m\u001b[38;5;28;43mself\u001b[39;49m\u001b[38;5;241;43m.\u001b[39;49m\u001b[43murl\u001b[49m\u001b[43m,\u001b[49m\u001b[43m \u001b[49m\u001b[43mparams\u001b[49m\u001b[38;5;241;43m=\u001b[39;49m\u001b[38;5;28;43mself\u001b[39;49m\u001b[38;5;241;43m.\u001b[39;49m\u001b[43m_get_params\u001b[49m\u001b[43m(\u001b[49m\u001b[38;5;28;43mself\u001b[39;49m\u001b[38;5;241;43m.\u001b[39;49m\u001b[43msymbols\u001b[49m\u001b[43m)\u001b[49m\u001b[43m)\u001b[49m\n\u001b[0;32m    254\u001b[0m \u001b[38;5;66;03m# Or multiple symbols, (e.g., ['GOOG', 'AAPL', 'MSFT'])\u001b[39;00m\n\u001b[0;32m    255\u001b[0m \u001b[38;5;28;01melif\u001b[39;00m \u001b[38;5;28misinstance\u001b[39m(\u001b[38;5;28mself\u001b[39m\u001b[38;5;241m.\u001b[39msymbols, DataFrame):\n",
      "File \u001b[1;32m~\\AppData\\Local\\Packages\\PythonSoftwareFoundation.Python.3.10_qbz5n2kfra8p0\\LocalCache\\local-packages\\Python310\\site-packages\\pandas_datareader\\yahoo\\daily.py:152\u001b[0m, in \u001b[0;36mYahooDailyReader._read_one_data\u001b[1;34m(self, url, params)\u001b[0m\n\u001b[0;32m    150\u001b[0m ptrn \u001b[38;5;241m=\u001b[39m \u001b[38;5;124mr\u001b[39m\u001b[38;5;124m\"\u001b[39m\u001b[38;5;124mroot\u001b[39m\u001b[38;5;124m\\\u001b[39m\u001b[38;5;124m.App\u001b[39m\u001b[38;5;124m\\\u001b[39m\u001b[38;5;124m.main = (.*?);\u001b[39m\u001b[38;5;124m\\\u001b[39m\u001b[38;5;124mn}\u001b[39m\u001b[38;5;124m\\\u001b[39m\u001b[38;5;124m(this\u001b[39m\u001b[38;5;124m\\\u001b[39m\u001b[38;5;124m)\u001b[39m\u001b[38;5;124m\\\u001b[39m\u001b[38;5;124m);\u001b[39m\u001b[38;5;124m\"\u001b[39m\n\u001b[0;32m    151\u001b[0m \u001b[38;5;28;01mtry\u001b[39;00m:\n\u001b[1;32m--> 152\u001b[0m     j \u001b[38;5;241m=\u001b[39m json\u001b[38;5;241m.\u001b[39mloads(\u001b[43mre\u001b[49m\u001b[38;5;241;43m.\u001b[39;49m\u001b[43msearch\u001b[49m\u001b[43m(\u001b[49m\u001b[43mptrn\u001b[49m\u001b[43m,\u001b[49m\u001b[43m \u001b[49m\u001b[43mresp\u001b[49m\u001b[38;5;241;43m.\u001b[39;49m\u001b[43mtext\u001b[49m\u001b[43m,\u001b[49m\u001b[43m \u001b[49m\u001b[43mre\u001b[49m\u001b[38;5;241;43m.\u001b[39;49m\u001b[43mDOTALL\u001b[49m\u001b[43m)\u001b[49m\u001b[38;5;241;43m.\u001b[39;49m\u001b[43mgroup\u001b[49m(\u001b[38;5;241m1\u001b[39m))\n\u001b[0;32m    153\u001b[0m     data \u001b[38;5;241m=\u001b[39m j[\u001b[38;5;124m\"\u001b[39m\u001b[38;5;124mcontext\u001b[39m\u001b[38;5;124m\"\u001b[39m][\u001b[38;5;124m\"\u001b[39m\u001b[38;5;124mdispatcher\u001b[39m\u001b[38;5;124m\"\u001b[39m][\u001b[38;5;124m\"\u001b[39m\u001b[38;5;124mstores\u001b[39m\u001b[38;5;124m\"\u001b[39m][\u001b[38;5;124m\"\u001b[39m\u001b[38;5;124mHistoricalPriceStore\u001b[39m\u001b[38;5;124m\"\u001b[39m]\n\u001b[0;32m    154\u001b[0m \u001b[38;5;28;01mexcept\u001b[39;00m \u001b[38;5;167;01mKeyError\u001b[39;00m:\n",
      "\u001b[1;31mAttributeError\u001b[0m: 'NoneType' object has no attribute 'group'"
     ]
    }
   ],
   "source": []
  },
  {
   "cell_type": "code",
   "execution_count": null,
   "metadata": {
    "collapsed": true
   },
   "outputs": [],
   "source": []
  },
  {
   "cell_type": "code",
   "execution_count": null,
   "metadata": {
    "collapsed": true
   },
   "outputs": [],
   "source": []
  },
  {
   "cell_type": "code",
   "execution_count": null,
   "metadata": {
    "collapsed": true
   },
   "outputs": [],
   "source": []
  },
  {
   "cell_type": "code",
   "execution_count": null,
   "metadata": {
    "collapsed": true
   },
   "outputs": [],
   "source": []
  },
  {
   "cell_type": "markdown",
   "metadata": {},
   "source": [
    "#### Resampling and converting frequencies"
   ]
  },
  {
   "cell_type": "code",
   "execution_count": null,
   "metadata": {
    "collapsed": true
   },
   "outputs": [],
   "source": []
  },
  {
   "cell_type": "code",
   "execution_count": null,
   "metadata": {
    "collapsed": true
   },
   "outputs": [],
   "source": []
  },
  {
   "cell_type": "markdown",
   "metadata": {},
   "source": [
    "#### Time-shifts"
   ]
  },
  {
   "cell_type": "code",
   "execution_count": null,
   "metadata": {
    "collapsed": true
   },
   "outputs": [],
   "source": []
  },
  {
   "cell_type": "code",
   "execution_count": null,
   "metadata": {
    "collapsed": true
   },
   "outputs": [],
   "source": []
  },
  {
   "cell_type": "markdown",
   "metadata": {},
   "source": [
    "#### Rolling windows"
   ]
  },
  {
   "cell_type": "code",
   "execution_count": null,
   "metadata": {
    "collapsed": true
   },
   "outputs": [],
   "source": []
  },
  {
   "cell_type": "markdown",
   "metadata": {},
   "source": [
    "### Example: Visualizing Seattle Bicycle Counts\n",
    "\n",
    "Type and execute the following code to load the `FremontBridge.csv` dataset:\n",
    "\n",
    "```python\n",
    "import gzip\n",
    "import urllib.request\n",
    "from pathlib import Path\n",
    "response = urllib.request.urlopen('https://belhavencs.nyc3.digitaloceanspaces.com/csc311/FremontBridge.csv')\n",
    "Path('FremontBridge.csv').write_bytes(response.read())\n",
    "```"
   ]
  },
  {
   "cell_type": "code",
   "execution_count": 79,
   "metadata": {
    "collapsed": true
   },
   "outputs": [
    {
     "data": {
      "text/plain": [
       "1237323"
      ]
     },
     "execution_count": 79,
     "metadata": {},
     "output_type": "execute_result"
    }
   ],
   "source": [
    "import gzip\n",
    "import urllib.request\n",
    "from pathlib import Path\n",
    "response = urllib.request.urlopen('https://belhavencs.nyc3.digitaloceanspaces.com/csc311/FremontBridge.csv')\n",
    "Path('FremontBridge.csv').write_bytes(response.read())"
   ]
  },
  {
   "cell_type": "code",
   "execution_count": 81,
   "metadata": {
    "collapsed": true
   },
   "outputs": [
    {
     "name": "stderr",
     "output_type": "stream",
     "text": [
      "C:\\Users\\jerem\\AppData\\Local\\Temp\\ipykernel_8776\\107446932.py:1: UserWarning: Could not infer format, so each element will be parsed individually, falling back to `dateutil`. To ensure parsing is consistent and as-expected, please specify a format.\n",
      "  data = pd.read_csv('FremontBridge.csv', index_col='Date', parse_dates=True)\n"
     ]
    },
    {
     "data": {
      "text/html": [
       "<div>\n",
       "<style scoped>\n",
       "    .dataframe tbody tr th:only-of-type {\n",
       "        vertical-align: middle;\n",
       "    }\n",
       "\n",
       "    .dataframe tbody tr th {\n",
       "        vertical-align: top;\n",
       "    }\n",
       "\n",
       "    .dataframe thead th {\n",
       "        text-align: right;\n",
       "    }\n",
       "</style>\n",
       "<table border=\"1\" class=\"dataframe\">\n",
       "  <thead>\n",
       "    <tr style=\"text-align: right;\">\n",
       "      <th></th>\n",
       "      <th>Fremont Bridge West Sidewalk</th>\n",
       "      <th>Fremont Bridge East Sidewalk</th>\n",
       "    </tr>\n",
       "    <tr>\n",
       "      <th>Date</th>\n",
       "      <th></th>\n",
       "      <th></th>\n",
       "    </tr>\n",
       "  </thead>\n",
       "  <tbody>\n",
       "    <tr>\n",
       "      <th>2012-10-03 00:00:00</th>\n",
       "      <td>4.0</td>\n",
       "      <td>9.0</td>\n",
       "    </tr>\n",
       "    <tr>\n",
       "      <th>2012-10-03 01:00:00</th>\n",
       "      <td>4.0</td>\n",
       "      <td>6.0</td>\n",
       "    </tr>\n",
       "    <tr>\n",
       "      <th>2012-10-03 02:00:00</th>\n",
       "      <td>1.0</td>\n",
       "      <td>1.0</td>\n",
       "    </tr>\n",
       "    <tr>\n",
       "      <th>2012-10-03 03:00:00</th>\n",
       "      <td>2.0</td>\n",
       "      <td>3.0</td>\n",
       "    </tr>\n",
       "    <tr>\n",
       "      <th>2012-10-03 04:00:00</th>\n",
       "      <td>6.0</td>\n",
       "      <td>1.0</td>\n",
       "    </tr>\n",
       "  </tbody>\n",
       "</table>\n",
       "</div>"
      ],
      "text/plain": [
       "                     Fremont Bridge West Sidewalk  \\\n",
       "Date                                                \n",
       "2012-10-03 00:00:00                           4.0   \n",
       "2012-10-03 01:00:00                           4.0   \n",
       "2012-10-03 02:00:00                           1.0   \n",
       "2012-10-03 03:00:00                           2.0   \n",
       "2012-10-03 04:00:00                           6.0   \n",
       "\n",
       "                     Fremont Bridge East Sidewalk  \n",
       "Date                                               \n",
       "2012-10-03 00:00:00                           9.0  \n",
       "2012-10-03 01:00:00                           6.0  \n",
       "2012-10-03 02:00:00                           1.0  \n",
       "2012-10-03 03:00:00                           3.0  \n",
       "2012-10-03 04:00:00                           1.0  "
      ]
     },
     "execution_count": 81,
     "metadata": {},
     "output_type": "execute_result"
    }
   ],
   "source": [
    "data = pd.read_csv('FremontBridge.csv', index_col='Date', parse_dates=True)\n",
    "data.head()"
   ]
  },
  {
   "cell_type": "code",
   "execution_count": 82,
   "metadata": {
    "collapsed": true
   },
   "outputs": [],
   "source": [
    "data.columns = ['West', 'East']\n",
    "data['Total'] = data.eval('West + East')"
   ]
  },
  {
   "cell_type": "code",
   "execution_count": 83,
   "metadata": {
    "collapsed": true
   },
   "outputs": [
    {
     "data": {
      "text/html": [
       "<div>\n",
       "<style scoped>\n",
       "    .dataframe tbody tr th:only-of-type {\n",
       "        vertical-align: middle;\n",
       "    }\n",
       "\n",
       "    .dataframe tbody tr th {\n",
       "        vertical-align: top;\n",
       "    }\n",
       "\n",
       "    .dataframe thead th {\n",
       "        text-align: right;\n",
       "    }\n",
       "</style>\n",
       "<table border=\"1\" class=\"dataframe\">\n",
       "  <thead>\n",
       "    <tr style=\"text-align: right;\">\n",
       "      <th></th>\n",
       "      <th>West</th>\n",
       "      <th>East</th>\n",
       "      <th>Total</th>\n",
       "    </tr>\n",
       "  </thead>\n",
       "  <tbody>\n",
       "    <tr>\n",
       "      <th>count</th>\n",
       "      <td>43048.000000</td>\n",
       "      <td>43048.000000</td>\n",
       "      <td>43048.000000</td>\n",
       "    </tr>\n",
       "    <tr>\n",
       "      <th>mean</th>\n",
       "      <td>55.653201</td>\n",
       "      <td>55.338785</td>\n",
       "      <td>110.991986</td>\n",
       "    </tr>\n",
       "    <tr>\n",
       "      <th>std</th>\n",
       "      <td>73.937596</td>\n",
       "      <td>79.845109</td>\n",
       "      <td>139.603462</td>\n",
       "    </tr>\n",
       "    <tr>\n",
       "      <th>min</th>\n",
       "      <td>0.000000</td>\n",
       "      <td>0.000000</td>\n",
       "      <td>0.000000</td>\n",
       "    </tr>\n",
       "    <tr>\n",
       "      <th>25%</th>\n",
       "      <td>7.000000</td>\n",
       "      <td>7.000000</td>\n",
       "      <td>15.000000</td>\n",
       "    </tr>\n",
       "    <tr>\n",
       "      <th>50%</th>\n",
       "      <td>30.000000</td>\n",
       "      <td>28.000000</td>\n",
       "      <td>61.000000</td>\n",
       "    </tr>\n",
       "    <tr>\n",
       "      <th>75%</th>\n",
       "      <td>73.000000</td>\n",
       "      <td>68.000000</td>\n",
       "      <td>146.000000</td>\n",
       "    </tr>\n",
       "    <tr>\n",
       "      <th>max</th>\n",
       "      <td>854.000000</td>\n",
       "      <td>717.000000</td>\n",
       "      <td>1165.000000</td>\n",
       "    </tr>\n",
       "  </tbody>\n",
       "</table>\n",
       "</div>"
      ],
      "text/plain": [
       "               West          East         Total\n",
       "count  43048.000000  43048.000000  43048.000000\n",
       "mean      55.653201     55.338785    110.991986\n",
       "std       73.937596     79.845109    139.603462\n",
       "min        0.000000      0.000000      0.000000\n",
       "25%        7.000000      7.000000     15.000000\n",
       "50%       30.000000     28.000000     61.000000\n",
       "75%       73.000000     68.000000    146.000000\n",
       "max      854.000000    717.000000   1165.000000"
      ]
     },
     "execution_count": 83,
     "metadata": {},
     "output_type": "execute_result"
    }
   ],
   "source": [
    "data.dropna().describe()"
   ]
  },
  {
   "cell_type": "markdown",
   "metadata": {},
   "source": [
    "#### Visualizing the data"
   ]
  },
  {
   "cell_type": "code",
   "execution_count": 84,
   "metadata": {
    "collapsed": true
   },
   "outputs": [],
   "source": [
    "%matplotlib inline\n",
    "import seaborn; seaborn.set() \n",
    "import matplotlib.pyplot as plt"
   ]
  },
  {
   "cell_type": "code",
   "execution_count": 85,
   "metadata": {
    "collapsed": true
   },
   "outputs": [
    {
     "data": {
      "image/png": "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",
      "text/plain": [
       "<Figure size 640x480 with 1 Axes>"
      ]
     },
     "metadata": {},
     "output_type": "display_data"
    }
   ],
   "source": [
    "data.plot()\n",
    "plt.ylabel('Hourly Bicycle Count');"
   ]
  },
  {
   "cell_type": "code",
   "execution_count": 86,
   "metadata": {
    "collapsed": true
   },
   "outputs": [
    {
     "data": {
      "image/png": "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",
      "text/plain": [
       "<Figure size 640x480 with 1 Axes>"
      ]
     },
     "metadata": {},
     "output_type": "display_data"
    }
   ],
   "source": [
    "weekly = data.resample('W').sum()\n",
    "weekly.plot(style=[':', '--', '-'])\n",
    "plt.ylabel('Weekly bicycle count');"
   ]
  },
  {
   "cell_type": "code",
   "execution_count": 87,
   "metadata": {
    "collapsed": true
   },
   "outputs": [
    {
     "data": {
      "image/png": "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",
      "text/plain": [
       "<Figure size 640x480 with 1 Axes>"
      ]
     },
     "metadata": {},
     "output_type": "display_data"
    }
   ],
   "source": [
    "daily = data.resample('D').sum()\n",
    "daily.rolling(30, center=True).sum().plot(style=[':', '--', '-'])\n",
    "plt.ylabel('mean hourly count');"
   ]
  },
  {
   "cell_type": "code",
   "execution_count": 88,
   "metadata": {
    "collapsed": true
   },
   "outputs": [
    {
     "data": {
      "image/png": "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",
      "text/plain": [
       "<Figure size 640x480 with 1 Axes>"
      ]
     },
     "metadata": {},
     "output_type": "display_data"
    }
   ],
   "source": [
    "daily.rolling(50, center=True,\n",
    "              win_type='gaussian').sum(std=10).plot(style=[':', '--', '-']);"
   ]
  },
  {
   "cell_type": "markdown",
   "metadata": {},
   "source": [
    "#### Digging into the data"
   ]
  },
  {
   "cell_type": "code",
   "execution_count": 89,
   "metadata": {
    "collapsed": true
   },
   "outputs": [
    {
     "data": {
      "image/png": "iVBORw0KGgoAAAANSUhEUgAAAioAAAG1CAYAAADX6N+4AAAAOXRFWHRTb2Z0d2FyZQBNYXRwbG90bGliIHZlcnNpb24zLjkuMiwgaHR0cHM6Ly9tYXRwbG90bGliLm9yZy8hTgPZAAAACXBIWXMAAA9hAAAPYQGoP6dpAACxyUlEQVR4nOzdd5hcVfnA8e+9U3ZmtveW3ZTdbAohpJMACRB6VUBAKQJKR1FUUBGlIwqCiqIiIv1Hr9J7CSG910022STb+2yZfu/vj9mZZMlmM3Xr+3keHrIzt5y5e3fmnXPe8x5F13UdIYQQQohBSB3oBgghhBBCHIgEKkIIIYQYtCRQEUIIIcSgJYGKEEIIIQYtCVSEEEIIMWhJoCKEEEKIQUsCFSGEEEIMWhKoCCGEEGLQkkBFCCGEEIOWcaAbEAu6rqNpsS+wq6pKXI47Esi1i4xct8jIdYucXLvIyHWLnqoqKIpy0O2GRaCiaTrNzZ0xPabRqJKenojd3oXXq8X02MOdXLvIyHWLjFy3yMm1i4xct9jIyEjEYDh4oCJDP0IIIYQYtCRQEUIIIcSgJYGKEEIIIQYtCVSEEEIIMWgNi2RaIYQQIlKapuHzecPYXsHpNOB2u/D5ZOZPbwwGI6oam74QCVSEEEKMSLquY7c343B0hL1vY6OKpsmMn75YrUmkpGSENAW5LxKoCCGEGJECQUpSUjpmc0JYH6gGgyK9KQeg6zput4uOjhYAUlMzozqeBCpCCCFGHE3zBYOUpKSUsPc3GlWpodIHszkBgI6OFpKT06MaBpJkWiGEECOOz+cD9n6gitgLXNtw8n96I4GKEEKIESva/AlxYLG6thKoCCGEEGLQkkBFCCGEEIOWBCpCCCHEEHXzzTdyxRWX7Pf4lVdeylFHzWLVqhU9Hn///XeYP382LS3NUZ3X6/Xy/PPPRHWMUEmgIoQQImptrnbeqnifFmfrQDdlRJk5czbl5VtwuZzBx+z2NjZv3khOTi5Llizusf3q1SspLR1PenpGVOf94IN3eeihB6M6RqgkUBFCCBG1T/d8yds7P+T9yk8GuikjyqxZc/B6vWzatDH42LJlS0hPz+C0085kyZKvemy/du1qZs8+POrz6nr/1ZCRQEUIIUTU6roaANhp3z3ALYmey+3D5fb1+DD2+jRcbh+eb9ROCWyr9bqtL+JtQzV69Biys3NYt25N8LElSxYzZ85cDj98Htu2ldPc3ARAa2srO3fuYPbsuXg8Hh5++K98+9uncMIJ87nyyktZuvTr4DF8Ph8PP/xXzj77NI49dh4XXHAOr732EgBvv/0m99xzOwBHHTWLlSuXR9T2UEmgIoQQImqNDv+HYXVHDT4tsg/dweKaBz7jmgc+o93hCT72zpJdXPPAZzzzwZYe2/7koS+45oHPaG7bO/Ty8coqrnngM/779uYe2974j6+45oHPqGnsDD62aF0N1zzwGf98fUPE7Z05czbr1q0N/rx06dfMnj2XSZMOITExKTj8s2bNKhISEpg6dRp3330by5Z9ze9+dyePPfYMCxcez003/ZSvvvoSgFdffZFPPvmI22+/h//7v1c455zzuP/+e1mzZjXHHXcC11//cwBef/1dDj30sIjbHgoJVIQQQkRF1/VgoOLVfVR31g1wi0aWmTNns379WnRdZ9u2cpqaGpk9+3AMBgOzZs0O9pSsWbOSww6bTkNDPR9++B4333wrM2bMoqiomO9+9yKOP/4knn32SQCqqqqwWi3k5xeSl5fPOeecz4MP/p3i4mISEiwkJSUBkJmZhclkiuvrkxL6QgghotLh6cTlcwd/3t2+h6LkggFsUXT+8bOjATCb9n6XP+XwYk6cVYSq9ixi9pcfzwfAtM+2C2cUcvRhBXyzavx91xyx37ZHHprP3Ml5+20bjlmz5mC3t1FZuZOlSxczfvwE0tPTAZg9ey7//e+/AVi9ehXHH38SW7f6e4WuvfbyHsfxer0kJSUDcPbZ5/L5559w9tmnMn78BGbPPpzjjjsx6iTcSEigIoQQIioN3b0pAbvaqzhigNoSCwlmw36PGQ0qxv0fjtu24cjOzqG4eDTr169l6dKvOfzwecHnDj98Hvfddw9btmxm+/Zybr75ViordwDw97//G5stscexAmvyFBUV8/zzr7Fq1XKWLVvCV199wTPPPMHNN9/KKaecHl2DwyRDP0IIIaISGPZR8Pc27GrfM5DNGZFmzZrDunVrWL9+bY9ZPXl5+RQVFfPKKy+QlpZGSUkpY8eWANDU1MioUUXB/9566w3efvtNAF588Tk+/fQjZs+ey7XX/oQnn3yemTNn89FH7wP9u/SABCpCCCGiEuhRKU0bC0DVMEioHWpmzpzDxx9/iKKoTJ06rcdzhx8+j48//oBZs+agKArjxpVwxBHzue++3/Pll59TVbWHZ555gqeffpzCwlEAtLa28OCDf+TLLz+jtraGJUsWs23bVqZMmQqA1WoFYPPmTT1quMSDDP0IIYSISqBHZWJGGbvbq3H6nNR21VOYlD/ALRs5ZsyYhcvlZO7cIzEae360z5kzj5deep5Zs/b2tNxxx+955JG/c99999DebqegYBS/+tVvg8M6l112BR6PhwcfvI/m5iYyMjL59re/w8UXX9Z9vtlMnjyFa675Ab/97Z0sXHh83F6bovdn1ZY48fk0mps7D75hGIxGlfT0RFpaOvF+Y9686Jtcu8jIdYuMXLfIxera/WnF36loq+QHh1zIF1WLKW+t4KKJ5zKvYHYMWxtbHo+bpqYaMjPzMZnMYe9vNKpyvx3Ewa5xRkYiBsPBB3Zk6EcIIURUAkM/2dZMipILAX9CrRCxIIGKEEKIiDm9LtrdHQBkWTMpTvbnOOyWhFoRIxKoCCGEiFiT078Kb6LRhs1kpbi7R2WPJNSKGJFARQghRMQCwz5Z1kwAsm1ZWAwJeDQPtV31A9k0MUxIoCKEECJijcFAxV+xVFVURnVXpd0teSoiBiRQEUIIEbFv9qgAklArYkoCFSGEEBFr7No/UJGEWhFLEqgIIYSIWGNwavLexeqCCbXt1Wi61BoR0ZFARQghRER8mo9mVyvQs0clx5aN2WDGrXmo7ZSEWhEdKaEvhBAiIi2uVjRdw6gaSU1ICT6uKipFSQVsb9vJ7vYqCpLyBrCVw9+PfnQlq1evPODz//vfh6SlpUV1Dq/Xy8svP8/5518Y1XEiEXag0tTUxL333ssXX3yBy+Vi9uzZ/PKXv6SkxL8a4y233MKLL77YY5/CwkI+/vhjADRN429/+xsvvvgi7e3tzJ49m9/97ncUFRXF4OUIIYToL8FEWksGqtKzg744eVQwUDk8f+ZANG9EWbjwBH7yk5/3+lxqamrUx//gg3d56KEHh0agct1116FpGo888giJiYn85S9/4dJLL+X999/HarWyZcsWrr76ai666KLgPgaDIfjvhx9+mGeffZZ7772XvLw87rvvPi6//HLefPNNzObw11sQQggxMBp7mfETsHfmjyTU9oeEhAQyM7PidvyBXBYwrByVtrY2CgsLueuuu5g6dSolJSVce+211NfXU15ejq7rbNu2jSlTppCdnR38LyPDn2Tldrt57LHHuP766znmmGOYOHEiDz74ILW1tbz//vtxeYFCCCHiY981fr4pEKjs7pCE2sGgtraWW2/9NaeffgJHH304Z511Kg8//Fc0zf+78fl8PPzwXzn77NM49th5XHDBObz22ksAvP32m9xzz+0AHHXULFauXN6vbQ+rRyU1NZU//elPwZ+bm5t5/PHHycvLo7S0lF27dtHV1cW4ceN63X/z5s10dnYyb9684GMpKSlMnjyZZcuWcfrpp0f4MoQQQvS3Roe/fH5vPSp5iTmYVRNun5v6rgbyEnP7u3kR0z2uAz+pKChGc9y3jbVf/epnZGZm8eCDf8dms7Fo0ef89a8PMGXKVBYsOIZXX32RTz75iNtvv4fs7BwWLfqc+++/l7FjSznuuBPo6Ojgr3/9E6+//i4pKdEPJYUj4mTa3/72t7zwwguYzWb+8Y9/YLPZ2Lp1KwBPPfUUn3/+OaqqsmDBAm644QaSk5Opra0FID8/v8excnJygs9FymiM7QSmwNLToSxBLXqSaxcZuW6RkesWuWivXVN3j0puUlYv78EqRSmFbG/dyZ7Oakal5u9/gAGkacoBn+v471UHfM5QNJXEU38GgKJA+1M/Bq+7923zJ2A749fBnzv/7xfozvZet1Wzx5J41q2hNL1X77//Dp9++tF+jy9YcAw33fQbTjrpVBYuPJ7cXH9i83nnXcDTTz9BRcU2Fiw4hqqqKqxWC/n5hWRlZXHOOedTXDyG4uJiEhIsJCUlAUQ0vGQwKFF9RkccqFxyySWcf/75PPPMM1x33XU8++yzbN26FVVVycnJ4Z///Ce7du3ij3/8I+Xl5TzxxBM4HA6A/XJREhISaGtri/hFqKpCenpixPv3JSXFGpfjjgRy7SIj1y0yct0iF8m103Wdhu4FCUvzRpGesv978PjsMWxv3Umduy5u79GRcjoNNDaqYX+IKooScoCnKKEfWyHyL9yKojB//tFcd931+z1ns9lITLRx/vnf5eOPP+S559azZ89utm0rp7m5CV3XMBpVzj33fL744hPOPvtUysomMGfOXE444SSys/2Biar6A7tw2qhpCqqqkppqw2KxRPTaIIpApbS0FIC7776bNWvW8PTTT3P33XdzwQUXkJ6eDkBZWRnZ2dmcd955rFu3LthQt9vdo9EulwurNfI3GU3Tsdu7It6/NwaDSkqKFbvdgc8n46vhkGsXGblukZHrFrlorp3d1Y7L60JBweix0tLSud82eWb/cE95w85enx9IbrcLTdPw+XS83p6vPemyfx14R0XB59MwGFR8Po2kix/qc9t9j534vftD3jYcuq5jtdrIzx/V6/Pt7Z1cd90VuN0ujj32eE4++XQmTz6E6667Ak3zv/6CglE899xrrFq1nGXLlvDll5/z1FOPc/PNt3LKKaejaf5k2nDa6PPpaJpGW1sXDsf+K2mnpFhD6s0LK1Bpbm5m8eLFnHTSSRiN/l1VVaW0tJT6+npUVQ0GKQHjx48H/Ik8gSGf+vp6iouLg9vU19czYcKEcJqyn0h/wQfj82lxO/ZwJ9cuMnLdIiPXLXKRXLvajgYA0hJSUTQVr7b//oWJ3Qm19ircHu9+U5gHks934Fksiimhz30DE2B0/eDbhnPceFm6dDFbt27mjTfeIyPDn09kt7fR3NwU3ObFF58jPT2d448/idmz53LttT/hpz+9lo8+ep9TTjkdRTnwUNnB9BYMhiOsu6axsZGf/exnLF68OPiYx+Nh48aNlJSUcNNNN3HppZf22GfdunWAvwdm4sSJJCUlsWTJkuDzdrudjRs3Mnv27IhfhBBCiP7V0HXgGT8BubZsTKoJp89FQ1djfzVtRHK5XDQ1Nfb6X1ZWDgDvvfcOtbU1rFmzml/96ud4vV7cbn9+TWtrCw8++Ee+/PIzamtrWLJkMdu2bWXKlKkAwVGPzZs34XI5+/W1hdWjUlZWxoIFC7jrrru46667SE1N5V//+hd2u51LL72UTZs2ce211/K3v/2NM888kx07dnDHHXdw+umnBwvCXXTRRdx///1kZGRQWFjIfffdR15eHieeeGJcXqAQQojY21tDJeOA2xhUA6OS8tlh38Wu9ipyE3P6q3kjzscff8DHH3/Q63N33nkvP/7xDTz//LP8+9//IDs7m+OOO5GcnFw2b94IwGWXXYHH4+HBB++jubmJjIxMvv3t73DxxZcBMGPGbCZPnsI11/yA3/72ThYuPL7fXpuih1nFpb29nT/96U98+OGHtLe3M2vWLH71q18Fh3jeeecdHnnkESoqKkhOTuaMM87gpz/9KQkJ/i4vn8/HAw88wCuvvILT6QxWph01qvextVD4fBrNzbEd/zQaVdLTE2lp6ZTu5DDJtYuMXLfIyHWLXDTX7vENz7GsbiVnjjuZk8YsPOB2z295jc+rvmJh0XzOGX9GtE2OGY/HTVNTDZmZ+ZhM4U8LNhpVud8O4mDXOCMjMfY5KgDJycncdttt3Hbbbb0+f8opp3DKKacccH+DwcCNN97IjTfeGO6phRBCDBJ9VaXdV2Al5d3tVXFvkxieBk9mkxBCiCGjsY+qtPsqTvH3lu9ulwq1IjISqAghhAiL0+uk3dMBHLxHJc+Wg0k14vQ5g8GNEOGQQEUIIURYAqXzE402bKa+a2AZVAMFSf7SFLtk+EdEQAIVIYQQYWl0HniNn94UJ/uHf2QlZREJCVSEEEKEJZSpyfsKJtTapUdFhE8CFSGEEGFpCDGRNqCou0dld0cVYVbEEEICFSGEEOFp7AptanJAQWIuRtWIw+sM5rcIESoJVIQQQoQl1BoqAQbVQGFiIKFW8lREeCRQEUIIETKf5qPZ1QpAti20QAWgKLkAkMJvInxhV6YVQggxcjU7W9F0DZNqJMWcHPJ+/pk/S6RHJcbuvvs23nnnf31u8+WXyw/4XG1tLevXr+H4408K6Xxvv/0m99xze5/HjDUJVIQQQoQsMOyTac1EVULvlC9K2VtKX9d1FEWJS/tGmp/85BdcffWPgj9/61snc/31P+e4404Iaf+7776VvLz8kAOVgSCBihBCiJDtnfET2tTkgILEPIyKgS6vgyZnc8j5LaJvSUlJJCUl7fdYZmZWSPsPhVlYEqgIIYQIWTCR1hJeoGFUjRQk5bGrvYpd7VWDNlDRdR235jnodj4UvL7YfsibVVPMe5q++upLHn/8UXbs2I7NZuP440/iyiuvJSHBwo9+dCWrV69k9eqVrFq1gpdeepPa2lr+8Y+/sGLFctrb7WRkZHLCCSdz9dU/QlUHJq1VAhUhhBAhC3fGz76Kkkexq72K3e1VzMiZGuumRU3XdR5Y+TAVbZUDcv5xqWP42YxrYhasfPbZJ/z2t7/kBz+4kltuuZ1du3Zy//33Ul1dxe9//yfuuec+brrpBnJycrnhhpsA+NWvfkZmZhYPPvh3bDYbixZ9zl//+gBTpkxlwYJjYtKucEmgIoQQImQNYVal3VdRd4XaXfbBnFA7fHJnnn76cRYsOIZLL70cgOLi0ei6zq9//Qt27Khg7NhxGI1GEhISSE9Px+VyctJJp7Jw4fHk5uYBcN55F/D0009QUbFNAhUhhBCDm67rwXV+Qq1Ku69gKf1BmlCrKAo/m3FNSEM/RsPgH/qpqNjGCSf0TJKdNm1m8LmxY8f1eC4hwcI555zHp59+xMaN69mzZzfbt2+jubkJn88Xs3aFSwIVIYQQIbG7O3D73CgoZETQo1KQlI9BMdDp7aLZ2UJmBMeIN0VRSDCYD7qd0ahiQOuHFkWutzxZXfe32Wjc/+Pf4XBw3XVX4Ha7OPbY4znllDOYPPkQrrvuing3tU8SqAghhAhJID8lLSEVkxr+x4dJNVKQmMvujmp2tVcNykBlOCkpKWXt2tWcd94FwcfWrFkFwOjRYwF69OAsXbqYrVs388Yb75GR4e8xs9vbaG5u6sdW708q0wohhAhJY5iLEfYmuEChVKiNuwsv/D6fffYJjz/+KLt2VbJo0Rc8+OB9HHHEfMaM8QcqVquNmppq6uvryM7OAeC9996htraGNWtW86tf/Ryv14vb7R6w1yE9KkIIIUISzYyfgOKUQr6qkTV/+sMxxxzHbbfdzZNPPsYTT/yHtLR0TjjhJH74w6uC23z72+dw9923cskl3+N///uAH//4Bp5//ln+/e9/kJ2dzXHHnUhOTi6bN28csNchgYoQQoiQNDgiT6QNKBrkCbVD3TdL2x933Ikcd9yJB9z+iCOO4q23Pgr+fP75F3L++RcecPtTTz2DU089I/qGhkGGfoQQQoQk2KMSxmKE31SYmI+qqHR4OmnpXtxQiL5IoCLEIOH2eXB6XQPdDCEOqDGKGioBJoOJ/MRcAHZJnooIgQQqQgwCuq5z37K/85O3bsXpdQ50c4TYj9PrpN3TAUQ39AOBlZRh96Au/CYGCwlUhBgE6roa2GXfQ4uzjV12+ZYpBp/G7vyURJMNq9Ea1bEChd92dci9Lg5OAhUhBoHy1orgv6s7agewJUL0LhYzfgKCU5TtVUNi9V4xsCRQEWIQ2CaBihjkGmJQQyWgMMmfUNvu6aDV1Rb18aIhgVL8xOraSqAixADTdZ3ylr2BSpUEKmIQCvaoWKKvJms2mMiz+YuLDVRCrcFgAMDtlgT2eAlcW4MhukooUkdFiAHW4GikzW0P/lzTWSf1JcSgE8hRicXQD/gTaqs7a9ndvofDsg+JyTHDoaoGrNYkOjpaADCbE8L6m9M0BV+MFyUcLnRdx+120dHRgtWahKpG1ycigYoQAyyQnzI6ZRS72qvo9HRhd7eTmpAywC0TYq+GGOaoABSlFPJ17fIBnaKckuLvHQoEK+FQVRVNG9yLEg40qzUpeI2jIYGKEAOsvGUHAJMzJ+DRPVS311HdWSuBihg0fJovWJwtO4pib/sqHgRr/iiKQmpqJsnJ6fh83pD3MxgUUlNttLV1Sa/KARgMxqh7UgIkUBFiAOm6HkykLcsoocnTRHV7HTWddUzKKBvg1gnh1+RsQdM1TKqRFHNyTI45KikfBQW7u51WVxtpCakxOW4kVFVFVc0hb280qlgsFhwOH16v9KrEmyTTCjGAmpwttLhaURWVktTRFKcWAFAjCbViEAkk0mZaM1GV2HxsmA1m8hL9CbWykrLoS9h3XFNTEzfeeCNz585l+vTpXHnllWzfvj34/KZNm7jooouYNm0aCxcu5Mknn+yxv6Zp/PWvf2X+/PlMmzaNK664gt27d0f/SoQYgoL5KclFJBgTKOoOVKo76wayWUL00Bicmhx9vsG+AsM/u6RCrehD2IHKddddR2VlJY888ggvvfQSFouFSy+9FIfDQUtLC5dddhnFxcW8/PLLXHfdddx///28/PLLwf0ffvhhnn32We68806ee+45NE3j8ssvx+12x/SFCTEUbOueljw+fRxAMFCp6ayV+g5i0Ih1Im1AYCVlWfNH9CWsHJW2tjYKCwu56qqrKCvzj59fe+21fOtb36K8vJzFixdjMpm44447MBqNlJSUBIOac845B7fbzWOPPcYvfvELjjnmGAAefPBB5s+fz/vvv8/pp58e8xcoxGAW6FEpTfMHKnlJORgUAy6fm2ZnK5nW9IFsnhAANMV4anLA3oRa6VERBxZWj0pqaip/+tOfgkFKc3Mzjz/+OHl5eZSWlrJ8+XLmzJmD0bg3/pk7dy47d+6ksbGRzZs309nZybx584LPp6SkMHnyZJYtWxajlyTE0NDsbKHJ2RzMTwEwqobguH1Np+SpiMEhllVp9zUquQAFhTZ3O20u+8F3ECNSxLN+fvvb3/LCCy9gNpv5xz/+gc1mo7a2NhjEBOTkdL/p1tRQW+t/483Pz99vm8BzkTIaY5sXbDCoPf4vQifXLjQV9p2Af4G2JIsteL0Kk/Oo6qih1lHHNGP/F8IaauR+i1wo107XdZqc/h6VvKTsmL7XGo0W8hJzqOmso7qrmszEtJgdO57knutfEQcql1xyCeeffz7PPPMM1113Hc8++yxOpxOzuecUr4SEBABcLhcOhwOg123a2iJf70FVFdLTEyPevy8pKdGtEjqSybXrW2V5JQCH5k/ocf+Oyypiac0qGt2NcbuvhyO53yLX17VrdbTh8rlRFIXS/FEYoyyH/k2lWaOp6ayj3lNPevrsmB473uSe6x8R33GlpaUA3H333axZs4ann34ai8WyX1Ksy+Wv9W+z2bBYLAC43e7gvwPbWK2R/8I1Tcdu74p4/94YDCopKVbsdgc+n8yTD4dcu9Csr9sKQLGtmJaWzuB1yzRlAbCzuYqWls6BbOKQIPdb5EK5dtta/LMyMxLSaLe7gNiujZNnyQNgS90OWgqGxv0u91xspKRYQ+qVCitQaW5uZvHixZx00knBPBRVVSktLaW+vp68vDzq6+t77BP4OTc3F6/XG3ysuLi4xzYTJkwIpyn7iVfRHZ9Pk4I+EZJrd2CtrjbquxpRUBiTNLrHdcq3BXJU6nB7vDGrWzHcyf0Wub6uXV1HI+CvoRKP6zsq0T/zp9K+Z8j9/uSe6x9hvQM2Njbys5/9jMWLFwcf83g8bNy4kZKSEmbPns2KFSvw+XzB57/++mvGjh1LZmYmEydOJCkpiSVLlgSft9vtbNy4kdmzh1aXnxDRCExLHpWUj83Uszcx05qBSTXh1bzBJEYhBkpDnGqoBIxK8ifUtrrasLvb43IOMbSFFaiUlZWxYMEC7rrrLpYtW8bWrVv51a9+hd1u59JLL+Wcc86ho6OD3/zmN2zbto1XXnmFxx9/nKuuugrw56ZcdNFF3H///Xz00Uds3ryZG264gby8PE488cS4vEAhBqPgtOTu+in7UhWV/MRcQCrUioEXKPaWZYntjJ8AizGBHFs2IBVqRe/C7lN+4IEHmDdvHjfccAPnnnsura2tPPPMMxQUFJCZmcmjjz7Kjh07OOuss/jb3/7GTTfdxFlnnRXc//rrr+c73/kOt9xyC9/73vcwGAz85z//wWQyxfSFCTGYlbf6FyIcn1bS6/PBQEUq1IoBFgxUYrQYYW+KA4Xf7BKoiP2FnUybnJzMbbfdxm233dbr81OnTuX5558/4P4Gg4Ebb7yRG2+8MdxTCzEs2N3t1HXVo6BQmja2120KkvwJhtVSS0UMsL1VaeMz9AP+CrXL6lZJ4TfRK8nSE6KfbevuTSlIyiPRZOt1m/zEQKAiPSpi4Di9Tjo8/pk4sS72tq9iKaUv+iCBihD9rLylZ9n83hR0D/3UdzXg1bz90i4hvqmhu3R+osmG1Ri/miGjugOVFlcr7e6OuJ1HDE0SqAjRz8pb/auNj+8jUElLSMVisKDpGvVdjf3VNCF6aIzTYoTfZDVayLH56wdJr4r4JglUhOhHHe7OYILsgfJTABRFoSDJ36sieSpioDTGaY2f3uxdoFACFdGTBCpC9KNt3dOS8xJzSTYn9bltIE9FpiiLgdLQTz0q4E+oBVlJWexPAhUh+lGgfkpfwz4BMkVZDLT+GvoBSagVByaBihD9aG+gcuBhn4CCRJmiLAZWfw79BHpUmp0twZlGQoAEKkL0my5PF9XdwzilByj0tq9ALZVGRzNun/sgWwsRWz7NR7OzFYhvDZUAq9EaDIh2S+E3sQ8JVIToJ9tad6Cjk2vLJjUh+aDbJ5uTSDIloqNT21l/0O2FiKUmZws6OibVRKo5pV/OGUio3SV5KmIfEqgI0U+C6/uEkJ8SIHkqYqA07lORVlGUfjnn3oRa6VERe0mgIkQ/2RZGIm2AlNIXA6U/E2kD9vaoSKAi9pJARYh+4PA62N1eDcD4XlZMPpB8SagVA6ShHxNpA4qSCwBocjbT6enqt/OKwU0CFSH6wfbWnejoZFkzSUtIDXm/gmAtFRn6Ef2rsbt8fmY/JNIG2Ew2siz+88nwjwiQQEWIfhBO/ZR9BXJUWlytOLzOmLdLiAPpz6nJ+ypKkYRa0ZMEKkL0g0gDFZvJGuyBkYRa0V90XR+QHBWQwm9ifxKoCBFnTq8z2I0dzoyfgODMHymlL/qJ3d2OW/OgoJBpSe/Xc8uaP+KbJFARIs4q2irRdI1MSzqZ1vDf9KVCrehvgUTadEsaRtXYr+cOTFFudDTR5XH067nF4CSBihBxFkn9lH1JLRXR3wZq2Acg0WQL9uJIr4oACVSEiLtI6qfsS2qpiP62N5G2/2b87KtIKtSKfUigIkQcuX1uKu3+N9tw6qfsK6+7R6Xd3UG7uyNmbRPiQBoGsEcF9ibUSo+KAAlUhIirirZKfLqPtIRUMi2RfTtNMJiDtSVk+Ef0h0ANlYELVKRHRewlgYoQcbTvtORo1kvJT5I8FdF/BqqGSkBRir9HpcHRhMMrCbUjnQQqQsRReUt0+SkBUkpf9BeH10mHpxMYuB6VJFMi6QlpAFTJtPwRTwIVIeLE7fNQad8FQGmE+SkBe0vpy5u2iK/AsE+SKRGr0TJg7chLzAGgrrN+wNogBgcJVISIk532XXh1HynmZHKsWVEda98pyrqux6J5QvRqIKcm7yt4z3fJcOdIJ4GKEHESq/wUgFxbNqqi0uV10Oa2x6J5QvRqb6AyMFOTAwI9KrXSozLiSaAiRJxsC+SnRDnsA2AymMju7pWRlZRFPDUMcCJtQJ7N36MigYqQQEWIOPBoXnbYK4HoE2kDCrq7wiWhVsRToEclc6ADle4elRZXK05ZOXxEk0BFiDiotO/Go3lJNiWRa8uJyTGllL7oDwM9NTkg0WQjxZwMQF1Xw4C2RQwsCVSEiINtwfV9xkadnxKQL6X0RZx5NS/NzlZg4HNUAPK6g3wJzkc2CVSEiINA/ZRopyXvKzhFubMOTddidlwhApqdLejomFQTqeaUgW5OcPkIyVMZ2SRQESLGfJqPiradQOzyU8DfFW9UDLh97uC3XiFiqSFYOj8jZj2B0QjO/JEpyiNa2IFKa2srv/vd71iwYAEzZszge9/7HsuXLw8+f9lllzFhwoQe/1188cXB510uF7fffjvz5s1j+vTp/PznP6e5uTk2r0aIQaCyfQ9uzUOi0RbMK4kFg2ogNzHQFS7DPyL2BksNlYD84P0uPSojmTHcHX72s5/R0NDAAw88QGZmJk899RQ//OEPefXVVxk3bhxbtmzhtttu4/jjjw/uYzKZgv++7bbbWL58OQ899BBms5lbb72V66+/nqeffjo2r0iIARaYllyaNhZViW2nZX5iLlUdNdR01HFo1uSYHluIaBJpNWc7njXvoLXVYj3x+pi0JzD00+Roxu3zYDaYDrKHGI7CClQqKytZtGgRzz77LDNnzgTgt7/9LV988QVvvvkmF110EU1NTRx22GFkZ2fvt39dXR2vvfYa//znP5k1axYADzzwACeffDKrVq1i+vTpMXhJQgysYKG39JKYH7tA1vwRcdQQRY+Kd/tS3GveBkBrb0RNjq4aM0CyKQmb0UqX10F9VwOjkguiPqYYesL6upeens4jjzzCoYceGnxMURQURcFut7NlyxYURWHs2LG97r9ixQoA5s6dG3xs7Nix5ObmsmzZskjaL8Sg4tN8bG/bAUBpDPNTAgpk5o+Io0iHfjRnO65FTwV/9lVvikl7FEXZJ6FW8lRGqrB6VFJSUjj66KN7PPbee+9RWVnJzTffzNatW0lOTuaOO+5g0aJF2Gw2Tj75ZK699lrMZjN1dXWkp6eTkJDQ4xg5OTnU1kb3xms0xraL3WBQe/xfhG4kX7s9bXtw+dzYjFZGpxWENfQTynUblZIP+OtKKKqOQTVE1+BhYCTfb9Ha99rpuh5ckDAvKSus91RPW3WPn7XazRgPOfoAW4enICmXirad1DsbYv4+Hym55/pX2Dkq+1q5ciW//vWvOfHEEznmmGO4+eabcblcTJ06lcsuu4xNmzbxxz/+kerqav74xz/icDgwm837HSchIQGXyxVxO1RVIT09MZqXckApKda4HHckGInX7ou6PQBMyiklMyM5omP0dd1S06wkGMy4fG7cpi4KUvIiOsdwNBLvt1hJSbHS7GjFo3lQFIXS/FEYDaF/PLRtq6cDUIxmdK8bX80W0tJsMZk5NC67iC+rltDoborb+3yk5J7rHxEHKh9++CG/+MUvmDFjBvfffz8Ad9xxB7/85S9JTU0FoKysDJPJxA033MBNN92ExWLB7XbvdyyXy4XVGvkvXNN07PauiPfvjcGgkpJixW534PNJzYpwjORrt6bK3+U9Nmk0LS2dYe0b6nXLT8xlp303m6p3YPVFFgwNJyP5fovWvtduW+NuADIS0mi3u4DQvzx27vHnZZknH4tr/Yf47I00Ve7AkBr9rLc0NR2AXS1VYf9NxYvcc7GRkmINqVcqokDl6aef5u677+bkk0/mD3/4Q7CXxGg0BoOUgPHjxwNQW1tLXl4era2tuN3uHj0r9fX15OZGd0N7vfG5WXw+LW7HHu5G2rXTdI1trf78lHEpYyN+7Qe7bnndgcoeew1TM6dEdI7haKTdb7Hk82nUdTQC/vyUcK+jt8kf5ChZYzHklOCr3Ypr1wbMk/afVBGuHIv/GHVdjbjcnkE13Cn3XP8Ie4Dt2Wef5c477+TCCy/kgQce6BFwXHzxxfz617/usf26deswmUyMGTOGmTNnomlaMKkWYMeOHdTV1TF79uwoXoYQA29PRzUOrxOLIYFRSfGbnZAfXJxQkgtF7ESaSKvrOlqzf8hTzRiFoWAiijUFfJ6YtCstIZUEgxlN12hwNMbkmGJoCatHZceOHdxzzz2ccMIJXHXVVTQ27r1pLBYLJ510Evfccw9Tp07lqKOOYt26dfzxj3/khz/8IUlJSSQlJXHaaadxyy23cM8992C1Wrn11luZM2cO06ZNi/VrE6JfBeqnjEsbE9dvfcFS+h0y80fETkOENVT0jibwOEE1oKblYZ52OuaZZ8Wssq2iKOTZcqls301tZ31wFpAYOcIKVN577z08Hg8ffPABH3zwQY/nzjrrLO69914UReGpp57innvuITs7m0svvZQrr7wyuN2dd97JPffcw49+9CMAFixYwC233BKDlyLEwCrvHvaJZdn83gSmKNc7GvFoXkxqVDnxQgAEZ/xkhrkYoWJNwXraTeidLSiqMS4Ls+Ql5lDZvpuaznqmxf7wYpAL6x3u6quv5uqrr+5zmwsvvJALL7zwgM/bbDbuuusu7rrrrnBOLcSgpuka24OBSuwLve0r1ZyC1WjB4XVS39VAYVJ+XM8nRoZIq9IqRjPGwv2rJOu6Dh4nijn6mTGy5s/IJpPAhYiBms46Or1dmA1mipML43ouRVHIl+EfEUMOr5MOj39GTSzW+fHsWE7n0z/F+fljUR8L9uZlySrKI5MEKkLEQHl3fkpJanzzUwIKJKFWxFBDl783JcmUiNVoCWtf99p38WxdhO7aO3VYsSSjO9rwVW/296xEKdfm71Gp66pH02WWzUgjgYoQMRBY3yceZfN7ky+l9EUMNXTtnZocDl3z4lr6Es5P/43u3lvLypAzDgxmdGc7WktV1O3LsmZgVI14NC9NjpaojyeGFglUhIiSrutsCyxE2E+BSqBHpUZ6VEQM7F2MMLxEWq2tDjQvmCwoSXuDHMVgwpDnr6EVi3V/VEUl1+avpyJ5KiOPBCpCRKm2q54OTycm1cTolFH9cs5AjkqToxmXb/9qz0KEIzD0E24ibbB+SnohyjfWtTIUTATAV705Bi2EvO7hH8lTGXkkUBEiSoH8lLGpozH201ThZHMSyaYkdHRZVVZErSHSVZO7AxVDxv4J5MaCSQB4azajxyCvRBJqRy4JVISIUnnrdgDGp43t1/PuzVORQEVEp7ErukBFzSja7zk1ewyYLODqROsusR+NQKG3Ghn6GXGkUpQQUdB1PZhI21/5KQH5iblsbdlGjSTUiih4fV6ana1A+EM/vu5EWTV9/x4VRTVimrAAVDWmtVTqOuvRdT1mlW/F4CeBihBRqO9qoN3dgVE1MialuF/PHUyo7ZBvmCJy9V1N6OiYVRMp5tBX49Y9LnR7A+Bf46c3liMuiEkbwR9EqYqK0+ei1dVGuiUtZscWg5sEKkJEIdCbMjalGJPB1K/nLpApyiIG6jr8wUaWNTO8XgqjmcQL7kdrqUK1psSpdfucTjWSbc2irque2s56CVRGEMlRESIK/V0/ZV+B5MJWVxtdHke/n18MD3UdkdVQURQFNSkTY9HUPrfTPS68u9ehtUe/8nF+9/CP5KmMLBKoCBEhf/2U/lmIsDdWo5W0hFRAakuIyO0NVMKroRIq5yf/wvHOn/BWLI36WHky82dEkkBFiAg1OpppdbVhUAyMTe3f/JSAgu56KtWy5o+IUGDoJ9xEWteK13EtfxWtO0/lQAz5EwDwxqCeyt5aKhKYjyQSqAgRocCwz+iUIswG84C0IT9J1vwR0QkEKplhBiqejR/hXvk6urO9z+0M3fVUfLVb0TVvZI3stm+PSizWEBJDgwQqQkRop70SgNJ+rp+yr0CPipTSF5HQdZ26Tv/QT3YYQz+aw47usAOgphf0ua2aMQolIQk8TrSGnRG3FSDXlo2CQqe3K7jasxj+JFARIkI13ePkhd3BwkDID05RlqEfEb42lx23z4OCQoYlPeT9AgsNKsnZKKa+V1tWFDVmwz9mg4nM7nZKcD5ySKAiRAR0fW/p+kB39EDIS8xFQaHd00G7u2PA2iGGpkDp/AxLWljLP+wtnR/a2lbB4Z8YLFAoCbUjjwQqQkSg3dNBl9eBgkJO96quAyHBYCazu8teKtSKcAUXI7RlhbXf3tL5YQYqdeXovujyVIJr/shMtxFDCr4JEYFAb0qmNQNzPxd6+6b8xFwaHU1Ud9ZRll46oG0RQ0ugRyXbFmbp/DADFTW9gISjvo8hbzyohvAa+Q25gVoq0qMyYkiPihARCLxJBgpQDaRgQq3kqYgwBXtUwpjxo+s6ut1//6vpoQUqiqJgnrwQQ0ZR1Gv05AfX/JEelZFCelSEiEBgfDzPNnD5KQGBNX9kirIIV0NX94yfMHpUFEUh8aK/oNvrUFL6P1DP7a6l0uZup8vThc1k6/c2iP4lPSpCRGBvIu3A96jkJwWmKNdKbQkRluDQT7jl81UVNS0fJYxhHF3z4d78GY5PHkH3usM6376sRss+FZll+GckkEBFiAgE1hrJH8AZPwE5tmxURcXhddLmtg90c8QQ4fA66PR0AeHnqEREUXEvfxVv+Vf46rdHdah8mfkzokigIkSYOj1dwanAuQM44yfApBrJsfpnbUgpfRGqnfbdAGRa07EY+66Fsi/XspdxfPwvfHXbwjqfoigYCiYC0U9TDpTSl1oqI4MEKkKEKfAtLj0hLaw3+HgKDP9UyxRlEaItzf5AY0ruhLD281auwrtt8UFL5/dmbz2V6Aq/BYZcZehnZJBARYgwDab8lICCYIVa+YYpQrOlxR+oHJo7MeR9dM2L1loDhD41eV/GQKBSvx3d4wp7/wAp+jaySKAiRJgGU35KQL6s+SPC0OXpYne7vwx+OD0qWmsdaD4wWVCSwisSB90l9xMzQPPhqysPe/+AwJeEZmcLTm/kAY8YGiRQESJMwanJg7FHpbMWTdcGuDVisNvaWoGOTl5iDhnWtJD301q6C72lF0ZUD8WfpxJ9Of0kUyLJpiQA6rsaIj6OGBokUBEiTIOphkpAljUTo2rErXlodrYMdHPEILel2d+bMTEjvErG4a7x0xtjwURAQetqjfgYsPeLgvQiDn9S8E2IMDi9TlpcrUBse1R0XY+qBopBNZBny2FPRzXVHbVkhVkXQ4wsgfyUiRnjw9ov3DV+emMcN5uk0dNRLEkRHwP8eSrlrRWSUDsCSI+KEGGo6+5mTjEnkxjDiphrtjdx63+W8sXqqoiPkR8c/pFvmOLAWl1t1HU1oKBQllES1r665gVFjSpQUUyWqIMU2GfmjyTUDnvSoyJEGAJBQKCOQ6x8tqqKnbXtlO9uZcrotIiOEVjzR6Yoi74EpiUXJ48KO9i2nfJzf1VZNTbfcXVdQ1EiO1bgb7BWAvNhTwIVIcKwN5E2tvkpPzhtEovW1zK1LIf1FU1MLE4P+xj5SdKjIg4uMOwzIcz8lADFaI66Db6m3bgWPYWuayR+65aIjhHoQWxwNOHRvJhU+TgbrsIOZVtbW/nd737HggULmDFjBt/73vdYvnx58PnFixdz9tlnc9hhh3HyySfz1ltv9djf5XJx++23M2/ePKZPn87Pf/5zmpubo38lQvSD2uDU5Nj2qCTbzEwfn8Ut//yKv7y4Fp8W/sydQI9KXWc9Ps0X0/aJ4UHX9b2BSnpkgUosKJYkfLVb0eq3o7s6IzpGijkZq9GKji4zf4a5sAOVn/3sZ6xatYoHHniAl19+mUmTJvHDH/6QiooKtm/fzlVXXcX8+fN55ZVXOPfcc7nppptYvHhxcP/bbruNL7/8koceeognnniCiooKrr/++pi+KCHipSZOPSoA+VmJpCaZKcxOxN7pCXv/dEsaZoMZr+4LLjYnxL7quxpodbVhVI2MSx0T1r6upS/R+dodeLYvibodamI6Smou6Dq+mq0RHUNRFBn+GSHC6iurrKxk0aJFPPvss8ycOROA3/72t3zxxRe8+eabNDU1MWHCBG644QYASkpK2LhxI48++ijz5s2jrq6O1157jX/+85/MmjULgAceeICTTz6ZVatWMX369Bi/PCFix+3z0OTw9/7FasbPp6ur2FzZwsmHF1M6Ko3Hf3cS7XYHXm/4PSqqopKfmEulfTfVnbWDqs6LGBw2d/emjEsZjdlgCmtfX0MFWn0FRFFRdl/Ggkl42urwVm/COCay9/78xBx22CsloXaYC6tHJT09nUceeYRDDz00+JiiKCiKgt1uZ/ny5cybN6/HPnPnzmXFihXous6KFSuCjwWMHTuW3Nxcli1bFs3rECLu6roa0NFJNNqCxaaioes6HyzbzdJN9Wyv8q96bDREl6QYGP6pkcUJRS+iyU+JxdTkfQULv9VEXvgt0LNZI1OUh7WwelRSUlI4+uijezz23nvvUVlZyc0338yrr75KXl5ej+dzcnJwOBy0tLRQV1dHeno6CQkJ+21TWxvdG6vRGNuZ1obuDwxDlB8cI9FwvXYNTv84eH5SLiaTISbHvOasKXyysooF0wp6XLdATZVwq3+OSsmHGqh11Mf8b2KwGq73W6xpukZ5y3YADskqw2hUQ752Wpcd3WEHFMzZRSgxuLfUosk4Aa1pN6q3E9WSHPYxCpP9gUpdZ12/3u9yz/WvqNKkV65cya9//WtOPPFEjjnmGJxOJ2Zzz4zwwM9utxuHw7Hf8wAJCQm4XJF3J6qqQnp6YsT79yUlxRqX444Ew+3atezxD/uMziiM2f2Wnp7I9En5wZ91Xefvr65j/fYmHvjp0eSmhzd9tMw1GrZAXVd93P4mBqvhdr/F2vbmSrq8DqwmC4eNnoBB3RtsH+zaOdoqaAOM6blk5GTEpkHpiXRljcLTuAdL204S8+cefJ9vmGgeC6ugztFISqqlx2vqD3LP9Y+IA5UPP/yQX/ziF8yYMYP7778f8Accbre7x3aBn61WKxaLZb/nwT8TyGqN/BeuaTp2e1fE+/fGYFBJSbFitzvw+WTtlHAM12u3o9Hf9Z1hyqClJbKZCn0JXLfaxk7snW6Wr6/miEPzD77jPlL0NABqOuqpb2zFFGYewlA0XO+3WFu6cy0AZWkl2NucQOjXzlnpHzJS0gpjeu8biqdDcg6dXiPuCI6r6mYSDGZcPjdbq3f1W16W3HOxkZJiDalXKqJA5emnn+buu+/m5JNP5g9/+EOwlyQ/P5/6+p5jhfX19dhsNpKTk8nLy6O1tRW3292jZ6W+vp7c3OhmUUSSfBgKn0+L27GHu+F27Wo6/DMLci05Ub+ut7+uxO3xcez0QlKTeg6Fnr+wFFVRGJ2XHPZ5Eg1J2IxWurwOqux1jEouiKqdQ8lwu99ibVOjf32f8Wkl+12ng107b+MuAJS0gpheY9OscwiE0pEeN9eWza72KqrstWQlhL+iczTknusfYQ+wPfvss9x5551ceOGFPPDAAz0CjlmzZrF06dIe23/99dfMmDEDVVWZOXMmmqYFk2oBduzYQV1dHbNnz47iZQgRX17NS72jEYh+xo/L4+Odryt5Y9FOdtS07/f8pDEZlBSmRpRYqyiKlNIX+/H4PGxv2wFEWD/FnIiSnI2aWRTjlkUvmFArM3+GrbDeCXfs2ME999zDCSecwFVXXUVjYyMNDQ00NDTQ3t7OxRdfzNq1a7n//vvZvn07jz32GO+++y6XX345ALm5uZx22mnccsstLFmyhLVr1/Kzn/2MOXPmMG3atHi8PiFiosHRhKZrWAwJpCWkRnUso0Hh4pMmMHtiDlNLYr94YH6SlNIXPe2wV+LRvKSYk4OBbDgsc88n6Xv3YRo3Jw6tA83egGaPrGib1FIZ/sIa+nnvvffweDx88MEHfPDBBz2eO+uss7j33nt5+OGHue+++3jiiScYNWoU9913X48py3feeSf33HMPP/rRjwBYsGABt9wSWQllIfpLoE5DbmJO2DNxvsmgqsyZlMucSQf+wNhe3cbGHc1MGZfJ2PyUsI4fnKIsgYroFljfpyy9JOr7N9Zcy1/FvfJ1TJOOxTL/krD3D/SoyCrKw1dYgcrVV1/N1Vdf3ec2CxYsYMGCBQd83mazcdddd3HXXXeFc2ohBlTg21q+LfYVaXvz8YoqFm+oxevTIwhU/G2s7pBvmMIvUD9lYvr4sPfVNR8oatwCHDVrNAC+6sjqqeTvs4qypmuoES5yKAYv+Y0KEYLgqslR5qe89kVFdwDSdwLe1JJM5kzKYUxe+LUl8rt7VJqczbh8+8+yEyOLw+ukst0/Yy2SQm/uNe/Q+eSPca18I9ZNA8CYPwFQ0Npq0Tpbwt4/05KBUTHg0Tw0O1tj3j4x8CRQESIEgW7laAKVZruT/31Vyb/f3EhNU9/T6Q+fnMvV35rC9LLssM+TZE4k2eyvnCvj9mJbawWarpFtzSTDEv6q3FrzHnRXB6jx+bhQEhJRs4oB8NVsDnt/g2ogx+b/O5H7fXiSQEWIg9B0jbru1VkjSUQMMJsMnHnUGOZMyqEoJ/oS/H0J5KlUSyn9ES+QnxLpasmB0vmGGJXO702wnH7Ewz+SpzKcSaAixEE0Oprxal5Mqimib6QBSVYTZx45lqu/NSXkfbqcXpq6i3OFIxioSELtiLe5xV8/ZUJGBPkpPi9aaw0Aanr8AhVjwUQAvNXh96iAP8kdZEr+cCWBihAHEehOzrVl92ui3qerqvjxnz/n+U+2hb1vfpL/G2ZVR02smyWGkDZXe/DDuyytJOz9tbZa0H1gsqAkxX4qfYAhbwIoKrq9Hq2jKez9Az0qdVJLZViKaq0fIUaCWOSnvPZFBYeVZoU1gycvw4YO2DvCXwdrbIp/JsWOtkp8mq/f10ARg8PW7tk+o5IKSDKHv/bTvismx3Nas2K2kjDnOygpuSgJ4Q+LBmqp1HTWo+v6oJuCLaIjgYoQBxGooRJpfkpFtZ03Fu3k7a8reeBHR5FkDW39ndJRqTz4oyP3K7EfirzEHBJNNjo9XVS272Fc6uiwjyGGvsC05Ehm+8A++SlxHPYJMB92asT75tiyUBUVp89Jm9sedVFGMbjI0I8QBxGcmmyLrEfFmmBg3iG5HDElL+QgBcBoUCMKUgBURWV82jgAtrVURHQMMbTpur43UImgfgqAmpKDofAQDLnhDxv1J6NqJNvqH5qqleGfYUcCFSH6oOv6PkM/kfWo5GcmcsUZh3DJyRNj2bSDKu0OVLa2bu/X84rBodHRTLOzBYNioDRtbETHME1cgO20GzFNmB/j1vXOW7sV1/JXI8pT2Tv8Iwm1w40EKkL0ocXVitvnxqAYgt/YIhXJuHljm4PH3t7EQy+vDXvfQI9KRdtOfJov7P3F0BaY7TMmpZgEg/kgWw8OriUv4F75Ot4968PeV0rpD18SqAjRh8CKrNm2rLATUr0+jXeX7MLeGXl1WJNB5cu1Nawub8Th8oa1b0FSHjajFZfPze6OqojbIIamaPNTdLcD3dUZyyYdlDFYTyX8acp5ibI44XAlgYoQfdi7xk/4+Smryht54ZNt3PHEMjRdj+j8qUkJfOeYEq7/zlSMhvB6ZFRFDQ7/lEueyoii6Vpwxk+khd48FUvpeOI6HB/9I5ZN69O+hd/0MP9m8vZZ80cMLxKoCNGHwJteJPkptgQjY/NTOGJKPmoU0yVPnTuaw0qzMBnDn2I8vjs3obxVApWRpKqjlk5PF2aDmTEpRREdIzDjR7GlxbBlfTPkloJqRO9qRW8Lr2ckz5aDgkKHp5N2d0ecWigGgkxPFqIPtV3dPSoR1FA5ZGwGh4zNwKf1vQBhPJWm+3tUtrfulJVlR5At3fkp49PGYVQje5vvj9L536QYzRhyS/DVbMFbvQlzWl7I+5oNZjIs6TQ5m6ntrA+udyWGPnnXEuIAdF0P5qhEOuMHwBDlYm66rrO7voNPVlWFHfSMSirAarTg9DnZ014dVTvE0LElymEf6FnsrT9Fs+5PcPhHEmqHFQlUhDgAu7sDh9eBgkKONSvk/TocHpZtrsfri01Pig784ZmVPPXeFnbXh9elrSoqJan+4R+ZpjwyeDUv21p3AFEsROiwozvbAQU1vSCGrTu4YKDStCvsfSWhdniSQEWIAwi82WVbMzEZQi/U9uXaGv7x2noeenldTNqhKgpTxmUweUw6Pi38pNzx3cM/2yRPZUTYad+N2+cmyZRIQVLoQyf7CuanpOSgGCMrOhgpQ844bGfdSuK594S9b76te4qyJNQOK5KjIsQB1HTnp+SGmZ9iMqqk2EzMnJAds7aEs+LyNwUr1Eqeyoiwpdmfn1KWXhLx71pr3g2AIaMwZu0KlWIwYciOrECdDP0MTxKoCHEAdRGu8XPczFEsOKx/u8v7MiqpAIshAYfXQVVHDUXJ/f/hI/pPLPJT1IwiTJOOjThgGCiBQKXV1YbD68BqtA5wi0QsyFcrIQ4gmjV+TEYVkzH2f15en4bHG17ui0E1MC5tDCDTlIc7p9fFDrs/t2NiRmTr+wAYCydjmX8JpokLYtW0sOjODhyf/ofOV25D10O/361GK6lm/wrlMvwzfEigIsQBhLtqclObk1117XFrz1Pvb+FHf/6c5VvCfwMuS/MvKicLFA5v29t2oOkamZZ0sqJc8mFAmS14K5aiNe5Eaw6vqnLg71UCleFDAhUhetHh6aTd459hE2qOyrtLdnHbf5fx8mfxmV1jVFXcHo0dNfaw9y0N5qn4P8jE8LSlOfphH93dha9hB7rXFatmhU1Rjf7ib4CvdktY+waGfwI5ZmLokxwVIXoR+DaWYUkPeUE3j8+HQVWYODo9Lm06btYoFkwrID/TFva+xcmFmA1mOr1d1HTWUZiUH4cWioEWWIgwmkDFV70Fx/t/Qc0sIvGcO2PVtLAZ8ifgq9qAr2YrHHJ8yPsFApU66VEZNiRQEaIXganJeWHM+Ln0lEl8e/44UhPjs1JtTlrkiYEG1UBJ6hg2NW+lvKVCApVhqN3dQVVHDQBlES5ECODrnvGjpvdvobdvMuSVAeCr2YKu6yGvPp7XPUW5RgKVYUOGfoToRXCNnzATadOSEkJ+Q+1vgWnKklA7PG1t8Q85FiTmkWJOjvg4Wos/J6S/K9J+kyFnnH/dH0cbuj30YZxAjkqzswW3L/KVy8XgIYGKEL0I1GEIJZG2vtVBh8MT7yYBsLPWzgsfb+OLNeGXw9+38Fu4K9OKwS8W05JhYNb46Y1iNPuDFfAP/4QoyZxIkikRHZ26roZ4NU/0IwlUhOhFcGpyCIHKcx+W8/O/L+LrjbXxbhY7a9p5d+kuvt4YfqJgcfIoTKqJDk9n8PWJ4SMYqEQx7KP7vGit/vt4oHtUwJ+noqYXghreyuHBhFq5z4cFCVSE+AaH10mrqw04+NCPx6vR0uHC49UYnRt5d3uoJo5OZ8FhBRw9LfyCckbVSEnqGEDK6Q83TY4WGh1NqIoanOEVCa2tBnQfmKwoiRkxbGFkzLPOIvHcuzGVHRnWfnkyRXlYkWRaIb6hrnvYJ9WcjM3UdwKryajyu0tmUdXYSX5mYtzblpdh49JTJka8f2naODa3lFPeWsGCUUfEsGViIAV6U0YnF2E1WiI+TqBmiZpROChyrZQIlwAIfMGQUvrDgwQqQnxDYLZAKMM+AIqiMCo7KZ5Nipnx6eNgB5S3VIQ1k0IMblsC05KjGPYBMGSNIWHu+SiW+PcOhkP3ecHjRLGE9ne2t+ibDP0MBzL0I8Q31IaYn9Jsd6JFsJpxLDTbnWzb0xb2fqNTijCpRto9HZJoOEzouh6zRFo1LQ/z1FMwlR0Vi6bFhHvDR3Q8fi2uZS+HvE8gR6XB0YRX88araaKfSKAixDfUhrjGz7MflvPLfy5m6+7WfmjVXuV7WvnFw1/x8Gvrwp69Y1KNjE0Z7T+O5KkMCzWddbS7OzCpJsamjh7o5sSckpgGPndYFWpTzSlYDBY0XaO+qzF+jRP9QgIVIb5h7xo/fQcqO2rsNNmd9PfoSXFuMkaDSkqiGYfLF/b+pd3TlMtb4lPqX/SvQG9KSeoYTGrko/m6x4Vn29f4uqcnDxaBwm9aSzWaM7S1tBRFCf79Sp7K0BdVoPKvf/2Liy++uMdjt9xyCxMmTOjx38KFC4PPa5rGX//6V+bPn8+0adO44oor2L17dzTNECJm3D43Tc4W4OBDP/dcMZdfXjCdMXn9O56fYDLwt5/O57bL5mCzhP/BND5N6qkMJ4H8lGhWSwbQmnfj/PifON6+PxbNihnVkuyfogz4akOvpxJYo0vyVIa+iAOVZ555hj//+c/7Pb5lyxauvvpqvvzyy+B/L730UvD5hx9+mGeffZY777yT5557Dk3TuPzyy3G7pYKgGHh1XQ3o6CSabCSb+07cSzAbmFCcjskYXo2HWDCbIj/n2JRijKqRNnc7DQ7pFh/KfJqP8u4VsaPNTwn0pAyG+infZMifAIRX+E1WUR4+wg5U6urquPrqq7n//vsZM2ZMj+d0XWfbtm1MmTKF7Ozs4H8ZGf75+G63m8cee4zrr7+eY445hokTJ/Lggw9SW1vL+++/H5MXJEQ09pbOD23Gz1BkMpgYk1IESJ7KUFfZvgenz4XNaGVUcvi1dfYVqEgb6L0YTPZd9ydUgRwzKfo29IUdqGzYsAGTycQbb7zBYYcd1uO5Xbt20dXVxbhxvRcc2rx5M52dncybNy/4WEpKCpMnT2bZsmXhNkWImAt0Ex8sP+W5j8p5Z0kl9q6B6Qn0+jQefnUdP//7Irqc4c9qCK770yKBylC2pdmfn1KWXoIaYc2RgMAaPwNdOr83gR4VrakS3e0IaZ/A0G29oxGfFn4ulxg8wh7gXrhwYY+ck31t3ervlnvqqaf4/PPPUVWVBQsWcMMNN5CcnExtrb80c35+z5Vbc3Jygs9FymiMbV6wwaD2+L8I3VC+drUOf49KYXLeAe8ph8vLB8t3o+tw1NSCmN174Vw3o1FlV10HLe0udta1M7UkM6xzTcgs5Z2dH7GttQKDQRnS9VSG8v0Wra2t/kBlUub4iO7DwDVTVSXYo2LKLo75+2nUUjPxTJyPIS0fgwpqCO3LScrApJrwaB5aPa3kJmbHrDkj+Z4bCDEt+LZ161ZUVSUnJ4d//vOf7Nq1iz/+8Y+Ul5fzxBNP4HD4I2Gz2dxjv4SEBNrawq8JEaCqCunp8akKmpLSd2VScWBD8doFcjbG540+4D1ldni49LTJVDV0Mq449mXGQ71uV509lUSrifFFaWHnrMxMnoxhlYEWVxses4PcpNi9iQ+UoXi/RcPldVPRVgnA4WOnkp4S+XtgosFNk7MdUMgcNx7VlBCjVsZO+jk/DXufUal57GjZTbvSxsT0MTFv00i75wZKTAOVa665hgsuuID09HQAysrKyM7O5rzzzmPdunVYLP7Szm63O/hvAJfLhdUa+S9c03Ts9q7oGv8NBoNKSooVu92Bz6fF9NjD3VC9dl7NS02Hv0clSU+lpaXzgNse273WTl/bhCvc6za+wD/bqLPDSSStGJNSxPbWnSzbuZ4jC+dEcITBYajeb9Ha2LQVr+YlLSEVizcponsxcO1ad/pnDqmpObR1eIHhUSQt25LNDnazrW4Xpbboko33NVLvuVhLSbGG1oMcy5OqqhoMUgLGj/dPmautrQ0O+dTX11NcXBzcpr6+ngkTJkR1bq83PjeLz6fF7djD3VC7dtUd9Wi6hsVgIcmQNGBt76/rVpo6ju2tO9nStJ3Dc2fF/XzxNtTut2htbPAPtU9IL8Xn04HIp5ormcVYTrweNO+gvoZaRzO+2q0Yx8xAMZoPun2u1Z9rVtVeG5fXNdLuuYES0wG2m266iUsvvbTHY+vWrQOgtLSUiRMnkpSUxJIlS4LP2+12Nm7cyOzZs2PZFCHCFigMlZeYc8CcDU3X2bKrBZdncCTnVVTbefvrSmqbw+9RHB8o/CYzf4akWJXNB1AtSZjGzMA0bvD2rOm6Ttdrd+D8+J/46kO7Z/OCtVRkivJQFtNA5aSTTmLx4sX87W9/Y9euXXz22WfcfPPNnH766ZSUlGA2m7nooou4//77+eijj9i8eTM33HADeXl5nHjiibFsihBh27vGz4Fn/NQ2dfGHZ1fxs799OWDr/Ozr9S938NKn21lX0RT2vuNSx6AqKs3OFpoczXFonYiXTk8Xu9v9s3SiXYhwqFAUZe805RDL6efvs4qypkvPx1AV06Gf4447jj//+c888sgj/Pvf/yY5OZkzzjiDn/70p8Ftrr/+erxeL7fccgtOp5PZs2fzn//8B5PJFMumCBG2vaXzD1xDpbXDRVqSmZx0G6o68DNlDivNxGxSyU0PP8crwWBmdPIodth3Ud5aQaY19onBIj7KW7ajo5NryyEtITWqY+m6hmPFG5Caj7H4MJQoyvDHmyF/At6KpSEXfsuyZmJQDLh9blqcbWRa0w++kxh0oroj77333v0eO+WUUzjllFMOuI/BYODGG2/kxhtvjObUQsRcTQiLEU4ek8Gfrjty0Az9LJwxioUzIq97MT69JBiozM0f+nkqI0Ush328rfU4l7wEBiNJl/0r6uPFU7BCbV05uuY9aFBlUA3k2LKo6ayjtqteApUhSiaBC4G/FHl999Tkg63xoygKFvPg/dYZjtLAuj9S+G1ICQYqMRj2cdfvAkBNK0BR+385iHCo6QWQkAheN1pjZUj75AVL6UuF2qFKAhUhgCZnM17Ni0k1kWFJG+jmhM3p9mLvDL9KbknqaFRFpdHZTIuzNfYNEzHX6mqjrqsBBYWytN6rgIfD3dAdqAzCirTfpCgqxmA5/dCGf4J5KhKoDFkSqAgB1HTunfFzoFLk6yua+N1/lvLGoh392bSDenfJLn704Be8/mX47bIYLRQl+dd2kdk/Q0OgbH5x8ihsJlvUxwsGKumDP1CBvcM/3hDX/QnO/OmSmT9D1fDovxYiSnXBxQgPnJ+ydU8rexo6GJ3b96rK/S0r1YKm6zS0hrYGyjeNTx9HZftuylsqmJM3I8atE7EWy2EfAHe9fwhlMK7x0xvjmJkoienBGUAHExj6qemsR9f1Ib1cxEglgYoQQE1XYGrygfNTjptZRHFOMmnJg6u8+JRxGdx/7RFkpFgOvnEvxqeN48Ndn7FNelQGPV3X2dzsryIbi0Ra3efB01wDgJox+FZN7o2ako2aEvqSDzm2bBQUHF4HdncHqQnJcWydiAcZ+hGC0FZNTk00M2tiDqWF0U0HjTWL2RhxkAJQkjYGBYV6RyOtrsjX3BLxV9fVQJvbjlE1Mi51TNTH87XUgOZDMdtQEofn9HSTaiTb6l+0U/JUhiYJVMSIp+lasIbKwWb8DEdWo5WiZP/aRTL7Z3ALDPuMSxmN2RB97SlDRiGjrnyQxJN+NKSGRLT2Rlyr/odr9f9C2j44/NMlgcpQJIGKGPFanG24NQ9GxUCWpfdvlZsrW/hibTWNEeaBxFttcxdPvLuZx9/ZHNH+gWnKklA7ePk0H8tqVwGxy09RVAPm7GJMRVNicrz+onU04V72Ep51H6DrB68QHUiorZNS+kOSBCpixKvt/paVY8vGcIA6Ep+vrea/b29m0fra/mxayLw+jc9WV7NkYx0+LfxS4eMlUBn0Xt/+DjvslSQYzMzKnTbQzRlQhuyxoBrRHW3o9oP3kgSS5Cvb98S7aSIOJJlWjHg1IazxU5yTTHObk7KitH5qVXgKshI5de5oxuanEMIXzP2Upo1FQfHnQLjaJeFwkFleu4qPdn8OwMWTzierO+ciWl2LnkHJykMbPReM4S/DMFAUoxlDzjh8tVvx1mzBnJrX5/YTMkpRFZVK+25qO+tG5BDvUCY9KmLEC2Vq8smHF/Ori2YyafTgLMGtKgrfOaaEmROyMRrC/7O2mWwUJuUDyOyfQWZPezVPb34JgBNHH8v0nENjclzd3YVrzXs0f/QEMPALbIYrWE4/hMJvaQmpHJI5EYBF1Uvj2i4RexKoiBGvZgQn0u4rMPwjgcrg0enp4pF1T+LRPEzKKOOMcSfF7NjeytUAmDLyUS2DqzZQKIKBSm1oFWqPLJgDwJLaFXg0b9zaJWJPAhUxoum6HsxROdCqyfYuN1ok4yn9TNd1qhs7WbSuJqQEw28qTfcHKlslUBkUNF3jvxuepcnZTKYlg8sOueCAVZMj4dm6CICkKQtidsz+ZMgpAUVFb29A62g66PaTMyaQlpBKp6eLtQ3r+6GFIlYkUBEjmt3djsPrREEh25bV6zZ/e3kdP/7zF2zY0dzPrQuP26tx62NL+c9bm2hqc4a9f2naWMBfa6Ld3RHr5okwvVnxHpuat2JSTVx56PdJjEG5/ACtoxlf1UZg6AYqitmKmjUajGa01oMnuRtUA/O6VwiX4Z+hRQIVMaIFEmmzbZmYelkyXtN0apu7cLi8ZKVGXlStPySYDJQWpjKhKI0uV/hd20mmRAoS/UmJ21oH13pGI82q+nW8X/kJABdN/A6juuvcxIpn22JAx5g/AVN634mog5n1hB+RdMnDGEcdEtL28/LnoKCwpWUbDV0H74URg4PM+hEjWqDQW76t92EfVVV48MdHsqe+k5z0wT8r4qYLpkdVuGt8+jiqO2spb90es6RNEZ6azjqe2vQ8AAuL5jMrb3pMj6/rOt5y/7CPecJRMT12f1OTwpv9lGlNZ2LGeDY1b+WrmqV8q+SUOLVMxJL0qIgRLZQ1fgyqyui85CFRuTPaNgYLv0mF2gHh8Dp4ZO0TuHxuytJK+HbJqbE/iceJkpwDJgvmktmxP/4ACTUv68iCwwH4umY5Ps0XzyaJGJEeFTGiBacm91FDZSjSNB0dHYMa3neRwMyf6s5aOjydJJkS49E80QtN13h8w3PUOxpJT0jjB1MuPGABwmgoZiu2k3+K7nGhJMSul1DTdFS1/4N518o38G5bjHn2OZjGzjro9lOzJpNsTsLubmd90yYOyx5aVXlHIulRESNaX8XedF3n4VfX8crnFXQ6Pf3dtIg99vYmfvTnz9m0syXsfZPNScHepe2Sp9Kv3tn5EeubNmFUjVx56PdJNsd3yrBiit0q4Nur2rjl0SVsqvTfc7qu99tMOb2rFa21Bl/NlpC2N6gG5uZJUu1QIoGKGLE63J10eDpRUHot9tZkd7J8SwPvfF2JKYIiagPF59Nxun1sr7ZHtP94Gf7pd+saN/L2jg8A+O6EsylOGRWX8/haq9HsDTE/7utf7qC2uYtF62rwaRqPvb2Jlz7dHvPz9MaQVwaEXk8F4Ijumiobm7bQ4myNR7NEDA2dd18hYqy2yz/sk2FJw2ww7/e8NcHI90+ewGnzRmM2xb4LPl5OnVvMbZfN5owjxkS0v6z707/quhp4fMNzACwoPCI4hTYe3MteofO5G3Gv/yCmx736W1M4aU4R5y8sZXNlK4vW1fL+0t3saYj/NPdA4TetaRe6uyukfXJsWZSllaCj81XNsng2T8SA5KiIEWvvsE/vibSJFhPHTCvszybFRGF2dEMGgYTaqo4aujxd2GJYv0P05PQ6eWTtEzh9TkpSx3DO+NPjdi7d1RmsRhv4cI8Vm8XI+QvHA3DI2Ay+u7CUnHQbo6K8F0OhJqajpOSg2+vx1W7DWDw1pP2OLJjD1tbtLK5exiljjotpMT0RW/KbESNWbQiLEY5EqQnJ5Nqy0dGlnkoc6brOU5teoLarnlRzCj+ccjHGXmr5xIpn+1LQvKgZRRgyi6M+nq7rVNa29/rciXOKmTa+9wKK8WDIC5TTDy1PBeCw7CkkGm20uFrZ2BT6fqL/SaAiRqy+aqi4PD5WlTdg73L3d7NioqLazsufbWfFlvqI9i+V4Z+4e7/yE1Y3rMegGLj80IvjvmK1p7t2iqnsiJgcb/GGWm5/fBlPvd/3h3yn08Ofnl/N9qq2mJy3N8Z8f56KN8SEWgCTwcSc/BkAfCVJtYOaBCpixArkqPTWo7Kj2s5DL6/j9v8OzfHrDTubeWtxJV9vqIto/zJZoDCuNjRt4c2K9wA4r+xbjEsdHdfzaW11aHXbQFEwls6LyTFrmvz5IBnJfc8eeu2LHWzY0cwjb27A69Nicu5vMuRPQEnNxZBZHNY6V4GaKuuaNtHmiiz5XMSf5KiIEcnhddDq8n/D6y1QcXt9FGQlMip7aNYRmTouk1217Rw9LbLS64EFCne3V+PwOrAaB39V3qGi0dHE4xueRUfniPw5HFU4N+7n9JR/BYBh1KGotrSYHPOco0uYPj6b4ty+81C+c3QJLe0uvn3UWIxxmj2npuSQdP4fwt4vPzGXcamjqWir5Oua5Zw0ZmEcWieiJYGKGJECwz5pCam9fghPLcliakkWmjb4V03uzei8ZK47O/IS+GkJqWRbM2lwNLG9dSdTsibFsHUjl8vn5pF1T9LldTAmpZjzJny7X87r3bkSANP42Az7BIwrSDnoNglmAz+K4l6MtyMKDqeirZKvqpdywuhjJKl2EJLfiBiRAoFKb/VT9jUQlTYHi/FpJYDkqcSKrus8s+lFqjpqSDYlcfmUi3pdCDMebN+6BcuxV2IcMyOq47g9Pl78dBsdjsgLINY2d/HP19fj8sS+fL2u+UJaSXlfM3KmYjFYaHQ2s7Wlf2q/iPBIoCJGpL1r/PRekXa46HJ6+GRVFTVNnWHvOz5dEmpj6ePdX7Cifg2qovLDKReRbknrt3MrpgRM449AMe5fLygcb361k3e+3sX9z62K6O9E03T+8tJalm6q54VPtkXVlv2O3dFExxPX0fnK79C10FcPTzCYmd298KMk1Q5OEqiIESnYo9JLDZUv19Vw0z++4s2vdvZzq2Lv8Xe38NR7W/hsdXXY+wYKv+1ur8Lpdca6aSPKluZtvLrtLQDOKT0jGATGm65rMQ28p5Zkkp9p48wjx0a0AKaqKvzg1ImUFaXxraPGxqxdAEpiOopqBK8brbEyrH2P7K5Uu6ZhPR3u8IN6EV8SqIgRqa+hn+1VdhrbnDhdoX8riwVv4y4cuzbG9JhHTMmjMDuRgqzwk4LTLWlkWTLQdI3tbeG98Yu9mhwtPLbhGXR0Ds+bydGjYpsn0hfv9qV0vfQb3Js/i8nxxo9K4/YfzGFGWXZUx/jlBdNJsUXXu/NNiqJiyPMXnQt13Z+AouRCipML8eo+ltSuiGm7RPQkUBEjjsvnptnpXzwtv5celfMXlvLz86dx5KH5/dYmraOZ9lfupOap3+Kpil2wclhJJnf8YA4LDotu9o9MU45MbWc9/17/JB2eToqSC/nuhLMj6omIlKd8EVpLNXpHU1TH2TepPBYzd/a9Bht2NvPRij1RHxP2VtwNp55KQGCq8qLqpcNq+Hc4iOqO+9e//sXFF1/c47FNmzZx0UUXMW3aNBYuXMiTTz7Z43lN0/jrX//K/PnzmTZtGldccQW7d++OphlChKWuqx4dnSRTIknm/XsarAlGDhmbEVEvRKRcS14ArwsAd/nXMTuuoihRfTDKAoXhc3qdfFW9lD+t+Dt3Lrmf3e1VJJpsXDHl+5gNpn5rh9bVim/PeiC62T4t7S5+8++vWbKxLuYf4NWNnfz5hTU888FW1ldEF0zB3kDFV1uOrodXs2VW7jTMBjN1XfVsb9sZdVtE7EQcqDzzzDP8+c9/7vFYS0sLl112GcXFxbz88stcd9113H///bz88svBbR5++GGeffZZ7rzzTp577jk0TePyyy/H7R6aFUDF0BOsSHuANX76m7dmC97t/uAk9fAzsB19WczPoek6G3Y2Y+8M7+8sEKhUtu/G5ZO/0QPRdZ3ylgqe3Pg8v/7yTp7Z/BIVbZWoisqhWZP48bQrybSm92ubvNsWg66j5paipuZFfJx3llRS1+Lgw+W7iXU/Q36mjeNmjmLOpBwmFEd/fdTMYjBZwN2F1lwV1r4Wo4VZOYcBklQ72IQ9N66uro5bb72VJUuWMGbMmB7PvfDCC5hMJu644w6MRiMlJSVUVlbyyCOPcM455+B2u3nsscf4xS9+wTHHHAPAgw8+yPz583n//fc5/fT4LcglREAgUMntZcbPss31tLa7mFqaSW56/Bfj0zUfrkVPA2CefCyZx19KS0snxPgj4R+vrWfFlgbOPbaEUw4PvQpqpjWDDEs6zc4WKtp2MimjLKbtGupaXW18XbOCr2uW0eDY2yOQa8tmXv5s5uTNIDXh4LVG4sGz1V/kLdraKeceU0qS1cSM8dmoMR62UhSF8xaWgh6bUgCKasCQW4pvz3p8NVswZBaFtf8RBYfzVc0yVtav4Tvjz5AFOQeJsAOVDRs2YDKZeOONN/j73/9OVdXeqHX58uXMmTMHo3HvYefOncu//vUvGhsbqa6uprOzk3nz9pZwTklJYfLkySxbtkwCFdEvAosR9rbGz2erq9i4swWjUe2XQMWz6VO05t2QkIj18O8EH9fdXbjXvIN5+hlRTykFmDI2g407WyIqYDc+bRxLalewraVCAhXAo3lZ17iRxTXL2NS0Fb07qEwwmJmZcxjzCmYzNmV0v+aifJOvaZf/vlKNmMbNiepYJqPKmUfGdobOvlRFgX0u1WerqygrSiM/M7KhV1PZURjyyjAUTAx73zEpRRQk5lHdWcvSulUcM+rIiNogYivsQGXhwoUsXNh7meHa2lrKynq+keXk+L+11tTUUFvrL8STn5+/3zaB5yJlNMY2L9jQnTBmiFPJ5+FssF+7wBo/hSl5+90308ZnYzIamDQmPeb3VG+8ig5GM9Y552BKSgX83ywdb9+Pr74CBQ3bvPOjPs/8aQXMP6wAs8kQ9r4TMktYUruC8raKfrkm4eqv+21PezWLqpaxpGYFnZ6u4OOlaWM5snAOM3KnYjH2ve5Nf3Fv6+5NGTMdU9KBe3T6unY7a+yMzkvu14Drk5VVPPHuFjJTLNx5xeEkWcPP6TFOjK4HaX7RXJ7f/BqLq5dy3Oijen39g/09briJaVlEp9OJ2dzz219Cgv8P1+Vy4XA4AHrdpq0t8pU1VVUhPT0+iY8pKbLGSaQG47Xz+DzBLvqJhWNIt/a8b753cj+Xij/6LLzTF2BISkNR/UFEaqoN49HnUffivbhWv0PmtAVYCkr7t137mG2awpMbXmCnfTe2ZBMJMejhiYd43G8d7k4WVS7nkx1fUdGyK/h4ujWVY8bM45ix88hP7ru68UCwHDoPu7eD5ClHYwvhvfGb125zZTO3PraUmRNzufnSOZj6KUA97vDRvL9sN0fPGMWo/NQB6ZU6KfEoXil/iz0dNTTrjZRmjDngtoPxPW44immgYrFY9kuKdbn8MxlsNhsWiwUAt9sd/HdgG6s18l+4punY7V0H3zAMBoNKSooVu92BL04rfg5Xg/naVbXXoOkaVqMFHEZanIOhuJMF2pw9r1v2ZMzj5+EuX0zt638l5dw7UGI0Y6Sh1UFKopmEEHtXTLqV9IRUWlxtPLz4Kb5Tdkavs6UGSqzvN03X2Ny8ja+qlrGqfh3e7iqnBsXAYTmHcGTBbCZnTfCvCeOlO6dokEkZi/noK3EBrj7ad6Brt2l7IwZVwWJS6Wh39EOD97rtstkkmA20tkb+nq457HirN6Pa0jHmjw97/xk5h7KkZiVvb/qUiw85d7/nB/N73FCSkmINqVcqpoFKXl4e9fX1PR4L/Jybm4vX6w0+Vlxc3GObCRMmRHVurzc+N4vPp8Xt2MPdYLx2e+z+IcY8Wy4+n86+Sat1LV1kJCdgMoY/PBIOXddxffFfjOOPxJi//30fuG6meRfg2bMBrbmKrmWvkzDr7KjP/dhbm/hyXQ2Xnz6JI6aEXidmYdF8Xt72PxZXL2d1/QZOH3ci8wvmYlDje63CEc391upqY1NzOZubt7K5uZwOz94P94LEPI4omMPs3OnBAE3zgcbgurej8c1rd9Sh+ZQUpJBkNfX737BBVYLn1HWd9i4PKYnh9eK5Vr+He9WbGMcfgTW7JOw2zMubw5KalSytXcVZJadhMVp63W4wvscNRzENVGbPns1zzz2Hz+fDYPC/gX399deMHTuWzMxMkpOTSUpKYsmSJcFAxW63s3HjRi666KJYNkWIXgXyU/J7mfHz4PNraG53ctP3ZlA6KjVubfBuW4xn8+d4ti0h6YI/oViSet1OtSSTcOTFOD/8O+5Vb2EcMxNDVugzdnqTlWZBAfY0hNcLsLB4AcUpRbyw9TWqOmp4cevrLKpawrll36IsPfwPgoHm9LrY1lrBpu7AJHBfBFiNVmbnTmNe/myKkgsHNDE2HLq7C/fqtzCWHoEhozCqY0WazBorja0O/v2/jbS0u7jnyrlhFZoz5E+AVW+GXaE2oDRtLLm2bOq6GlhRt4YjCw+P6DgiNmIaqJxzzjk8+uij/OY3v+Hyyy9n7dq1PP7449x+++2APzfloosu4v777ycjI4PCwkLuu+8+8vLyOPHEE2PZFCF6FZjx882pyU63F6fbi9enU5AVv9k+utvhL+4GmKeffsAgJcA0bjbesbPw7liOa+mL2E79RVTnP3Z6IUdMySMrNfyh1tK0sfxq9k9YVL2EN7e/R3VnLX9Z9S9m5EzlrNLTyLD0b52QcGi6xq72PWxuLmdT81Z2tO3Cp+9dvVdBoTh5FBMzxjMpYzxjU0dj7KeVjWPJU7EM9+q38O5che3cu8MKsHRd57UvdjD/sPyI7o9YS040U9fcRZfLR2VtOyWFoX95MOSUgKKidzShdTShJmWGdW5FUTiiYA6vbnuLRdVLJVAZYDH9S8zMzOTRRx/l7rvv5qyzziI7O5ubbrqJs846K7jN9ddfj9fr5ZZbbsHpdDJ79mz+85//YDL1X8VGMXIdqNibxWzkwR8fRbPdhc0Sv3vRvepN9K5WlJQczFNPDmmfhCMvRklIxDz7nKjPn2wzkxzF/qqiMr9wHjNyDuN/Fe/zRdViVtavZV3jJk4afSzHFR/dr9VX+9LoaGZz81Y2NZeztWUbXd6euRaZlnQmZpQxMWM8E9JLSRwGNTO85f7ZPsayI8LuBfpqfS1vfrWTT1ZVcd+1R4ScwxQvCSYDV31rCnkZNtKTw5tNpZitqFmj0Rp24KvZghpBLZnD82byxvZ3qWzfzZ72akYlR7YMhYheVIHKvffeu99jU6dO5fnnnz/gPgaDgRtvvJEbb7wxmlMLETaf5qO+qwHw56h8k6IoZKb2PhYdC1prLe517wFgmXdByMmxqi0Vy4LYV6t1e3wYjWpERbwSTTbOn/BtjiyYw4vlr7OtdQf/2/E+i2uWcfb4Mzgs65B+Hy7p8jjY2FgeHM5pdPQsyW41WihLL2Vi+ngmZown25o5ZIZ0QqHZG7qHOhRMpeF/MI8rSKGsKI2pJZkDHqQETBodeS+dIX9Cd6CyNaKid8nmJKZmH8Kq+rUsql7K+RO+HXFbRHSGXt+mEBGq62rAq/swqybSLfHLQTkQ5+JnQfNhKJqKofiwiI6h6zq+3eswjDokOJ05Ei9+uo1PV1Vz7bencMjYjIiPMyq5gJ9Ov5qV9Wt4ZdtbNDlb+Pe6J5mYPp5zy84kL47LFHh8HnbYKylvq6C8bTvbmnYGi6+Bv/dnbEoxEzPGMzGjjNHJowZV8m+sebprpxgKJ6Mmhf87zc9M5KYLpse6KHLMNNudpCSaQ85VMeZNwLP2XXy1keWpABxVcDir6teyrG4lZ5WeitkwOKfmD3cSqIgRY03DBsC/IrCq7H2z8/o0/vjsKsbkJXPO0SUkmGP/Yeat2YJv91pQDf7elAi/ybs+fwzPli9IOPw8zIedGnF7nC4fDpeXVeUNUQUq4O+Jmpk7jSlZk3m/8hM+3PUZm1vKuXvpgxwz6khOHXs8VmP0OQ8+zceu9iq2tmxjS8s2Ktp24umeOhyQa8tmYkYZkzLGMz5t3AFnaww3uq5HXDLfp+0b3PWsEjtYvPL5dt75eheXnDyRo6aGNlvNkOeflqy11qA57KjW8JcyKEsvIdOSQZOzmVX16zg8f2bYxxDRk0BFjBgr69cAMCOnZ2/GrroOtlW1UdPUyfeOD7/mQigMeWVYFl6F3tmKmhb5AnGGvDI8W77AtfwVjKOno6aFPsV4XyfMLmLWhGwmRNG1/k0JBjNnjDuJefmzeKX8f6xp3MDHu79gWe0qziw5hbn5M3sEiAej6zrVnbVsbdnOlpZyylt24PQ5e2yTak5mQuZ4Zow6hNHW0aQYB2ZdnYGm1W1Dt9eBMQHj2NA/TN0eHzc8+CnzDsnl2OmFGNTBWWnVmmDEp+ls3dMacqCiWJKwnPhjDJmjIwpSwN8rd0TBHN6seJcvq5dIoDJAJFARI0JtZz3VnbX+ol1Zk3s8l5th5aozD8Hh8sYtZ0FRFEyl8w6+4UEYy47CsH0Jvj3rcX72GNYzfo0SwYdLXoaNvIz4JI9mWTO5cuolbGrayovlr1PX1cAzm1/ky6qvObfsTMam9j7FWtd1Gh3NwR6TrS3bafd09NjGarRSll7ChPRSJqSXkGvLwWQykJ6eSEtL54itaaF1NKEkJGEoPgzFFHov0pdra9hRbae13cWRU/KxJgzOQGXh9FGUFKRSVpQW1n6mMdEHFvPyZ/HWjvepaNtJTWfdoFl1fSSRQEWMCKvq1wIwMWP8fiuiJlpMHD45Pm8+msOOYjChmGMz3VNRFCwLLqPzxd/gqyvHs/EjzFNOiOqYuq7HJUCblFnGzek38Nmer3h7xwdUtu/m/hV/5/C8mXyr5FRSE5Jpc9nZsk9g0uxs6XEMs2qiJG1sd2BSyqjkgrB6ZUYKU+lcjGNnobvDq+Z6zIxCkpIsmFV/r8VglWA2hB2kxEpqQgpTMiextnEDX1Uv5ZzxZwxIO0aywXtnChFDK7sDlek5U/v1vK6vnsVXvRHL0ZdjLI7NudWkTBIOPw/Xl0/iWvoixuLDUFMiW2/moxV7+HR1FVedcQijcvqu6RIJo2rkuOIFzMqdzhsV7/B1zXKW1K5gTcN60hJS9yu0ZlAMjEkpZkJ6CRMyxjMmpWhI1jMZCIrBiBLmEIeqKJw0d/SQ6o3yeH00tjlDKkin6xqete/hq92K5dgrUMyR9SIeWTCHtY0bWFK7gjNLTsGIJNX2J3kHEMNeX8M+9i43GyqaKRmVSk5abItceWu24N3+NaCg2GKbO2GadAze7Uvx1WzG+fl/sZ52U0S9IpsqW6hq6OTLdTV897j45OcApCYkc/Gk8ziqYC4vlr9OpX03tV31KCgUJRdQ1t1jUpI2lgSZWREWX3MVano+Sog9TXsaOvh0VRXfPW78oFwNuy+Vte389eW1mIwqd19x+EFzahRFxb3pU3R7Hb7abRF/WZicOYG0hFRaXW2saVjP3MIZER1HREYCFTHs9TXss7myhX//byOjc5O59bLZMTunrvlwLXoaANOkozFkjYnZscH/Bmw5+gc43vsz5mmnRzx0c+LsIg4Zm8Hhk/pnBeCxqcX8YuZ1bGzaglf3MT5t3LAotDZQNIedrpd/h5KUTuLZt6Mk9N3L4PFq/OXFtTTZnVjMRr4bp+TxeMnNsOLp7vlpaHWGlGdlzC/DY6/DV7sl4kBFVVTm5c/mnZ0fsqh6qQQq/UwCFTHs9TXsYzSolBSkhFWeOxSeTZ+iNe+GGFWU7Y2akoPtO3eF/E26N2VFaf0+9q8qKlOyJvXrOYcr7/YloPtQLMkHDVIATEaVC08s440vd3Dy4cUH3X6wsZiN/Pz8aRRkJWIKsTfIkD8Bz5Yv8NZsIbz6tj3Ny5/Nuzs/YmvLNhq6GklPHzwriA93EqiIYa2vYR+AGWXZzCjLjuk5NWc7ruWvAJAw6yxUSzRF6/u2b5CidbWiWFOHVbVV0TfP1kVAeLVTppVmMbUkM6KKxIPB6Lzw/p4MeWUAaA070L0uFGNk4UqmNZ1JGWVsbN7Cl1VLKSuMboFQEbqhNUApRJj6GvaJF/eyV8DViZpRhGnSsf1zzs2f0fn8r/Bu/TKi/Vdva+Tvr6yjrcMV45aJePE1V6E17gTFgLHkwIvmebw+nvuonA6HJ/jYUA1Svql8Tyua1ncpXSU5GyUxHTQfvvqKqM53ZMEcAL6qWoZX8x1kaxErEqiIYS0w7DOjl2Efj1dD12NbL1zXdXSf/wMh4ciLoipzHxZXJ3icOBc/i9bZcvDtv+GtxTtZsbWBrzbUxqFxIh685f7eFGPx1D4Lmj31/lbeX7abv7y4Jub3+0B6+NV1/P7plSzZVNfndoqiYMibANC9FlLkDs2aTLI5Cbu7nZXV66I6lgidBCpi2KrtrAsO+0zNOmS/5z9Yvpuf/PVL3lq8M2bnVBQF6zGXk3jevRjzJ8TsuAdjOvQk1Oyx4Hbg/OKJsD+Qjp9ZxImzizisJCtOLRSxpGsanuBKyUf2ue1Js4vISrVw1oJxw2pYsDg3GYOq0NTmPOi2hvwyMBhRbGlRndOgGpibNwuAjyoi670U4ZMcFTFsBXpTJmWMx2baf+pxRbWdDocnLmXDoymTHwlFNWA5+nK6Xvkdvl2r8W7/OqxKuIdPzo1b0TsRe77aLehdrZCQiPEgC1wWZidxz5VzQ17Mb6g4buYojpiSR0bKwSvxGsfOwlgwOSZ/l0cUzOGDXZ+yumYjjaXNpJnSoj6m6NvwunOF2Meqen/X7IGKvF39rUO45fuzYvIBrbsdOD97DM3eEPWxImXIKMQ841sAOBc9jdbVNmBtEfFlyJ+I9cybsRxxIYrBtN/zn6+ppqapM/jzcAtSwF9JN5QgBUC1psTsy0OOLYuJGePR0Xli/XP4JFcl7obf3SsEBx/2Af+b97iCFNKTo5m06Ode9SaeLZ/jeO/PA5oHYJ52KmpmMbg6cS16Kuz9a5o6efmz7bg88uY7mCmKgjGvrNfZPiu2NPD4O5v5/dMraWkfGcnRLe0udtTYQ9rWV7cN59fPR3W+7078NhZjAltbKnh121tRHUscnAQqYlg62LBPLGmttbjXvQdAwpzvDGgegKIasRz9QzAYUVNy0LXQy6Lrus5fXlzLW4srWbGl/uA7iEFpfFEqY/KSmXtILmlJw7/K7/qKJn75z6949H8bDzoDSOtqo+t/9+JZ+w6eHSsiPmd+Ui4/OvxSAD7Z8yVLaiI/ljg4CVTEsHSwYZ+PVuzhjS939Ogej4Su6zgXPwuaD0PRVAzF06I6XiwYskaT+L37STj8vLBWVlYUhfmH5TOtNIus1PgGdyJyjg//jvPLJ9E6mnp9PsVm5pcXzOC7x40fVsmzB1JSmEqCyUCS1UT7PlOwe6PaUjEfejIArkVPobsdEZ93zqhpnDbueAD+b8vL7GrfE/GxRN8kmVYMO6EM+3y2uoo9DZ0UZieGtLjZgfh2rcG3ey2oBizzLhg0HwzqPrMbdM0LihpSBdvT5o2JX6NE1LSOJrwVywEd82GnBB+vauigtcPNIWMzAP9qwyOFNcHI7T+YQ3pyQkh/f+YZZ+KpWIZur8O19CUsR10c8blPLzmRyrYq1jdt4pG1T/LL2deTbI794p4jnfSoiGEnlGGfY6cXMndyLqVRlM7XvW5/bwpgPvSkfp/pEwpfazVdr92FZ8NHA90UEQOeLV8AOob8CajJ/orKzXYnf3p+NX9+cQ3rK3rvZRnuMlIsIX9JUIxmLPMvAcCz8WN8ddsiPq+qqFwy+bvkWLNocbXyn/VPS3JtHEigIoadvUXeDjxt89gZo7jyzENITYo8kdaz6RN0ez2KLQ3z9DMiPk48+ao2ojXuxLXkBXzNVSHv53B5+Wp9DdowKhA2lOm6jmvV/3CveB0AU9lRwedSEs2UFaWRl2FjTH5sV+kearw+jcXraw963xoLJ3fXn9Fxfv64v9cxQjaTlSunXkKCwUx5awWvbpfk2liToR8xrNR01lHTWYdBMXBoL2v7xJJp0jHori7U9AIU8+DM6TBNPg7vrjX4dq/D+cm/sH37t71OZ92Xpuvc8ugSWtpdpCYlcMiYjH5qreiN7nXh/Owx/wKEgGnyQozj9xZ5MxpUrjzzELqcXpKsff9uhzNd17nzieXsru/AYFCYM6nvsgMJc7+Lb9datJY9eLctwXSQwnl9yU/M5fuTv8u/1z3JJ7u/pDh5FHPyZIXlWJEeFTGs7B32KTvgsM+OGjtdzr6T7kKhGBNImHUWpj7WWRloiqJgOfqHKJZktKZduJe/etB9VEVh2vgs8jJseLyhzxoS8eFa/Jw/SFEMJBz1fSxHfR+vBss3752ZpSrKiA5SwH+vzyzLJjXJHFJPoGpJJuGoi7Es+AHGMBZ1PJBp2VM4ecxxADy7+SVJro0h6VERw8qqPtb2AX9vwf3Prcbh8nLnD+dQmB1+4pvW1YpiSQlrRs1AUm1pJCy4FOf7D+Fe8w6GokMxFkzqc5/zji3FbFQHTXLwSGae+W189RUkzPsexoKJaLrOI29uYMWWBs5eMI7Tjxgz0E0cNE6aU8zJhxdjNoWWTGwaNyem5z9t7Ansbq9iQ9NmHln7JL+a/ROSzJEn6wu/ofFOK0QIAsM+xj6GfeydbpJtJhLMBvIyw19NWdc0HO88QNdrt+NrrY62yf3GNGYmpokLAB3nJ/9Gd/U9LTvBZJAgZQD5GnYG/63aUrGdfRvGgokAKEBxThJGg0JJwcjOSfmmBLMh5CDlm3S3A1/99qjOryoql07+HtnWTH9y7YZnJLk2BiRQEcNGYNhnYh/DPmlJCdx71TweuO7IiNb48Wz+FK1pF5q9ASVhaE1DTJh3AUpKLootDd1z8IXcwD/uH2rFTxE9XfPhXPx/dL16W3DRQfAPa9i73MF/n3HkWO65Yi6TJH/ogMr3tLJlV2griWutNXS++Bsc7zyI5myP6rw2k5UrD/Un125t2cZr29+O6nhCAhUxjKw8yLDPvqwJ4Y966s4OXMteBiBh1lmo1qH1bVYxWbCddiO2b92MmpR50O29Po1bHl3CnU8sZ099Rz+0cGTTXZ043n0QT3eVY629EfBPP77n6RXc+p+lPXKGstIGZwL3YPDl2hp+//RKnn5/a0j5KkpKNkqCDd3VgWvxc1GfvyApj+9POh+Aj3d/wbLaVVEfcySTQEUMCzWdddQeZNgnWq7lr4KrEzV9FKbJC+NyjnhTk7NQ1L1Bmt5Ht7TRoJKfmUiC2UB1lBV8Rd98rdV0vnYHvj3rwWjGcvx1JMw4E/BPP25sddDh8EjvVoiml2WRZDVRUpiCO4R1qxTViGXBZYCCt3wR3qqNUbdhWs6hnDTa/z7xzOaX2N0eenkA0ZMk04phIZRhH3unm98/s5LxhalcespEVDX0HAxf0y48mz4GIOHIC1HUoV35U/d5cC9/FV/9dqyn/fKAicEXHD+eRItpRFU67W/eXWtxfPQP8DjQbRl8lnYWW5ca+fk4//NGg8pVZx5CTrotJgtojgSJFhP3XXNEWPetIacE0yEL8Wz4COcXj5P4nbtQjNGtlXT6uBPZ3VHFxqYtPLLuSX4563pJro2A9KiIYSGUYZ8lG+uoa+5iT0NHWEGKruu4vnoGdB3juNkHnTEzFOhdrbg3foyvZgvutQceQ89IsUiQEkdaWy2O9x4EjwNDXhn6yb/mzU1eNuxsYWft3t6TCcXpEqSEKZL7NmH2d1AS09Ht9bhXvhF1G1RF5bLJ3yPLmkmzs4XHJLk2IhKoiCGvuqM2OOwzNfvAwz7HzxrFj88+lHOPLQ3vBK5OdJ8XDGYS5n43ytYODmpyNpYjLgTAvexVfI07D7pPx0EWfBPh8Xg1vqrU2Zl5FKaJR2M97SZSs7I595hSfn7+NEbnJg90E4eFtg4Xby3eGVquitlKwpEXAeBe8w6+5t1Rn99msnHVoZdgNpjZ0rKN17e/E/UxRxoJVMSQF6idMimzDKvxwAmGiqIwvSybSaPTwzq+YknC9q3fYPv2b0NKQh0qjGVHYRw7C3Qfzo//he519bqdx+vjgRdWc/1fvpAciRjQOlvQOlvYVd/OY29v4qHtY3FN/x6KwT8Sf8LsIg4ZmyHTw2PA69O47b/LePmzClZtbQhpH9OYmRjHzMA4bhaKJTYJ8wVJeVw86TwAPtr9OcsluTYsEqiIIW9lwzoApmf3PuzjcvvQtOjWrFEUFUNmUVTHGGwURcEy/1IUWxpaaw2ur5/vdTuT0YDHo6EokJq4d8xel3WAwrKrrp3NK1bQ9cptON5/iHE5VmZNyOas+SWYzZIuGA9Gg8r8wwooKUgh2RZ6vonluGuxHncNqi3yRUu/aUbOVE4cfSwAT29+id3tQ6cO00CLeaBSV1fHhAkT9vvvlVdeAWDTpk1cdNFFTJs2jYULF/Lkk0/GugliBAll2Oflz7dzy6NL2LCjOaxja/Z6XEtfCrnmyFCkWJKwHHM54F9J1rtrTa/bXfPtKXz/pAlkpFiCjz39/lYeenktlbXR1Z0YjnRdx+vbO5V47fYm3nrmOXKWP4zuaAOvC93VybVnHcopc0dHNF1ehObMI8dw88UzKStKC3mfQO9WgO6LzbDnGeNOYnLGBDyah3+ve4IOj8ymC0XM/zo2b95MQkICH374YY+uy+TkZFpaWrjssstYuHAht99+O6tXr+b2228nMTGRc845J9ZNESPAwYZ9PF6N5Zvrae1wh31s1+L/w1u5Cq2jEevCq6Nu62BlHDUF05QT8Wz5/IBBWUqimaOnFQZ/dnl8fLWhFpfbx4mzh1dPU6g0XWfllgZa2l0cM70Ak9GfvPne0l288nkFR03N5+ITJ6BrGqV17zM2aREA+qjDsB1/9aBdyHK4MRp6fh/vcHhCXhdJ62rFtehpAKwn/CjqtqiKymWHfI8/LH+IRkcT/13/LNce9gMMQ3wWYbzFPFDZunUrY8aMIScnZ7/nnnjiCUwmE3fccQdGo5GSkhIqKyt55JFHJFAREQnM9jnQsI/JqHL3FXNZvrmeyWNCz03x7l6Ht3IVKAbM08+MSVsHs4Q538E85QTUlOzQtjcZ+O33Z7FiS32Pb6rvL9vNll0tnHx4MeNHpR1w/8FK13Wqm7po63BRVpQW/JD7ekMt7y/bzSFjMzjn6BLAX8r+0f9txO3VmFqaSW66f0kGs1HF49VobXfhrd6Me9Wb+Ko2+J+bfgbmWWehKDLqPhA+WrGH176o4GfnT2Ns/sHzT3RHO96dq0D34dm5EtOY6FdEDiTX3rfib2xuKeeNinc5q/S0qI87nMX8r2XLli2UlJT0+tzy5cuZM2cORuPe+Gju3Lns3LmTxsbGWDdFDHPVHbXUdtUfdLaPNcHI/MMKQk5O1H1e/3RkwDTleAzpBTFp72CmGM09ghRdO/iqyQVZiZxx5NjgddV1nU9WVbGqvJHqxsHVpV3f6mDbnrYelV1Xb2vkry+t5e2vK4OPKYrCXU8u5/7nVtNk39u75HD72FnbTlVDZ49tDyvNYtbEHBRA1zV8jZXMKsvk3qvncfW3DsFbscwfpBjMWI67loTZ50iQMkB8msbXG2vpdHpZV9EU0j6GzCLMh50MgGvR0+huR0zasm9y7Ye7PmN53eqYHHe4ikuPSnp6OhdeeCE7duxg9OjRXHPNNSxYsIDa2lrKysp6bB/oeampqSErKyvi8xqNsf3jN3R/kzIY5E0lXP117VY3+pNoJ2dNINmyfxGlZruzR05FqJzrP0Jrq0WxppA45yyUGN9bBzJY7jnP7vV0ffEkSafegCEtP6x9f3ruVD5bXc0Rh+YH/yZXlzfy2eoqTphVxOSxsVubpra5i/ZON+NG+RMeDQaVtdsb+Xx1NeMKUjl13ujgtrc9thSn28cfrz2CvAx/z4e9083qbY0oas/3j/xMG26Phk/Tg49PG59FZqqF3Axbj22vO3U0nt3r8a55ms7d69EddpK+fTPp3QsIekpno6BhOfT4QZmMPVjuuf5gROWmC2bw1fpaFs4oDPmLi2HOWXgrlqHZ6/GseBXb/Itict3mFEyjqrOad3d8zNObXqQwJY+i5OH/pSgSMQ1UvF4vFRUVlJaW8qtf/YqkpCTeeustrrzySv773//idDoxm3tmXick+IsYuVy9T40MhaoqpKfHp9pfSoqMI0cq3tcuEKgsGDdnv99/bVMnv/j7ImZPzuMXF84MeUVVb0cLrctfAyBz4UWk5IU2FBJLA3nP6bpO7TvvorXW4vrk3xRccvd+iYV9SU9PZEpZbo/HPl+7jhVbGhidn8qRM/r+sF6+qQ57p4sjDi3A0p1g+tXaat74ooIp4zK56JS9xfauuf9TOp1e/vFLf5nylBQrDo/O0k31oKg97om8zEQcLi8JFnPw8TmHFmBLTKAoJ6nHtg/9Yv/lEdLTEykb6/8i5Wmtw77yfRwVa3DX7eixnWKyYPW1kxw4XvpsOHR2n695MBgp73PpwHfy9s7k0TSdrbtbmDi6rwA6EctpV1P7f3fgWvcBmTMXYikcD0R/3S6ddQ41jlrW1G7k76v+w/XzfsAhOWUH33GEiWmgYjQaWbJkCQaDAYvF/012ypQplJeX85///AeLxYLb3TOpMRCg2Gy2iM+raTp2e1fkDe+FwaCSkmLFbnfg8x28G1zs1R/Xrrqjlip7LUbFQKmthJaWnkMNX63eg8+n09HpprPDSagDEZ2f+rt3DTnj8BbP2e+48TRY7jnz/B/grL4ZV802aj54Buvh34nqeOcsGEtmspm5k3OC13NPQwd/eHolM8qyuey0vcHHfU8vp8vpJTfVQkGW/8O+tqGDDRVNmA1Kj99HZqoFm8VHc2sXo3KSsdsdjMq0ctGJZRRkJfbY9o4fzgn+O/B4klll7sTsHo99k67raK21oBDsXfLW19O++LXgNobsMZhGTcFYfCjGvPF4DcZ+vW+iMVjuuYGg6zqPv7OZT1dVccUZkzlqah+9GemlmMuOwL31K+refJi08+8gNT05Jtftkknf5f72v1PdWccdn/yZU8cdx2njThgRCbYpKdaQeqViPvSTmLh/z8b48eP58ssvycvLo76+vsdzgZ9zc3P32y8cXm98/sh8Pi1uxx7u4nntllavBmBS5gRMSsJ+55k/tYBxBf5vTuG0wTTtTDSXE/OhJ+DzAfT/737A7zlLGglHXYrzo4dxrnwTpdD/ARyp3HQb5y/07x94XZ+sqKKt002z3dnjtU4oSsPt1XpcgwnFaVzz7Slkp1l6bHvbZf7gIzAU4/Np5KbbgkmtkV5DzWHHV7MF3571ePesR+9owlg2H+sxPwRATy/GNOkYDHllGEZN6bGKtk8HhuD7xYDfcwNA0/Tga1YV5aCv33T4d3FXrkFzdeJprYf05JhctwTFwi9m/ZgXt77O4pplvFXxIZuayrl08gVkWsMrTjlcxTRQKS8v5/zzz+cf//gHhx9+ePDx9evXU1payqRJk3juuefw+XwYDP5o8euvv2bs2LFkZg6fip8ivnRdD05L7mttn8Ks8IcD1aQMrMcN36nIoTKVzMG7aw3e8kU4P3mExHPuiOl02uNmjeKIKXmkJfUcCv7xOfv/PnPSrOSkxX5oQte04GKMuq7jePdBtMad6I5vVN9VjaB5gz8qiopl/qUxb4/oX6qqcMkpE1lwWAElhQcv7KZaU7Cd8nPU9AIM1shHAHqTYDBz0aRzmZgxnv/b/AoVbZX8ftmfuWDiOX2+x40UMQ1USkpKGDduHHfccQe333476enpvPDCC6xevZqXX36ZzMxMHn30UX7zm99w+eWXs3btWh5//HFuv/32WDZDDHM1nXX+2T6qkUOzes72aWl3YTKqIddJCNCc7agWWVtlX5YjL6Kzdgt6ewPOr57GeswVMTt2PAKPA9F1Dd3egK95D1rzHrTm3fia96AkJJL47d8C/hk8ekdTd5CioKblYxh1CMZRUzDkT0QxyYKAw5GqKD2CFIfLy9cbajlmeu/JtoaccXFtz6zcaYxJKebxDc+yw76L/6x/ms0Fh/Od8WdgNkS3kvNQFtNARVVV/vnPf/KnP/2Jn/70p9jtdiZPnsx///vf4GyfRx99lLvvvpuzzjqL7OxsbrrpJs4666xYNkMMc4HaKZMyyrAae87qee6jctbvaOKSkycyZ1Jow4m6u4uuF3+DIX8ilqO+j2JJinmbhyLFbMVy7JU43vw9eD3omhdFHdwVVHW3o0fPj+ODv+HdvQ56WcdIN5p79KokHHkRijEBNb1QApMRSNN0Hnp5LZt3tdLc7grWy+mNrmvYV75P154dmOaci2II74tRX7KsGdww4xre2vEB71d+wqLqJWxv3cEPplxIYVJ4s/CGi5i/62RlZfH73//+gM9PnTqV55/vfU0RIQ5G1/VgoPLNLlG3x0ddcxcOl4/8zNCHfVwrXkd32NGadoEp/OnMw5kxrwzb2bejZhT5ex00Dc+WzzFkFqNmFKIYB+YDXfd50Vpr0Jp24W7dg9NejbN2J7rXQ9Ilf9/7bVjz+YMUgxE1vRA1YxSGjFGoGUWoGaNgn2/NxoJJBzibGAlUVWH2xBx21XUwo6zv2X6eHStpffdf/n/XlmM9/lrU5NjNEDSoBs4sOZmy9BKe3PgctV31/HH5Q5xdejoLCueNuAUrFX0YrCzm82k0N8c2y95o9E9vbGnpHHFJZtGK57Wr7qjl7qUPYFSN3HvU7/brUdF0nYoqO6WjQltMzNdSRddLvwPdh/WUn2MsOjSm7Q3HULjnfK3VdL1ws/8HRUFNzfN/6GcV+4OXrDE9kktjQXPYexzT+fnjeLZ+4Q9CepF40Z9RbWn+9jZXgaqgpuSijIBZFOEaCvdcfwulxL7RqJLQtIW61/6M7uqEhESsx16BsXhazNvT7u7gqU0vsKFpMwBTsw7hwknfIckUn5Ic/SkjI3FgZv0IEU8r6/2L5vU27AP+MedQgxRd13F99SzoPoyjpw9okDJk+LwYRk1Ba9rl74VqrUFrrYGKpQCYZ3yLhFn+oVzd2YF3zzrUjGLUtLyDBgr79pL4mnejNe1Ga97tL6L2/b/tHZIzW/xBitmKIaMIY1YxyUUluGx56Cn5KPv0ihkyCg9wNiF6t2+Q0tDq4M2vdnLRCWX71WKylc4g+bw76Xj3IbSGHTje/bN/iYSZZwWHE2Mh2ZzENVMv49M9i3ht21usbdzArqV7uHTydxmffuDhqeFEAhUxZPiHffxF3r457LO5soWy4jTUMLpEvTtXdpc3N5Iw73sxbetwZcgsxnbqLwD/gm1a0258TbvQmnahNe3GkDUmuK2vrhznx//q3tHUPexShJpZ7P93bmmwmJxr5Ru4V75+gF4SBa2tFoOlFADzlBMxH3I8SlImiqJgNKqkSK+AiDFN0/nry2upaujEoCpccvLE/bYxJGdhO/NmXF8/h2fDR7hXvYnWvAfrST+JaVsUReHYoqMoTRvLYxueob6rkb+seoSTxxzHKWOOG/Y1VyRQEUNGdWctdb3M9qmotvPH/1tFUU4Sv71k1n6rpfZG97pxff1/AJinnoKasv8imqJvqi0N1ZZ24J4oxYAhdzy+5t3gcaI17EBr2FvJ1fbt3wVnUSiWpB69JGpGEWpmEYbMItT0UT2SW9Wk2JXhF+JAVFXh4hMn8OyHWznzyLEH3E4xmLAceTGG3PE4v3gcY+m8uLWpKLmQX876CS+Wv87XNct5Z+eHbGnZxqWTvzesa65IoCKGjEDtlMkZE3oM+zS2ObAlGCnOTQopSAHQ7HWg+VASMzBPOz0u7R3pjMVTMRZP3Ts9uLvnxdfd+6LZ64OBimncHIxFU4O9JEIMBmVFafzu0tk9emq1A6R1mkrnYiic3COfSutoQknMiOk9bTEmcPGk85iUPp7/2/IKFW07+f2yP3PhxO8wPWd4Dl9LoCKGhH2Hfb75xzhnUi5Txmbg8YWeF27IKCLxvN+j2etlKmqcKYqKkpqLmpoL43pf90axJMm0cDEo7RukbNnVwv99WM5Pz5/W6/pyPYKUrla6Xr0dQ24plqN/iJIQ2+TXWXnTGZNazGMbnqXSvptH1z/FkcO05srwXzJTDAsHGvYJsFlMpCaG98epmCwYMotj1UQhxDCm6TrPfLCVXfUdvPHljoNu76uvQHd14d25ks5Xb8fXWBnzNmVZM/n5jGs5cfSxKCgsql7CH5Y/RFVHTczPNZAkUBFDQm/DPrvq2tlT3xHWcbw1W/Bs+QJdl6RLIUToVEXhp+cexvyp+Vx04sFXODaNmYHtzJtRkjLR7fV0vX4n7s2fxbxdBtXAt0pO4f/bu/PwqOp78ePv2bNvQBJ2UchCFpKYDQsIiBEtva4UFGiBirhUbXFBq8Jje+2DIi6AFXvVi7firT83LEVUUBG9BCEgoEBIYhIWyb4vk1m/vz9CBoYkBGOWIfm8nofnYb7nO98555MzM5853+X8PuF2Aoz+FDeU8EzWGv6d/wmNtq69WW9vkURFeLy2FnlTSvHW1hyWv76bHQdOXVg7diuWr/9B05evYT2wpdv2VwjRN4UEeLHgumjXVGWlFH/b+D07DpzC3sZdlHWhl+J705PoRowDhx3Ljv/GvP01VBsrJf9cUSFj+FPqH4kZEIXdaWdL4Wcsy1zB5vxPabSZu/z1epIkKsLjNXf7lJ3u9mlePdRqdxLgZ0Kv1xI7quNZIMphx7ztbzirToLJF2PUld2920KIPu67/Eqyskt5a1sOjRZ7m3U0Xn54X3M/xpRbQKPBnvMV1n2bumV/WtZcuT12HkN8wzHbm/iocBvLMlfwUcFWzPaLM2GRwbTC4+07q9vH63S3j8mg4+4bYqlpsHY4NkU5HTR9vg7H8f2gM+B99e9l4KYQ4meLHB7ErKmjsdmdBPic+Rw6+EMFkcODMBmbr7xoNFpMiTPQhV6K9dtNGBO7b6ahRqMhMTSOcYNi2F/2PR8VbKWooYTNBVv54sTXTB0+icnDf9HmgpmeShIV4dGUUq7xKW3d7rzjJMVJ0/b/wl6QBVo93hn3yj1dhBBdwmTUcU2q+4D80mozq989iI+Xnv9clOaWwOiHjkU3JNo1XVkphf3oV+gjrujyG35qNVqSQuNJGBTLt6UH+ahgG8WNpfy74BO+OPEVU0dMYvKwK1w//jyZdP0Ij3Zut49Sis/3naSxqe3LrOeyfP0G9rxdoNHhPe0e9MNbJztCCNFVqussDAz04pJwf7ckxelsXj7h7DVVbAc/pmnH6zRuWoGzvrJb9ker0XJ5WAKPpS1hwdhbCfMZRIO9kU35H7MscwWfFn5BUzeMmelKkqgIj7avpPnePjGnu33255Xz5qc5LHv9mzYHr51LNyQadHq8rlqM/pLE7t5dIUQ/FzE8iKfuSOP2GWeWUbDYHPzp77t454s8LNYzt4nQBIaB0RtnSR4Nbz+M+fN12E8d6ZZZiVqNluTwRB5Pe4Dfjp1NqM9AGmyNfJi/heWZK9h6bDsWh7XLX7crSNeP8FhZxd+y9XjzdL6Wbh+jXsfgAT4kRQy6oFVoDaPT0Q2OROvbd5eXFkJ4Fp1WS8BZ3dJZ2aWUVpvZk13KTVde6io3XJKE7qYnMX/+Cs7SH7Dn7cKetwtNQCjGsVdhjL+my/dNq9GSGp7E5aHjyCrZz5bCbZSZK9j4w0dsO/4lV4+czKSh4z1q0TiNUu2sB3wRcTicVFY2dGmbcvvzzuuK2H1+fAfv5f0bgMtDxzE/5la0mubExOlU2B3OVnczbWH9fiv6UckXXXIi51znSNw6T2LXOT81bkopDvxQgVKKxDGDXGUf7TpGanQYAwO9cJYXYjvyJbYfdoGtCf3odLyn3nlWG040mq7vBHE4Hewp+ZYthZ9Rbq4AwN/gx9UjJzNxaHq3JiwhIb7oLuAHpyQq7ZA3cOf9nNgppfjwhy1sPb4dgCnDJnDTmBmuJKUjln3/wpr1Phr/Qfje8p8X1fL4cs51jsSt8yR2ndMVcTtUUMmqt/fjZdTx/O8nuGYIKVsT9vw9zXcYH9R8M0RH5Y+Yt6zCEDkBQ+REtP6DuuxYWjicDnYX72NL4WdUNDWPlwkw+nP1yMlMGJKOUWfo8te80ERFun6Ex3A4HWzIfpdvivcCcP1l13L1iMloNBq+z6/AYnOQFDGo3Rt8WQ9uwZr1PgDGmKkXVZIihOhf/LwNxIwKYfAAH1eSArDjUAURw5MYPODMvYHsuf+HaqjEuu9fWPdtQjd0LIboK9GPTETTRQmETqtj/JAUUsOT+KZ4Lx8XfkZFUxXv5W7iq5OZLE25Hy9973ymSqIiPEKT3cJr37/J4cqjaDVabou6hfGDkwFwOJ28tS2X4spG5mVEMCVpWKvnWw9tw7LrbQCMyTdhjL+2R/dfCCF+ipHh/jwwKwGH88wVmYqaJt74+Cga4Ll7J7iWXzAm34h24Ehs2Ttw/HjI9U/j5Y9+zBWYkv6jy256qNPquGJIanPCUrSXj499jtnRhKL3Ol8kURG9rt7awN8Ovs6x2hMYtQZ+FzuX2IFn1jpxOBQpUaFkHiomPSa81fOt2V9i+b83ATAm/gpT0n/02L4LIcTPodOe6fpostqJv2wANrvTbY2oTbtOotWE8YtJ9xGoarAd/ar5nmWN1dhzd2JKvcVVVynV7lXnn0Kv1fOLoWlcMSQVp3Ki07Y9JrAnSKIielWFuZK1B16ltLEcX70Pd41bwKjAkW51jAYdN066lP+YcInbmxrAlr8Hy471ABjirsGYfFNP7boQQnSpoYP8+MPMcTjPGjpqdzj5ZPcJzBY7Y4YFEjwiFFPKzeiTrked/A7VVO/q/lHKSeP7y9GFXoZ+ZCK68Ag0Ru+ftU8ajQadpveSFJBERfSiH+uLeGn/q9RY6wg2BfH7hNsJ9w11q1PXaMX/9KJJ5yYpALqw0WiDwtENicaUPrtLfkkIIURv0p71OaaUYtbU0RwurGTMsCBX+ce7T5KVbee68ZGknC5zFB3FWXECZ8UJbEe2g0aLdtAl6IdEoxsSjS5szEU5dk8SFdErcqp+4JWDb9DkaGKIbzj3JPyOIFOga7vF6mDDthz2HS3jqUVpBPq1/ebS+gbjc/3jYPSWJEUI0ecY9DomjRvCpHFD3Mr3Hi3jWEkdjU02V5lz0GisV96Pb/G3zQvH1ZXhLM3HWpoP+zdjTLoeU/KNACiHDZRCo/ec9VLaI4mK6HHfln7H+kNvYVcORgeNYnHcfHwM7pcnDXotJ0rrabTYOfhDBRPPepPaTxxENdVjGHMFQJcNIhNCiIvFH349jn05ZSRFnJmq/F1+NS99UMX4mDQW3boQZ105jlNHsBdl4ziVjW5IlKuu/fhBmj5/GV3oZc1XW4ZEowu9tMtmEXUlSVREj9pxMpP/l7MRhWLcoFgWjL0Vw+k3RlFFA2EhPmg1GrRaDQuujcJic7hd7rT/eBjzp2vAYUfjHYh+WEwvHYkQQvSeAB8jkxOGupWdKq9HowFf7+bPVK3/QDQRE1j3fSDDhk4lI3i460vfWVYADjuOoqM4io7C3o2gM6ALG41uSDSGqElofYJ69JjaI4lKO36sK+LrkkLCjeEM9x3WqyOe+wKlFP8u+JSPCz8DYMKQNGZF3uhayG3jV/n8e+cxfjM90nWJc0SYv1sb9uIczJ+8AA4buhEJ6AZH9ugxCCGEJ/vVL0YxKWEoNvuZ+wmVVJn5Nrec7/IrmfGLS1zlxwdfBX5xDHOchJKjOIqyUeZaHKeO4Dh1BMPo9F44grZJotKO93M38315NgBeOhNjgi8jKmQM0cFjCPVpf9Ex0ZrD6eCfRz9gZ9FuAH456mquvWSaWwy9TXqcSpF/qqZVXyyAozQf85bnwG5FNywW72l3o9HJ6SuEEGc7e1ozNC8sN//aKKrrLRj0Z35wb951nIM/VDBr6hiumXYVSilsFSdxnMpGU/0jmm5Y/baz5JO+HdePvhZ/b18OFh+hwdbId+WH+a78MADBpiCiQsYQFTKGyODR+Bv9enlvPZfVYeP1Qxv4rvwwGjTMjryRCUPTKas241SKsGAfAKYlD2NEqB/Rl4S0asNRfozGj54FWxO6wVF4Z9x7UQwAE0KI3ubnbWjzx19IgBdBfkaiRjTfE02j0ZBb78uLn+hJikjmTg/6MS6JSjtGBAzljyNvp6KyjsKqk2RX5nKkKpf86gKqLNVkFu0hs2gPAMP9hhAVEkFUyBguC7zENeaiv2uwNbJ2/+vk1xSi1+pZGHMb4wbFsvdoKf+16TCjBgfw8G2JzfP0tdo2kxRnQxXmzSvB2og2bDTe0/+AppeWcRZCiL7iN9dEMi8jwq0s/1QtdodqtRREebWZgUE/bz2Wn0MSlQ5oNVpGBAxjRMAwMi6ZgtVhJa+6gOzKXLKrcvmxvogT9ac4UX+Krce3Y9DquSxw1OkrLhEM9Qu/4Bvq9SXljZWs3P0SRQ0leOu9uTN+PqODmm+wNTLcHzSg0YDZYsfH60xi5zTX4jj5PfpRyWj0RjQ+QegjJ+AoOorPtUvQGLx665CEEKJPOXcIw4zxI0mNCnVbcK6u0YrR2LtjNOXuye3Q67UYyw5TX12L8g9DGxTe5i/5GksdR6tymxOXyhxqrHVu2/0NfkSGjCYqeAzD/IcSaPLHz+Dbp5OX0qZS1n77GhXmKoJMgfwm4jfUV3pxeeSZPs9T5Q0MHuADKJzlx7AfP4j9xAGcpQWAwvvaJeiHxwPNA3FxWPv8lRS5k23nSNw6T2LXOf0pblabA6OhexIVuXtyFyj+8j00pbmuxxq/AWiDBqMNDEcbPARD9BQCTf6khieRGp6EUoqihhKyTycuudX51NnqySrZT1bJflc7Wo2WAKM/AUZ/Ak3+BBgDCDQFEGj0J9AUcLo8AH+Dn0fPNnI4HVQ0VVJmrqC0sZwyczlljRXk1x6jyd5EuG8ot46awwtv5mK1O/jz79IID2kekxKur6Xpy7dwnPgOZa51a1c7YDg4z4xa12g00MeTFCGE8ETdlaT8FJKonMf3tQH42gYxwrsBvb0RVV+Bo74Cx8nvsRgCGDh2qqtu4471aGxNDAgezMTAwVw57Gqc0QMobCgiuzKXo1V5lJsrqbc14FROqi01VFtqoK7919egwc/oS6AxgACTP0HGAAJOJzQBRn98DD746L3x1nvjY/DCpDN1+ZWa5mSkijJzBWWN5ZSaWxKSciqaqnCqtn9NjBkwijvj5mPSeHHp4GJMjcU4K05ASPOUYqUU9pz/a65s8EI/NAbdiHj0w+PR+gZ36TEIIYS4ePVKouJ0Olm7di3vvPMOdXV1pKSksGzZMoYPH94bu9OunLAMDtVXsOjqsYwepMNZXcyxozl8t/8wvlpvrj6rbs3RPfgp9+4nhYZgUxBpAy7lVzPuBZq/+CsLd1PrtFCHg1plp9ZppcZhptbWQK21lhpLHbXWOhSKOms9ddZ6qO94fzVo8NZ7nU5cTicwem98zinz1ns1lxu8XYmO1WGjzHw6ETmdkJQ3VlDeVNluMgJg0BoY5D2AUJ+BDPIeSFOdifpaI/en/YK6nANYCvezyH4A7NXoj6XCmOZERRs0GOPlN6ALj2i+cZZMNRZCCNGGXvl2+Nvf/sZbb73FihUrCA8PZ+XKldx+++1s2rQJo9Fzpp0+NDfZrQ9SG+6Pn3EoJq9YDKYzoVNKscU5AZO5jGlj9PjZK3FWF6GxNGCyVHGyqIiWW+3ptDoc2/5BKI2EnvN6dnRUmoZy2W//jFM5qbM2cPDj/6bO3ogu2Aerl446jZMqh41yaxM2rQO7XmG2mbErBwpFo91Mo91MRVPXxUGHDm/lxxCfYIb7BjJQ64OuQXEgq4QAgw9z7/itq27mG6vxrj/JqZz1aJXjrEaMcFY3lkajwXT5DV23k0IIIfqkHk9UrFYrr7/+Og8++CCTJ08G4Pnnn2fixIl8+umnzJgxo6d36ScJC/Hh2rSRbmUajYY5C39NVZ2FIH8TJoMOpRQ5eSfJ+uYAIQFeRJ9Vv5QBGOwmwv1A77SA1Qwo9DiwWe1A8ziWQJM/Y0qy8aURKlrvSwkDGH3HKgBsDhs/vPEgBk09Zp0Gs1ZLk05Po15PtdJQrfXCLyaZRnsTZruZ8pJjWLFj04NFq9ChIdihxbvRgZ/dwLj0X7muktS++WdCnEWtXj/eANVOX+BMojJSV4a/oRQUaANC0Y0Yh354PLrBkbL2iRBCiJ+sxxOV7OxsGhoaGD9+vKssICCAsWPHsmfPHo9PVNpjMuhcA0WhOXmJHDOcyDGtu7MumfsEFqsDH1/j6aTGSW1VLcdOlmIynDN/feQ0TtVVM3KAHl+tDWVppLG+jpqqaiymga56Bp2BAAX+dge4bqZpdW0vQ8ul0TNdj4+/+keCnVUAtHTstLxytdOX4UPPLJ/c5O0LDZU49V7oTD5ojN5g8MamNRHs5z6eJHTiTWgcFkJGx9CgDezzI+KFEEJ0rx5PVIqLiwEYPHiwW3loaKhrW2fo9V07iLRlytSFTJ36qUICzl0LRMuA0BAGhLZe8Czhl7e0KvMHwtpod8TiNSinExxWlN0KditOmxWb1cJQ5R4j/yt+TUNdDf5GhZfWiUajQRm8sGm9GOof6FZ32G3LQG9AcwEDdfWXXY5Op8UY4E1TrbnD+uKM7jzn+jKJW+dJ7DpH4tazejxRMZubv7zOHYtiMpmoqanpVJtarYbgYN+fvW9tCQjovdX4ulPwlRk/oXbnYttXY9fdJG6dI3HrPIld50jcekaPJypeXs1XE6xWq+v/ABaLBW/vzv3RnU5FbW1jl+xfC51OS0CAN7W1ZhwO6b74KSR2nSNx6xyJW+dJ7DpH4tY1AgK8PXPBt5Yun9LSUkaMGOEqLy0tJTIystPtdtdYCIfDKeMsOkli1zkSt86RuHWexK5zJG49o8c72KKiovDz8+Obb75xldXW1nL48GFSUlJ6eneEEEII4cF6/IqK0Whk7ty5PPvss4SEhDB06FBWrlxJeHg4GRk/ZdyEEEIIIfq6Xlnw7b777sNut/P444/T1NRESkoKr732GgaDoeMnCyGEEKLf6JVERafT8dBDD/HQQw/1xssLIYQQ4iIhk8CFEEII4bEkURFCCCGEx5JERQghhBAeSxIVIYQQQngsSVSEEEII4bEkURFCCCGEx5JERQghhBAeS6OUUr29Ez+XUgqns+sPQ6fTyg2nOkli1zkSt86RuHWexK5zJG4/n1arQaPRdFivTyQqQgghhOibpOtHCCGEEB5LEhUhhBBCeCxJVIQQQgjhsSRREUIIIYTHkkRFCCGEEB5LEhUhhBBCeCxJVIQQQgjhsSRREUIIIYTHkkRFCCGEEB5LEhUhhBBCeCxJVIQQQgjhsSRREUIIIYTHkkRFCCGEEB6rzyYqTqeT1atXM3HiRBISEli0aBEnTpxwbT9y5Ahz584lISGBqVOn8j//8z8dtrllyxauu+464uPjueGGG8jMzHTbXlVVxQMPPEBKSgqpqak8+eSTmM3mLj+27tRR3M72+OOPM3Xq1A7b7A9xg45jd+jQIebNm0diYiKTJ0/m2WefxWq1nrfN/hK7Fq+88grz5s1zK/v888+5+eabSUxMZOrUqTz99NM0NTWdt50NGzZw1VVXER8fz2233cbhw4fdtp88eZLFixeTlJTEhAkTeOGFF3A4HF1+PD2lrbiVlpayZMkSkpOTSUtL44EHHqCysvK87WRmZnLTTTcxbtw4pk+fzubNm922WywWnnzyScaPH09iYuIFtemJqqurWbZsGZMmTSIpKYlbb72VrKws1/aO4tCW/nbO9SjVR61Zs0alpaWpL774Qh05ckQtXLhQZWRkKIvFoiorK1VaWpp69NFHVV5ennr33XdVXFycevfdd9ttLzMzU8XExKg33nhD5eXlqRUrVqjY2FiVl5fnqjN37lx18803q++//17t3LlTTZkyRT388MM9cbhd5nxxO9vWrVtVRESEmjJlynnb6y9xU6rjcy41NVUtW7ZMFRYWqh07dqjx48erp59+ut32+lPslFLqzTffVFFRUWru3Lmusj179qjo6Gj18ssvq4KCArV9+3Y1adIk9cgjj7Tbzvvvv6/i4+PVhx9+qHJzc9VDDz2kUlNTVUVFhVJKKavVqjIyMtQdd9yhjh49qrZu3apSU1PViy++2O3H2B3aipvFYlG//OUv1axZs9ShQ4fU/v371XXXXaduv/32dtvJy8tTcXFx6rnnnlN5eXnq1VdfVWPHjlU7d+501XnkkUfUtGnT1J49e9SBAwfUDTfcoObMmdOtx9cdFixYoGbMmKH27Nmj8vPz1ZNPPqni4+PVDz/8cEFxOFd/O+d6Wp9MVCwWi0pMTFQbNmxwldXU1Kj4+Hi1adMmtW7dOjVhwgRls9lc21etWqUyMjLabXPhwoXq/vvvdyubNWuWeuKJJ5RSSu3bt09FRES4fYl89dVXKjIyUhUXF3fRkXWvjuLWoqSkRKWnp6u5c+d2mKj0h7gp1XHsWhK7uro61/a//vWvasaMGe222V9iV1xcrBYvXqwSEhLU9OnT3b5wH3jgATV//ny3+h988IGKiYlplTy3yMjIUM8884zrsc1mU1deeaVat26dUkqpTZs2qdjYWFVdXe2q889//lMlJSW126YnOl/c3nvvPZWQkKDKyspcZTt27FBXXXWV2zl4tieeeELdcsstbmVLlixRCxcudL1eVFSU2r59u2t7fn6+ioiIUPv27evKQ+tWhYWFKiIiQmVlZbnKnE6nmjZtmnrhhRc6jENb+ss511v6ZNdPdnY2DQ0NjB8/3lUWEBDA2LFj2bNnD1lZWaSmpqLX613b09PTKSwspLy8HIBHHnnE1a3hdDrZt2+fW3sAaWlp7NmzB4CsrCwGDRrEZZdd5tqempqKRqNh79693XasXamjuAEopXjkkUe4/vrrSU1NbdVGf4wbdBy7kJAQAP73f/8Xh8PByZMn+fLLLxk3bpyrfn+N3aFDhzAYDPzrX/9yiwfAwoULWbp0qVuZVqvFZrNRX18PwLx581zdHhUVFRQWFrrFTa/Xk5yc7Ba3mJgYAgMDXXXS09Opr6/nyJEj3XKM3eF8cfv6669JT09n4MCBrrKJEyeybds2/Pz8AFizZg2RkZGu7VlZWa3Ot/T0dPbu3YtSynVOpaenu7aPGjWKsLAwV2wvBsHBwfz9738nLi7OVabRaNBoNNTW1nYYB+i/51xv0Xdc5eJTXFwMwODBg93KQ0NDKS4upri4mIiIiFbbAIqKihg4cCCPPfYYNpsNgNraWhobGwkPD2+zPYCSkpJWr2c0GgkKCqKoqKjrDq4bdRQ3gPXr11NWVsa6det45ZVXWrXRH+MGHccuKSmJu+66ixdffJHnn38eh8NBeno6y5Ytc9Xtr7GbOnVqu2Odxo4d6/bYZrOxfv16YmNjXcnfmjVrXNvP93fIzs521WkrrtD8/j/3S99TnS9uBQUFJCcn89JLL7Fx40bsdjsTJkzgoYceIiAgAGhOAmfPnu16TntxMZvNVFVVUVJSQnBwMCaTqVWdlrhfDAICArjyyivdyj755BOOHTvGn/70Jz744IPzxiEkJKTfnnO9pU9eUWkZTGg0Gt3KTSYTFouFpqamNrdB82AxAH9/f9cHYcvAvfbaa3nNc7efW8fTdRS37Oxs1q5dy8qVK9s8VuifcYOOY1dfX09+fj5z5szhnXfe4cUXX6SwsJAnnnjCVbe/xu5C2e12Hn74YXJzc1m+fLmrPCgoiKCgIKDjvwNwQe//i119fT0bN27k6NGjrFq1ij//+c/s3buXu+++23VVwNfXl0GDBrme01ZcWh5brdY+e77t27ePRx99lIyMDCZPntxhHEDOuZ7WJ6+oeHl5Ac0nVcv/ofmE8Pb2xsvLq9Vsi5aTxcfHp1V7LSdUW8/x9vZ2vWZbMzgsFkubbXqi88VNp9Px4IMPctdddxEVFXVB7fWXuEHH59zKlSupqalh9erVAK7LwPPnz2f+/PlER0e7tdefYnch6uvr+cMf/sDu3btZu3Yt8fHxbdY7++9wto7idr73/8VIr9fj4+PDqlWrMBgMAAQGBjJz5ky+++67NuNnMplaxaXlcXufm+Ae24vNtm3bePDBB0lKSuLZZ58FOo7DueSc63598opKyyW40tJSt/LS0lLCwsIIDw9vcxtAWFhYq/aCgoLw8fFptz2gzTatVivV1dWuS3ye7nxxs1qt5ObmsnbtWhITE0lMTOSVV17h1KlTJCYmuk3ta9Ff4gYdn3N79+516xMHXJd7CwsLW7XXn2LXkdLSUubMmcP+/ft57bXXWl22P1tHfwdoO27ne/9fjMLDwxk1apQrSQEYM2YM0DxNti2DBw9uMy4+Pj74+/sTHh5OdXV1qy/cs2N7MXnzzTe59957mTJlCuvWrXP9OOgoDueSc6779clEJSoqCj8/P7755htXWW1tLYcPHyYlJYWUlBT27t3rNod9165djBo1igEDBrRqT6PRkJSUxO7du93Kv/nmG5KTkwFISUmhuLiYY8eOuba31L/88su79Pi6y/niNmvWLD799FM+/PBDNm7cyMaNG5k9ezahoaFs3LiR2NjYVu31l7hBx+dcWFgYR48edXtOy+NRo0a1aq8/xe58ampq+O1vf0tlZSUbNmwgJSXlvPUHDBjAqFGj3P4OdrudrKws13NTUlI4fPiwazAuNL//fX19L/hqoadLSUkhOzvbbb2ZnJwcAEaOHNnmc5KTk1udb7t27SIpKQmtVsvll1+O0+l0G6hdUFBASUlJh38XT/PWW2/xl7/8hTlz5vDcc8+5dct0FIdzyTnXA3p30lH3ee6551Rqaqratm2b25oWVqtVlZeXq5SUFLV06VKVm5ur3nvvPRUXF6fef/991/Nra2tdc+CVap72GR0drV5//XWVl5ennn76aRUfH++aGup0OtXs2bPVjTfeqA4cOKAyMzPVlClTzrvegyc6X9zOtXr16lbTk/tr3JQ6f+x27NihIiMj1fPPP6+OHTumdu7cqa655hp1xx13uJ7fn2PXYunSpW7TbJcuXapiYmJUZmamKi0tdftnt9uVUkpVVVWpqqoq13PefvttFR8fr95//33XmhZpaWmu2DY1Nalp06ap3/3ud+rIkSOuNS3WrFnTo8falc6NW0VFhbriiivU3XffrXJyclRWVpaaMWOGmjdvnqtOfX29Ki0tdT3OyclRMTExauXKlSovL0+99tprrdYPWbJkiZo6daratWuXax2Vs1/3YpCfn69iYmLUPffc0+qcqq2tvaA4yDnXs/psomK329Uzzzyj0tPTVUJCglq0aJE6ceKEa/uBAwfUr3/9axUbG6umTJmi/vGPf7g9f+nSpa2+hD/44AN19dVXq7i4OHXjjTe2WgCovLxc3XvvvSohIUGlpaWp5cuXq6ampu47yG7QUdzO1lai0l/jplTHsdu+fbuaOXOmSkhIUFOmTFF//etfVUNDg2t7f45di7O/cO12u4qLi1MRERFt/muJ7dy5c1t9Wb766qtq0qRJKj4+Xt12223q8OHDbtsLCwvVggULVFxcnJowYYJ64YUXlMPh6JmD7AbnJipKKVVQUKDuuOMONW7cOJWSkqIeffRRVVNT49q+evVqFRER4facL7/8Us2YMUPFxsaq6dOnq82bN7ttb2hoUI899phKTk5WycnJasmSJaqysrL7DqwbvPzyy+2eU0uXLlVKdRwHOed6lkap00PAhRBCCCE8TJ8coyKEEEKIvkESFSGEEEJ4LElUhBBCCOGxJFERQgghhMeSREUIIYQQHksSFSGEEEJ4LElUhBA9QlZCEEJ0hiQqQohu99lnn7F06VKg+TYAkZGRbkuOCyFEe/rk3ZOFEJ5l/fr1rv/HxMTw9ttvM3r06N7bISHERUMSFSFEj/Lz8yMhIaG3d0MIcZGQrh8hRLeaN28eu3fvZvfu3a4un7O7ftasWcP06dPZunUrM2bMIC4ujuuvv55vv/2W/fv3M3PmTOLj45kxYwaZmZlubefk5LB48WKSkpJISkrinnvu4cSJE71xmEKIbiKJihCiWy1fvpyxY8cyduxY3n77bbdb3bcoLi5mxYoV3Hnnnbz44ovU1tZy3333sWTJEmbOnMlLL72EUoo//vGPNDU1AVBQUMDs2bOpqKjg6aef5qmnnuLEiRPceuutVFRU9PRhCiG6iXT9CCG61ejRo/Hz8wMgISGhzUG0ZrOZ5cuXM2nSJADy8vJYtWoVTz31FLfccgsAjY2N3HfffRQUFBAdHc3atWvx9vZm/fr1rvbHjx/PtGnTePXVV12Dd4UQFzdJVIQQHiEpKcn1/4EDBwIwbtw4V1lQUBAAtbW1AOzatYvU1FS8vLyw2+1A8/iX5ORkdu7c2UN7LYTobpKoCCE8QstVkbN5e3u3W7+6upqPPvqIjz76qNW2kJCQLt03IUTvkURFCHFR8vf354orrmDBggWttun18tEmRF8h72YhRLfTarU4nc4ubTM1NZW8vDyio6NdiYlSigcffJCRI0cSHR3dpa8nhOgdMutHCNHtAgICKCgoIDMz0zXG5Oe6++67OX78OIsXL2bbtm189dVX3HvvvWzevJmoqKgueQ0hRO+TREUI0e3mzJmDwWBg0aJFrunFP1dUVBQbNmxAo9Hw8MMPc99991FWVsZLL71ERkZGl7yGEKL3aZTcKUwIIYQQHkquqAghhBDCY0miIoQQQgiPJYmKEEIIITyWJCpCCCGE8FiSqAghhBDCY0miIoQQQgiPJYmKEEIIITyWJCpCCCGE8FiSqAghhBDCY0miIoQQQgiPJYmKEEIIITyWJCpCCCGE8Fj/H7VZSCe1J0zAAAAAAElFTkSuQmCC",
      "text/plain": [
       "<Figure size 640x480 with 1 Axes>"
      ]
     },
     "metadata": {},
     "output_type": "display_data"
    }
   ],
   "source": [
    "by_time = data.groupby(data.index.time).mean()\n",
    "hourly_ticks = 4 * 60 * 60 * np.arange(6)\n",
    "by_time.plot(xticks=hourly_ticks, style=[':', '--', '-']);"
   ]
  },
  {
   "cell_type": "code",
   "execution_count": 90,
   "metadata": {
    "collapsed": true
   },
   "outputs": [
    {
     "data": {
      "image/png": "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",
      "text/plain": [
       "<Figure size 640x480 with 1 Axes>"
      ]
     },
     "metadata": {},
     "output_type": "display_data"
    }
   ],
   "source": [
    "by_weekday = data.groupby(data.index.dayofweek).mean()\n",
    "by_weekday.index = ['Mon', 'Tues', 'Wed', 'Thurs', 'Fri', 'Sat', 'Sun']\n",
    "by_weekday.plot(style=[':', '--', '-']);"
   ]
  },
  {
   "cell_type": "code",
   "execution_count": 91,
   "metadata": {
    "collapsed": true
   },
   "outputs": [],
   "source": [
    "weekend = np.where(data.index.weekday < 5, 'Weekday', 'Weekend')\n",
    "by_time = data.groupby([weekend, data.index.time]).mean()"
   ]
  },
  {
   "cell_type": "code",
   "execution_count": 92,
   "metadata": {
    "collapsed": true
   },
   "outputs": [
    {
     "ename": "AttributeError",
     "evalue": "'DataFrame' object has no attribute 'ix'",
     "output_type": "error",
     "traceback": [
      "\u001b[1;31m---------------------------------------------------------------------------\u001b[0m",
      "\u001b[1;31mAttributeError\u001b[0m                            Traceback (most recent call last)",
      "\u001b[1;32m~\\AppData\\Local\\Temp\\ipykernel_8776\\2690342720.py\u001b[0m in \u001b[0;36m?\u001b[1;34m()\u001b[0m\n\u001b[0;32m      1\u001b[0m \u001b[1;32mimport\u001b[0m \u001b[0mmatplotlib\u001b[0m\u001b[1;33m.\u001b[0m\u001b[0mpyplot\u001b[0m \u001b[1;32mas\u001b[0m \u001b[0mplt\u001b[0m\u001b[1;33m\u001b[0m\u001b[1;33m\u001b[0m\u001b[0m\n\u001b[0;32m      2\u001b[0m \u001b[0mfig\u001b[0m\u001b[1;33m,\u001b[0m \u001b[0max\u001b[0m \u001b[1;33m=\u001b[0m \u001b[0mplt\u001b[0m\u001b[1;33m.\u001b[0m\u001b[0msubplots\u001b[0m\u001b[1;33m(\u001b[0m\u001b[1;36m1\u001b[0m\u001b[1;33m,\u001b[0m \u001b[1;36m2\u001b[0m\u001b[1;33m,\u001b[0m \u001b[0mfigsize\u001b[0m\u001b[1;33m=\u001b[0m\u001b[1;33m(\u001b[0m\u001b[1;36m14\u001b[0m\u001b[1;33m,\u001b[0m \u001b[1;36m5\u001b[0m\u001b[1;33m)\u001b[0m\u001b[1;33m)\u001b[0m\u001b[1;33m\u001b[0m\u001b[1;33m\u001b[0m\u001b[0m\n\u001b[1;32m----> 3\u001b[1;33m by_time.ix['Weekday'].plot(ax=ax[0], title='Weekdays',\n\u001b[0m\u001b[0;32m      4\u001b[0m                            xticks=hourly_ticks, style=[':', '--', '-'])\n\u001b[0;32m      5\u001b[0m by_time.ix['Weekend'].plot(ax=ax[1], title='Weekends',\n\u001b[0;32m      6\u001b[0m                            xticks=hourly_ticks, style=[':', '--', '-']);\n",
      "\u001b[1;32m~\\AppData\\Local\\Packages\\PythonSoftwareFoundation.Python.3.10_qbz5n2kfra8p0\\LocalCache\\local-packages\\Python310\\site-packages\\pandas\\core\\generic.py\u001b[0m in \u001b[0;36m?\u001b[1;34m(self, name)\u001b[0m\n\u001b[0;32m   6295\u001b[0m             \u001b[1;32mand\u001b[0m \u001b[0mname\u001b[0m \u001b[1;32mnot\u001b[0m \u001b[1;32min\u001b[0m \u001b[0mself\u001b[0m\u001b[1;33m.\u001b[0m\u001b[0m_accessors\u001b[0m\u001b[1;33m\u001b[0m\u001b[1;33m\u001b[0m\u001b[0m\n\u001b[0;32m   6296\u001b[0m             \u001b[1;32mand\u001b[0m \u001b[0mself\u001b[0m\u001b[1;33m.\u001b[0m\u001b[0m_info_axis\u001b[0m\u001b[1;33m.\u001b[0m\u001b[0m_can_hold_identifiers_and_holds_name\u001b[0m\u001b[1;33m(\u001b[0m\u001b[0mname\u001b[0m\u001b[1;33m)\u001b[0m\u001b[1;33m\u001b[0m\u001b[1;33m\u001b[0m\u001b[0m\n\u001b[0;32m   6297\u001b[0m         ):\n\u001b[0;32m   6298\u001b[0m             \u001b[1;32mreturn\u001b[0m \u001b[0mself\u001b[0m\u001b[1;33m[\u001b[0m\u001b[0mname\u001b[0m\u001b[1;33m]\u001b[0m\u001b[1;33m\u001b[0m\u001b[1;33m\u001b[0m\u001b[0m\n\u001b[1;32m-> 6299\u001b[1;33m         \u001b[1;32mreturn\u001b[0m \u001b[0mobject\u001b[0m\u001b[1;33m.\u001b[0m\u001b[0m__getattribute__\u001b[0m\u001b[1;33m(\u001b[0m\u001b[0mself\u001b[0m\u001b[1;33m,\u001b[0m \u001b[0mname\u001b[0m\u001b[1;33m)\u001b[0m\u001b[1;33m\u001b[0m\u001b[1;33m\u001b[0m\u001b[0m\n\u001b[0m",
      "\u001b[1;31mAttributeError\u001b[0m: 'DataFrame' object has no attribute 'ix'"
     ]
    },
    {
     "data": {
      "image/png": "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",
      "text/plain": [
       "<Figure size 1400x500 with 2 Axes>"
      ]
     },
     "metadata": {},
     "output_type": "display_data"
    }
   ],
   "source": [
    "import matplotlib.pyplot as plt\n",
    "fig, ax = plt.subplots(1, 2, figsize=(14, 5))\n",
    "by_time.ix['Weekday'].plot(ax=ax[0], title='Weekdays',\n",
    "                           xticks=hourly_ticks, style=[':', '--', '-'])\n",
    "by_time.ix['Weekend'].plot(ax=ax[1], title='Weekends',\n",
    "                           xticks=hourly_ticks, style=[':', '--', '-']);"
   ]
  },
  {
   "cell_type": "markdown",
   "metadata": {},
   "source": [
    "---\n",
    "\n",
    "## High-Performance Pandas: `eval()` and `query()`\n",
    "\n",
    "[Chapter/section link](https://nbviewer.jupyter.org/urls/bitbucket.org/dogwynn/pythondatasciencehandbook/raw/master/notebooks/03.12-Performance-Eval-and-Query.ipynb)\n",
    "\n",
    "### Motivating `query()` and `eval()`: Compount Expressions"
   ]
  },
  {
   "cell_type": "code",
   "execution_count": 93,
   "metadata": {
    "collapsed": true
   },
   "outputs": [
    {
     "name": "stdout",
     "output_type": "stream",
     "text": [
      "390 μs ± 26.2 μs per loop (mean ± std. dev. of 7 runs, 1,000 loops each)\n"
     ]
    }
   ],
   "source": [
    "import numpy as np\n",
    "rng = np.random.RandomState(42)\n",
    "x = rng.rand(1000000)\n",
    "y = rng.rand(1000000)\n",
    "%timeit x + y"
   ]
  },
  {
   "cell_type": "code",
   "execution_count": 94,
   "metadata": {
    "collapsed": true
   },
   "outputs": [
    {
     "name": "stdout",
     "output_type": "stream",
     "text": [
      "117 ms ± 1.93 ms per loop (mean ± std. dev. of 7 runs, 10 loops each)\n"
     ]
    }
   ],
   "source": [
    "%timeit np.fromiter((xi + yi for xi, yi in zip(x, y)), dtype=x.dtype, count=len(x))"
   ]
  },
  {
   "cell_type": "code",
   "execution_count": 95,
   "metadata": {
    "collapsed": true
   },
   "outputs": [],
   "source": [
    "mask = (x > 0.5) & (y < 0.5)"
   ]
  },
  {
   "cell_type": "code",
   "execution_count": 96,
   "metadata": {
    "collapsed": true
   },
   "outputs": [],
   "source": [
    "tmp1 = (x > 0.5)\n",
    "tmp2 = (y < 0.5)\n",
    "mask = tmp1 & tmp2"
   ]
  },
  {
   "cell_type": "code",
   "execution_count": 98,
   "metadata": {
    "collapsed": true
   },
   "outputs": [
    {
     "data": {
      "text/plain": [
       "True"
      ]
     },
     "execution_count": 98,
     "metadata": {},
     "output_type": "execute_result"
    }
   ],
   "source": [
    "import numexpr\n",
    "mask_numexpr = numexpr.evaluate('(x > 0.5) & (y < 0.5)')\n",
    "np.allclose(mask, mask_numexpr)"
   ]
  },
  {
   "cell_type": "markdown",
   "metadata": {},
   "source": [
    "### `pandas.eval()` for Efficient Operations"
   ]
  },
  {
   "cell_type": "code",
   "execution_count": 100,
   "metadata": {
    "collapsed": true
   },
   "outputs": [],
   "source": [
    "import pandas as pd\n",
    "nrows, ncols = 100000, 100\n",
    "rng = np.random.RandomState(42)\n",
    "df1, df2, df3, df4 = (pd.DataFrame(rng.rand(nrows, ncols))\n",
    "                      for i in range(4))"
   ]
  },
  {
   "cell_type": "code",
   "execution_count": 101,
   "metadata": {
    "collapsed": true
   },
   "outputs": [
    {
     "name": "stdout",
     "output_type": "stream",
     "text": [
      "127 ms ± 1.13 ms per loop (mean ± std. dev. of 7 runs, 10 loops each)\n"
     ]
    }
   ],
   "source": [
    "%timeit df1 + df2 + df3 + df4"
   ]
  },
  {
   "cell_type": "code",
   "execution_count": 102,
   "metadata": {
    "collapsed": true
   },
   "outputs": [
    {
     "name": "stdout",
     "output_type": "stream",
     "text": [
      "127 ms ± 1.35 ms per loop (mean ± std. dev. of 7 runs, 10 loops each)\n"
     ]
    }
   ],
   "source": [
    "%timeit pd.eval('df1 + df2 + df3 + df4')"
   ]
  },
  {
   "cell_type": "code",
   "execution_count": 103,
   "metadata": {
    "collapsed": true
   },
   "outputs": [
    {
     "data": {
      "text/plain": [
       "True"
      ]
     },
     "execution_count": 103,
     "metadata": {},
     "output_type": "execute_result"
    }
   ],
   "source": [
    "np.allclose(df1 + df2 + df3 + df4,\n",
    "            pd.eval('df1 + df2 + df3 + df4'))"
   ]
  },
  {
   "cell_type": "markdown",
   "metadata": {},
   "source": [
    "#### Operations supported by `pd.eval()`"
   ]
  },
  {
   "cell_type": "code",
   "execution_count": 104,
   "metadata": {
    "collapsed": true
   },
   "outputs": [],
   "source": [
    "df1, df2, df3, df4, df5 = (pd.DataFrame(rng.randint(0, 1000, (100, 3)))\n",
    "                           for i in range(5))"
   ]
  },
  {
   "cell_type": "code",
   "execution_count": 105,
   "metadata": {
    "collapsed": true
   },
   "outputs": [
    {
     "data": {
      "text/plain": [
       "True"
      ]
     },
     "execution_count": 105,
     "metadata": {},
     "output_type": "execute_result"
    }
   ],
   "source": [
    "result1 = -df1 * df2 / (df3 + df4) - df5\n",
    "result2 = pd.eval('-df1 * df2 / (df3 + df4) - df5')\n",
    "np.allclose(result1, result2)"
   ]
  },
  {
   "cell_type": "code",
   "execution_count": 106,
   "metadata": {
    "collapsed": true
   },
   "outputs": [
    {
     "data": {
      "text/plain": [
       "True"
      ]
     },
     "execution_count": 106,
     "metadata": {},
     "output_type": "execute_result"
    }
   ],
   "source": [
    "result1 = (df1 < df2) & (df2 <= df3) & (df3 != df4)\n",
    "result2 = pd.eval('df1 < df2 <= df3 != df4')\n",
    "np.allclose(result1, result2)"
   ]
  },
  {
   "cell_type": "code",
   "execution_count": 107,
   "metadata": {
    "collapsed": true
   },
   "outputs": [
    {
     "data": {
      "text/plain": [
       "True"
      ]
     },
     "execution_count": 107,
     "metadata": {},
     "output_type": "execute_result"
    }
   ],
   "source": [
    "result1 = (df1 < 0.5) & (df2 < 0.5) | (df3 < df4)\n",
    "result2 = pd.eval('(df1 < 0.5) & (df2 < 0.5) | (df3 < df4)')\n",
    "np.allclose(result1, result2)"
   ]
  },
  {
   "cell_type": "code",
   "execution_count": 108,
   "metadata": {
    "collapsed": true
   },
   "outputs": [
    {
     "data": {
      "text/plain": [
       "True"
      ]
     },
     "execution_count": 108,
     "metadata": {},
     "output_type": "execute_result"
    }
   ],
   "source": [
    "result3 = pd.eval('(df1 < 0.5) and (df2 < 0.5) or (df3 < df4)')\n",
    "np.allclose(result1, result3)"
   ]
  },
  {
   "cell_type": "code",
   "execution_count": 109,
   "metadata": {
    "collapsed": true
   },
   "outputs": [
    {
     "data": {
      "text/plain": [
       "True"
      ]
     },
     "execution_count": 109,
     "metadata": {},
     "output_type": "execute_result"
    }
   ],
   "source": [
    "result1 = df2.T[0] + df3.iloc[1]\n",
    "result2 = pd.eval('df2.T[0] + df3.iloc[1]')\n",
    "np.allclose(result1, result2)"
   ]
  },
  {
   "cell_type": "markdown",
   "metadata": {},
   "source": [
    "### `DataFrame.eval()` for Column-Wise Operations"
   ]
  },
  {
   "cell_type": "code",
   "execution_count": 110,
   "metadata": {
    "collapsed": true
   },
   "outputs": [
    {
     "data": {
      "text/html": [
       "<div>\n",
       "<style scoped>\n",
       "    .dataframe tbody tr th:only-of-type {\n",
       "        vertical-align: middle;\n",
       "    }\n",
       "\n",
       "    .dataframe tbody tr th {\n",
       "        vertical-align: top;\n",
       "    }\n",
       "\n",
       "    .dataframe thead th {\n",
       "        text-align: right;\n",
       "    }\n",
       "</style>\n",
       "<table border=\"1\" class=\"dataframe\">\n",
       "  <thead>\n",
       "    <tr style=\"text-align: right;\">\n",
       "      <th></th>\n",
       "      <th>A</th>\n",
       "      <th>B</th>\n",
       "      <th>C</th>\n",
       "    </tr>\n",
       "  </thead>\n",
       "  <tbody>\n",
       "    <tr>\n",
       "      <th>0</th>\n",
       "      <td>0.375506</td>\n",
       "      <td>0.406939</td>\n",
       "      <td>0.069938</td>\n",
       "    </tr>\n",
       "    <tr>\n",
       "      <th>1</th>\n",
       "      <td>0.069087</td>\n",
       "      <td>0.235615</td>\n",
       "      <td>0.154374</td>\n",
       "    </tr>\n",
       "    <tr>\n",
       "      <th>2</th>\n",
       "      <td>0.677945</td>\n",
       "      <td>0.433839</td>\n",
       "      <td>0.652324</td>\n",
       "    </tr>\n",
       "    <tr>\n",
       "      <th>3</th>\n",
       "      <td>0.264038</td>\n",
       "      <td>0.808055</td>\n",
       "      <td>0.347197</td>\n",
       "    </tr>\n",
       "    <tr>\n",
       "      <th>4</th>\n",
       "      <td>0.589161</td>\n",
       "      <td>0.252418</td>\n",
       "      <td>0.557789</td>\n",
       "    </tr>\n",
       "  </tbody>\n",
       "</table>\n",
       "</div>"
      ],
      "text/plain": [
       "          A         B         C\n",
       "0  0.375506  0.406939  0.069938\n",
       "1  0.069087  0.235615  0.154374\n",
       "2  0.677945  0.433839  0.652324\n",
       "3  0.264038  0.808055  0.347197\n",
       "4  0.589161  0.252418  0.557789"
      ]
     },
     "execution_count": 110,
     "metadata": {},
     "output_type": "execute_result"
    }
   ],
   "source": [
    "df = pd.DataFrame(rng.rand(1000, 3), columns=['A', 'B', 'C'])\n",
    "df.head()"
   ]
  },
  {
   "cell_type": "code",
   "execution_count": 111,
   "metadata": {
    "collapsed": true
   },
   "outputs": [
    {
     "data": {
      "text/plain": [
       "True"
      ]
     },
     "execution_count": 111,
     "metadata": {},
     "output_type": "execute_result"
    }
   ],
   "source": [
    "result1 = (df['A'] + df['B']) / (df['C'] - 1)\n",
    "result2 = pd.eval(\"(df.A + df.B) / (df.C - 1)\")\n",
    "np.allclose(result1, result2)"
   ]
  },
  {
   "cell_type": "code",
   "execution_count": 112,
   "metadata": {
    "collapsed": true
   },
   "outputs": [
    {
     "data": {
      "text/plain": [
       "True"
      ]
     },
     "execution_count": 112,
     "metadata": {},
     "output_type": "execute_result"
    }
   ],
   "source": [
    "result3 = df.eval('(A + B) / (C - 1)')\n",
    "np.allclose(result1, result3)"
   ]
  },
  {
   "cell_type": "markdown",
   "metadata": {},
   "source": [
    "#### Assignment in `DataFrame.eval()`"
   ]
  },
  {
   "cell_type": "code",
   "execution_count": 113,
   "metadata": {
    "collapsed": true
   },
   "outputs": [
    {
     "data": {
      "text/html": [
       "<div>\n",
       "<style scoped>\n",
       "    .dataframe tbody tr th:only-of-type {\n",
       "        vertical-align: middle;\n",
       "    }\n",
       "\n",
       "    .dataframe tbody tr th {\n",
       "        vertical-align: top;\n",
       "    }\n",
       "\n",
       "    .dataframe thead th {\n",
       "        text-align: right;\n",
       "    }\n",
       "</style>\n",
       "<table border=\"1\" class=\"dataframe\">\n",
       "  <thead>\n",
       "    <tr style=\"text-align: right;\">\n",
       "      <th></th>\n",
       "      <th>A</th>\n",
       "      <th>B</th>\n",
       "      <th>C</th>\n",
       "    </tr>\n",
       "  </thead>\n",
       "  <tbody>\n",
       "    <tr>\n",
       "      <th>0</th>\n",
       "      <td>0.375506</td>\n",
       "      <td>0.406939</td>\n",
       "      <td>0.069938</td>\n",
       "    </tr>\n",
       "    <tr>\n",
       "      <th>1</th>\n",
       "      <td>0.069087</td>\n",
       "      <td>0.235615</td>\n",
       "      <td>0.154374</td>\n",
       "    </tr>\n",
       "    <tr>\n",
       "      <th>2</th>\n",
       "      <td>0.677945</td>\n",
       "      <td>0.433839</td>\n",
       "      <td>0.652324</td>\n",
       "    </tr>\n",
       "    <tr>\n",
       "      <th>3</th>\n",
       "      <td>0.264038</td>\n",
       "      <td>0.808055</td>\n",
       "      <td>0.347197</td>\n",
       "    </tr>\n",
       "    <tr>\n",
       "      <th>4</th>\n",
       "      <td>0.589161</td>\n",
       "      <td>0.252418</td>\n",
       "      <td>0.557789</td>\n",
       "    </tr>\n",
       "  </tbody>\n",
       "</table>\n",
       "</div>"
      ],
      "text/plain": [
       "          A         B         C\n",
       "0  0.375506  0.406939  0.069938\n",
       "1  0.069087  0.235615  0.154374\n",
       "2  0.677945  0.433839  0.652324\n",
       "3  0.264038  0.808055  0.347197\n",
       "4  0.589161  0.252418  0.557789"
      ]
     },
     "execution_count": 113,
     "metadata": {},
     "output_type": "execute_result"
    }
   ],
   "source": [
    "df.head()"
   ]
  },
  {
   "cell_type": "code",
   "execution_count": 114,
   "metadata": {
    "collapsed": true
   },
   "outputs": [
    {
     "data": {
      "text/html": [
       "<div>\n",
       "<style scoped>\n",
       "    .dataframe tbody tr th:only-of-type {\n",
       "        vertical-align: middle;\n",
       "    }\n",
       "\n",
       "    .dataframe tbody tr th {\n",
       "        vertical-align: top;\n",
       "    }\n",
       "\n",
       "    .dataframe thead th {\n",
       "        text-align: right;\n",
       "    }\n",
       "</style>\n",
       "<table border=\"1\" class=\"dataframe\">\n",
       "  <thead>\n",
       "    <tr style=\"text-align: right;\">\n",
       "      <th></th>\n",
       "      <th>A</th>\n",
       "      <th>B</th>\n",
       "      <th>C</th>\n",
       "      <th>D</th>\n",
       "    </tr>\n",
       "  </thead>\n",
       "  <tbody>\n",
       "    <tr>\n",
       "      <th>0</th>\n",
       "      <td>0.375506</td>\n",
       "      <td>0.406939</td>\n",
       "      <td>0.069938</td>\n",
       "      <td>11.187620</td>\n",
       "    </tr>\n",
       "    <tr>\n",
       "      <th>1</th>\n",
       "      <td>0.069087</td>\n",
       "      <td>0.235615</td>\n",
       "      <td>0.154374</td>\n",
       "      <td>1.973796</td>\n",
       "    </tr>\n",
       "    <tr>\n",
       "      <th>2</th>\n",
       "      <td>0.677945</td>\n",
       "      <td>0.433839</td>\n",
       "      <td>0.652324</td>\n",
       "      <td>1.704344</td>\n",
       "    </tr>\n",
       "    <tr>\n",
       "      <th>3</th>\n",
       "      <td>0.264038</td>\n",
       "      <td>0.808055</td>\n",
       "      <td>0.347197</td>\n",
       "      <td>3.087857</td>\n",
       "    </tr>\n",
       "    <tr>\n",
       "      <th>4</th>\n",
       "      <td>0.589161</td>\n",
       "      <td>0.252418</td>\n",
       "      <td>0.557789</td>\n",
       "      <td>1.508776</td>\n",
       "    </tr>\n",
       "  </tbody>\n",
       "</table>\n",
       "</div>"
      ],
      "text/plain": [
       "          A         B         C          D\n",
       "0  0.375506  0.406939  0.069938  11.187620\n",
       "1  0.069087  0.235615  0.154374   1.973796\n",
       "2  0.677945  0.433839  0.652324   1.704344\n",
       "3  0.264038  0.808055  0.347197   3.087857\n",
       "4  0.589161  0.252418  0.557789   1.508776"
      ]
     },
     "execution_count": 114,
     "metadata": {},
     "output_type": "execute_result"
    }
   ],
   "source": [
    "df.eval('D = (A + B) / C', inplace=True)\n",
    "df.head()"
   ]
  },
  {
   "cell_type": "code",
   "execution_count": 115,
   "metadata": {
    "collapsed": true
   },
   "outputs": [
    {
     "data": {
      "text/html": [
       "<div>\n",
       "<style scoped>\n",
       "    .dataframe tbody tr th:only-of-type {\n",
       "        vertical-align: middle;\n",
       "    }\n",
       "\n",
       "    .dataframe tbody tr th {\n",
       "        vertical-align: top;\n",
       "    }\n",
       "\n",
       "    .dataframe thead th {\n",
       "        text-align: right;\n",
       "    }\n",
       "</style>\n",
       "<table border=\"1\" class=\"dataframe\">\n",
       "  <thead>\n",
       "    <tr style=\"text-align: right;\">\n",
       "      <th></th>\n",
       "      <th>A</th>\n",
       "      <th>B</th>\n",
       "      <th>C</th>\n",
       "      <th>D</th>\n",
       "    </tr>\n",
       "  </thead>\n",
       "  <tbody>\n",
       "    <tr>\n",
       "      <th>0</th>\n",
       "      <td>0.375506</td>\n",
       "      <td>0.406939</td>\n",
       "      <td>0.069938</td>\n",
       "      <td>-0.449425</td>\n",
       "    </tr>\n",
       "    <tr>\n",
       "      <th>1</th>\n",
       "      <td>0.069087</td>\n",
       "      <td>0.235615</td>\n",
       "      <td>0.154374</td>\n",
       "      <td>-1.078728</td>\n",
       "    </tr>\n",
       "    <tr>\n",
       "      <th>2</th>\n",
       "      <td>0.677945</td>\n",
       "      <td>0.433839</td>\n",
       "      <td>0.652324</td>\n",
       "      <td>0.374209</td>\n",
       "    </tr>\n",
       "    <tr>\n",
       "      <th>3</th>\n",
       "      <td>0.264038</td>\n",
       "      <td>0.808055</td>\n",
       "      <td>0.347197</td>\n",
       "      <td>-1.566886</td>\n",
       "    </tr>\n",
       "    <tr>\n",
       "      <th>4</th>\n",
       "      <td>0.589161</td>\n",
       "      <td>0.252418</td>\n",
       "      <td>0.557789</td>\n",
       "      <td>0.603708</td>\n",
       "    </tr>\n",
       "  </tbody>\n",
       "</table>\n",
       "</div>"
      ],
      "text/plain": [
       "          A         B         C         D\n",
       "0  0.375506  0.406939  0.069938 -0.449425\n",
       "1  0.069087  0.235615  0.154374 -1.078728\n",
       "2  0.677945  0.433839  0.652324  0.374209\n",
       "3  0.264038  0.808055  0.347197 -1.566886\n",
       "4  0.589161  0.252418  0.557789  0.603708"
      ]
     },
     "execution_count": 115,
     "metadata": {},
     "output_type": "execute_result"
    }
   ],
   "source": [
    "df.eval('D = (A - B) / C', inplace=True)\n",
    "df.head()"
   ]
  },
  {
   "cell_type": "markdown",
   "metadata": {},
   "source": [
    "#### Local variables in `DataFrame.eval()`"
   ]
  },
  {
   "cell_type": "code",
   "execution_count": 116,
   "metadata": {
    "collapsed": true
   },
   "outputs": [
    {
     "data": {
      "text/plain": [
       "True"
      ]
     },
     "execution_count": 116,
     "metadata": {},
     "output_type": "execute_result"
    }
   ],
   "source": [
    "column_mean = df.mean(1)\n",
    "result1 = df['A'] + column_mean\n",
    "result2 = df.eval('A + @column_mean')\n",
    "np.allclose(result1, result2)"
   ]
  },
  {
   "cell_type": "markdown",
   "metadata": {},
   "source": [
    "### `DataFrame.query()` Method"
   ]
  },
  {
   "cell_type": "code",
   "execution_count": 117,
   "metadata": {
    "collapsed": true
   },
   "outputs": [
    {
     "data": {
      "text/plain": [
       "True"
      ]
     },
     "execution_count": 117,
     "metadata": {},
     "output_type": "execute_result"
    }
   ],
   "source": [
    "result1 = df[(df.A < 0.5) & (df.B < 0.5)]\n",
    "result2 = pd.eval('df[(df.A < 0.5) & (df.B < 0.5)]')\n",
    "np.allclose(result1, result2)"
   ]
  },
  {
   "cell_type": "code",
   "execution_count": 118,
   "metadata": {
    "collapsed": true
   },
   "outputs": [
    {
     "data": {
      "text/plain": [
       "True"
      ]
     },
     "execution_count": 118,
     "metadata": {},
     "output_type": "execute_result"
    }
   ],
   "source": [
    "result2 = df.query('A < 0.5 and B < 0.5')\n",
    "np.allclose(result1, result2)"
   ]
  },
  {
   "cell_type": "code",
   "execution_count": 119,
   "metadata": {
    "collapsed": true
   },
   "outputs": [
    {
     "data": {
      "text/plain": [
       "True"
      ]
     },
     "execution_count": 119,
     "metadata": {},
     "output_type": "execute_result"
    }
   ],
   "source": [
    "Cmean = df['C'].mean()\n",
    "result1 = df[(df.A < Cmean) & (df.B < Cmean)]\n",
    "result2 = df.query('A < @Cmean and B < @Cmean')\n",
    "np.allclose(result1, result2)"
   ]
  },
  {
   "cell_type": "markdown",
   "metadata": {},
   "source": [
    "### Performance: When to Use These Functions"
   ]
  },
  {
   "cell_type": "code",
   "execution_count": 120,
   "metadata": {
    "collapsed": true
   },
   "outputs": [],
   "source": [
    "x = df[(df.A < 0.5) & (df.B < 0.5)]"
   ]
  },
  {
   "cell_type": "code",
   "execution_count": 121,
   "metadata": {
    "collapsed": true
   },
   "outputs": [],
   "source": [
    "tmp1 = df.A < 0.5\n",
    "tmp2 = df.B < 0.5\n",
    "tmp3 = tmp1 & tmp2\n",
    "x = df[tmp3]"
   ]
  },
  {
   "cell_type": "code",
   "execution_count": 122,
   "metadata": {
    "collapsed": true
   },
   "outputs": [
    {
     "data": {
      "text/plain": [
       "32000"
      ]
     },
     "execution_count": 122,
     "metadata": {},
     "output_type": "execute_result"
    }
   ],
   "source": [
    "df.values.nbytes"
   ]
  },
  {
   "cell_type": "markdown",
   "metadata": {},
   "source": [
    "---\n",
    "\n",
    "# Section 2: Exercises\n",
    "\n",
    "In this section, you will be provided a few exercises to demonstrate your understanding of the chapter contents. Each exercise will have a Markdown section describing the problem, and you will provide cells below the description with code, comments and visual demonstrations of your solution."
   ]
  },
  {
   "cell_type": "markdown",
   "metadata": {},
   "source": [
    "---\n",
    "\n",
    "### Problem 1\n",
    "\n"
   ]
  },
  {
   "cell_type": "markdown",
   "metadata": {
    "collapsed": true
   },
   "source": [
    "Use the `seaborn.load_data` function to load the `\"titanic\"` dataset. \n",
    "\n",
    "```python\n",
    "import seaborn\n",
    "titanic = seaborn.load_dataset('titanic')\n",
    "```\n",
    "\n",
    "Using this dataset and the capabilities provided by Pandas, answer the following questions:\n",
    "\n",
    "- What is the impact of being alone on survival rates?\n",
    "- What is the most common embarkment city for surviving children?\n",
    "- What is the average fare of men that survived?\n",
    "- What is the average fare of women that survived?\n",
    "\n",
    "Use `pandas.eval` (or `pd.eval`, depending) and `DataFrame.eval()`/`DataFrame.query()` wherever possible."
   ]
  },
  {
   "cell_type": "code",
   "execution_count": 160,
   "metadata": {
    "collapsed": true
   },
   "outputs": [
    {
     "name": "stdout",
     "output_type": "stream",
     "text": [
      "Total Alone: 537\n",
      "Total Not Aalone: 354\n",
      "Alone Survivors: 163\n",
      "Alone Deaths: 374\n",
      "Not Alone Survivors: 179\n",
      "Not Alone Deaths: 175\n",
      "   survived  pclass     sex  age  sibsp  parch     fare embarked  class  \\\n",
      "0       1.0     3.0  female  4.0    0.0    1.0  19.2583        S  Third   \n",
      "1       NaN     NaN     NaN  NaN    NaN    NaN  26.0000      NaN    NaN   \n",
      "\n",
      "     who adult_male deck  embark_town alive  alone  \n",
      "0  child      False    B  Southampton   yes  False  \n",
      "1    NaN        NaN  NaN          NaN   NaN    NaN  \n",
      "     survived  pclass     sex   age  sibsp  parch     fare embarked   class  \\\n",
      "1           1       1  female  38.0      1      0  71.2833        C   First   \n",
      "2           1       3  female  26.0      0      0   7.9250        S   Third   \n",
      "3           1       1  female  35.0      1      0  53.1000        S   First   \n",
      "8           1       3  female  27.0      0      2  11.1333        S   Third   \n",
      "9           1       2  female  14.0      1      0  30.0708        C  Second   \n",
      "..        ...     ...     ...   ...    ...    ...      ...      ...     ...   \n",
      "874         1       2  female  28.0      1      0  24.0000        C  Second   \n",
      "875         1       3  female  15.0      0      0   7.2250        C   Third   \n",
      "879         1       1  female  56.0      0      1  83.1583        C   First   \n",
      "880         1       2  female  25.0      0      1  26.0000        S  Second   \n",
      "887         1       1  female  19.0      0      0  30.0000        S   First   \n",
      "\n",
      "       who  adult_male deck  embark_town alive  alone  \n",
      "1    woman       False    C    Cherbourg   yes  False  \n",
      "2    woman       False  NaN  Southampton   yes   True  \n",
      "3    woman       False    C  Southampton   yes  False  \n",
      "8    woman       False  NaN  Southampton   yes  False  \n",
      "9    child       False  NaN    Cherbourg   yes  False  \n",
      "..     ...         ...  ...          ...   ...    ...  \n",
      "874  woman       False  NaN    Cherbourg   yes  False  \n",
      "875  child       False  NaN    Cherbourg   yes   True  \n",
      "879  woman       False    C    Cherbourg   yes  False  \n",
      "880  woman       False  NaN  Southampton   yes  False  \n",
      "887  woman       False    B  Southampton   yes   True  \n",
      "\n",
      "[233 rows x 15 columns]\n",
      "     survived  pclass   sex   age  sibsp  parch     fare embarked   class  \\\n",
      "17          1       2  male   NaN      0      0  13.0000        S  Second   \n",
      "21          1       2  male  34.0      0      0  13.0000        S  Second   \n",
      "23          1       1  male  28.0      0      0  35.5000        S   First   \n",
      "36          1       3  male   NaN      0      0   7.2292        C   Third   \n",
      "55          1       1  male   NaN      0      0  35.5000        S   First   \n",
      "..        ...     ...   ...   ...    ...    ...      ...      ...     ...   \n",
      "838         1       3  male  32.0      0      0  56.4958        S   Third   \n",
      "839         1       1  male   NaN      0      0  29.7000        C   First   \n",
      "857         1       1  male  51.0      0      0  26.5500        S   First   \n",
      "869         1       3  male   4.0      1      1  11.1333        S   Third   \n",
      "889         1       1  male  26.0      0      0  30.0000        C   First   \n",
      "\n",
      "       who  adult_male deck  embark_town alive  alone  \n",
      "17     man        True  NaN  Southampton   yes   True  \n",
      "21     man        True    D  Southampton   yes   True  \n",
      "23     man        True    A  Southampton   yes   True  \n",
      "36     man        True  NaN    Cherbourg   yes   True  \n",
      "55     man        True    C  Southampton   yes   True  \n",
      "..     ...         ...  ...          ...   ...    ...  \n",
      "838    man        True  NaN  Southampton   yes   True  \n",
      "839    man        True    C    Cherbourg   yes   True  \n",
      "857    man        True    E  Southampton   yes   True  \n",
      "869  child       False  NaN  Southampton   yes  False  \n",
      "889    man        True    C    Cherbourg   yes   True  \n",
      "\n",
      "[109 rows x 15 columns]\n",
      "51.93857339055794\n",
      "40.82148440366972\n"
     ]
    }
   ],
   "source": [
    "import seaborn as sb \n",
    "import numpy as np \n",
    "import pandas as pd \n",
    "\n",
    "titanic = seaborn.load_dataset('titanic')  \n",
    "\n",
    "alone = titanic[titanic['alone'] == True]\n",
    "notalone = titanic[titanic['alone'] == False]  \n",
    "\n",
    "alonesurv = alone[alone['survived'] == 1]\n",
    "alonedied = alone[alone['survived'] == 0] \n",
    "\n",
    "notalonesurv = notalone[notalone['survived'] == 1]\n",
    "notalonedied = notalone[notalone['survived'] == 0] \n",
    "\n",
    "children = titanic[titanic['age'] < 18]   \n",
    "survchildren = children[children['survived'] == 1]  \n",
    "\n",
    "f = titanic[titanic['sex'] == 'female']\n",
    "m = titanic[titanic['sex'] == 'male']\n",
    "\n",
    "fsurv = f[f['survived'] == 1]\n",
    "msurv = m[m['survived'] == 1]\n",
    "\n",
    "print('Total Alone: ' + str(len(alone)))\n",
    "print('Total Not Aalone: ' + str(len(notalone)))\n",
    "\n",
    "print('Alone Survivors: ' + str(len(alonesurv))) \n",
    "print('Alone Deaths: ' + str(len(alonedied)))\n",
    "\n",
    "print('Not Alone Survivors: ' + str(len(notalonesurv))) \n",
    "print('Not Alone Deaths: ' + str(len(notalonedied)))  \n",
    "\n",
    "print(survchildren.mode())  \n",
    "\n",
    "print(fsurv) \n",
    "print(msurv)\n",
    "\n",
    "print(fsurv['fare'].mean())\n",
    "print(msurv['fare'].mean())\n",
    "\n",
    "\n"
   ]
  },
  {
   "cell_type": "markdown",
   "metadata": {},
   "source": [
    "---\n",
    "\n",
    "### Problem 2\n",
    "\n",
    "Type the following in a cell and run it:\n",
    "\n",
    "```python\n",
    "import os\n",
    "from pathlib import Path\n",
    "def get_names():\n",
    "    if not Path('names.csv').exists():\n",
    "        names = pd.read_csv('https://belhavencs.nyc3.digitaloceanspaces.com/csc311/names.csv')\n",
    "        names.to_csv('names.csv', index=None)\n",
    "    else:\n",
    "        names = pd.read_csv('names.csv')\n",
    "    return names\n",
    "\n",
    "names = get_names()\n",
    "names.head()\n",
    "```\n",
    "\n",
    "The `names` DataFrame is a database of first names of children born since 1880. It has the following columns:\n",
    "\n",
    "Column | Description\n",
    ":-----:|:-----------\n",
    "**name** | First name given \n",
    "**gender** | Gender of the children with the name\n",
    "**births** | The number of children born with the name \n",
    "**year** | The year of birth \n",
    "\n",
    "Use the `names` DataFrame to do the following using the Pandas API:\n",
    "\n",
    "- Create a `rank` DataFrame where:\n",
    "    - Its index is the first names from `names`\n",
    "    - Its columns are a MultiIndex whose primary key is the decade and whose secondary keys are the following: \n",
    "        - number of births in the decade\n",
    "        - rank\n",
    "        - difference in rank from the last decade\n",
    "        - number of male births with the name\n",
    "        - number of female births with the name\n",
    "- Which names have dropped the most over a one decade period?\n",
    "- Which names have dropped the most over a five decade period?\n",
    "\n",
    "Use `pandas.eval` (or `pd.eval`, depending) and `DataFrame.eval()`/`DataFrame.query()` wherever possible."
   ]
  },
  {
   "cell_type": "code",
<<<<<<< HEAD
   "execution_count": null,
   "metadata": {
    "collapsed": true
   },
   "outputs": [
    {
     "name": "stdout",
     "output_type": "stream",
     "text": [
      "('Vasil', np.int64(2000))\n",
      "name     decade\n",
      "Vasil    2000      47821.0\n",
      "Sakae    2000      46883.0\n",
      "Trueman  2000      46612.0\n",
      "Shaquil  2000      46107.0\n",
      "Sweetie  2000      45651.0\n",
      "Name: rank_diff, dtype: float64\n"
     ]
    }
   ],
   "source": [
    "import os \n",
    "import seaborn as sb \n",
    "import numpy as np \n",
    "import pandas as pd  \n",
    "import datetime as date\n",
    "\n",
    "from pathlib import Path\n",
    "def get_names():\n",
    "    if not Path('names.csv').exists():\n",
    "        names = pd.read_csv('https://belhavencs.nyc3.digitaloceanspaces.com/csc311/names.csv')\n",
<<<<<<< HEAD
=======
    "        names.to_csv('names.csv')\n",
>>>>>>> d6d5034a1773e187cc8cb130a6ee345464e2cd90
    "    else:\n",
    "        names = pd.read_csv('names.csv') \n",
    "    \n",
    "    return names"
   ]
  },
  {
   "cell_type": "code",
   "execution_count": 4,
   "metadata": {},
   "outputs": [
    {
     "name": "stdout",
     "output_type": "stream",
     "text": [
      "<pandas.core.groupby.generic.DataFrameGroupBy object at 0x0000026E724204C0>\n"
     ]
    }
   ],
   "source": [
    "names = get_names() \n",
    "namesindexed = pd.DataFrame(pd.DataFrame(names, index = names['name']))\n",
    "\n",
<<<<<<< HEAD
    "names = get_names() \n",
    "names['decade'] = ((names['year'] // 10) * 10) \n",
    "\n",
    "decade_births = names.groupby([\"name\", \"decade\"])[\"births\"].sum()\n",
    "\n",
    "decade_rank = ( \n",
    "    decade_births.groupby(\"decade\") \n",
    "    .rank(ascending=False, method=\"first\")     \n",
    ") \n",
    "\n",
    "m = names[names[\"gender\"] == \"M\"].groupby([\"name\", \"decade\"])[\"births\"].sum()\n",
    "f = names[names[\"gender\"] == \"F\"].groupby([\"name\", \"decade\"])[\"births\"].sum() \n",
    "\n",
    "rank = pd.DataFrame({ \n",
    "               \"total_births\": decade_births, \n",
    "               \"rank\": decade_rank, \n",
    "               \"male_births\": m, \n",
    "               \"female_births\": f,   \n",
    "                     }).fillna(0) \n",
    "\n",
    "rank['rank_diff'] = rank['rank'] - rank.groupby(level=0)['rank'].shift() \n",
    "\n",
    "top_diff = rank['rank_diff'].idxmax()  \n",
    "\n",
    "top_5_diff = rank['rank_diff'].nlargest(5)\n",
    "\n",
    "print(top_diff) \n",
    "\n",
    "print(top_5_diff)\n"
=======
    "names = names.groupby('name') \n",
    "print(names)\n",
    "##unames = names['name'].unique() \n",
    "##print(unames)  "
   ]
  },
  {
   "cell_type": "code",
   "execution_count": null,
   "metadata": {},
   "outputs": [],
   "source": [
    "names.groupby('year')"
   ]
  },
  {
   "cell_type": "code",
   "execution_count": 17,
   "metadata": {},
   "outputs": [
    {
     "data": {
      "text/plain": [
       "<bound method DataFrame.eval of               name gender  births  year\n",
       "0             Mary      F    7065  1880\n",
       "1             Anna      F    2604  1880\n",
       "2             Emma      F    2003  1880\n",
       "3        Elizabeth      F    1939  1880\n",
       "4           Minnie      F    1746  1880\n",
       "...            ...    ...     ...   ...\n",
       "1724887      Zylar      M       5  2011\n",
       "1724888      Zylas      M       5  2011\n",
       "1724889      Zyran      M       5  2011\n",
       "1724890    Zyshawn      M       5  2011\n",
       "1724891   Zytavion      M       5  2011\n",
       "\n",
       "[1724892 rows x 4 columns]>"
      ]
     },
     "execution_count": 17,
     "metadata": {},
     "output_type": "execute_result"
    }
   ],
   "source": [
    "names.eval \n",
    "names.index()"
>>>>>>> d6d5034a1773e187cc8cb130a6ee345464e2cd90
   ]
  },
  {
   "cell_type": "markdown",
   "metadata": {},
   "source": [
    "---\n",
    "\n",
    "### Problem 3\n",
    "\n",
    "Using the `recipes` DataFrame from [Section 3.10](https://nbviewer.jupyter.org/urls/bitbucket.org/dogwynn/pythondatasciencehandbook/raw/master/notebooks/03.10-Working-With-Strings.ipynb#Example:-Recipe-Database), do the following:\n",
    "\n",
    "- Create a column, `prep_time` that is a `datetime.timedelta` object representation of the `prepTime` column\n",
    "- Create a column, `cook_time` that is a `datetime.timedelta` object representation of the `cookTime` column\n",
    "- Create a function that, given a list of [spices](https://nbviewer.jupyter.org/urls/bitbucket.org/dogwynn/pythondatasciencehandbook/raw/master/notebooks/03.10-Working-With-Strings.ipynb#A-simple-recipe-recommender), returns recipes sorted by total time (prep + cook)"
   ]
  },
  {
   "cell_type": "code",
<<<<<<< HEAD
   "execution_count": null,
=======
   "execution_count": 3,
>>>>>>> d6d5034a1773e187cc8cb130a6ee345464e2cd90
   "metadata": {
    "collapsed": true
   },
   "outputs": [
    {
     "name": "stdout",
     "output_type": "stream",
     "text": [
<<<<<<< HEAD
      "ValueError: Trailing data\n"
=======
      "ValueError: Expected object or value\n"
     ]
    },
    {
     "ename": "NameError",
     "evalue": "name 'recipes' is not defined",
     "output_type": "error",
     "traceback": [
      "\u001b[1;31m---------------------------------------------------------------------------\u001b[0m",
      "\u001b[1;31mNameError\u001b[0m                                 Traceback (most recent call last)",
      "\u001b[1;32m~\\AppData\\Local\\Temp\\ipykernel_19560\\1390284024.py\u001b[0m in \u001b[0;36m<module>\u001b[1;34m\u001b[0m\n\u001b[0;32m      9\u001b[0m     \u001b[0mprint\u001b[0m\u001b[1;33m(\u001b[0m\u001b[1;34m\"ValueError:\"\u001b[0m\u001b[1;33m,\u001b[0m \u001b[0me\u001b[0m\u001b[1;33m)\u001b[0m\u001b[1;33m\u001b[0m\u001b[1;33m\u001b[0m\u001b[0m\n\u001b[0;32m     10\u001b[0m \u001b[1;33m\u001b[0m\u001b[0m\n\u001b[1;32m---> 11\u001b[1;33m \u001b[0mprint\u001b[0m\u001b[1;33m(\u001b[0m\u001b[0mrecipes\u001b[0m\u001b[1;33m)\u001b[0m\u001b[1;33m\u001b[0m\u001b[1;33m\u001b[0m\u001b[0m\n\u001b[0m",
      "\u001b[1;31mNameError\u001b[0m: name 'recipes' is not defined"
>>>>>>> d6d5034a1773e187cc8cb130a6ee345464e2cd90
     ]
    }
   ],
   "source": [
    "import numpy as np \n",
    "import seaborn as sb \n",
    "import pandas as pd  \n",
    "import datetime as date\n",
    "\n",
    "try:\n",
    "    raw_recipes = pd.read_json('recipeitems-latest.json')\n",
    "except ValueError as e:\n",
    "    print(\"ValueError:\", e)  \n",
    "    "
   ]
  },
  {
   "cell_type": "code",
   "execution_count": null,
   "metadata": {},
   "outputs": [],
   "source": []
  }
 ],
 "metadata": {
  "kernelspec": {
   "display_name": "base",
   "language": "python",
   "name": "python3"
  },
  "language_info": {
   "codemirror_mode": {
    "name": "ipython",
    "version": 3
   },
   "file_extension": ".py",
   "mimetype": "text/x-python",
   "name": "python",
   "nbconvert_exporter": "python",
   "pygments_lexer": "ipython3",
   "version": "3.9.13"
  }
 },
 "nbformat": 4,
 "nbformat_minor": 2
}
