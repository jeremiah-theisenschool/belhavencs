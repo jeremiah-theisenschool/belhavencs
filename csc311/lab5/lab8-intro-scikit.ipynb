{
 "cells": [
  {
   "cell_type": "markdown",
   "metadata": {},
   "source": [
    "# Lab 9\n",
    "\n",
    "# Introducing Scikit-Learn\n",
    "\n",
    "In this lab, you'll be working a few exercises on the material in Chapter 5 to get an introduction to the machine learning library for Python, `scikit_learn`.\n"
   ]
  },
  {
   "cell_type": "markdown",
   "metadata": {},
   "source": [
    "---\n",
    "\n",
    "# Exercises\n",
    "\n",
    "In this section, you will be provided a few exercises to demonstrate your understanding of the chapter contents. Each exercise will have a Markdown section describing the problem, and you will provide cells below the description with code, comments and visual demonstrations of your solution."
   ]
  },
  {
   "cell_type": "markdown",
   "metadata": {},
   "source": [
    "### Problem 1\n",
    "\n",
    "- Load the `'titanic'` dataset from `seaborn`\n",
    "- Add a `'quantile'` column to the DataFrame that calculates which bin (of 20) that each passenger's fare amount belongs to among the fares for all passengers. Each bin has roughly the same number of passengers in it.\n",
    "\n",
    "```python\n",
    "titanic['quantile'] = list(pd.qcut(titanic.fare, 20).apply(lambda v:v.mid))\n",
    "```\n",
    "\n",
    "- Create a variable, `survival_by_quantile` equal to the mean survival rate of passengers in each quantile (hint: groupby)\n",
    "- Create two variables, `x` and `y`, equal to the values of the index and series values of `survival_by_quantile`, respectively\n",
    "- Transform `x` and `y` into the forms expected by Scikit-learn's Estimator API\n",
    "- Use the linear regression model from [Section 5.02](https://nbviewer.jupyter.org/urls/bitbucket.org/dogwynn/pythondatasciencehandbook/raw/master/notebooks/05.02-Introducing-Scikit-Learn.ipynb#Supervised-learning-example:-Simple-linear-regression) to find a linear model for `x` and `y`\n",
    "- Using the original `x` values, calculate the y values predicted by your linear model (save as `y_predicted`)\n",
    "- Plot the following\n",
    "    - Original `x` and `y` as a point plot in blue\n",
    "    - `x` and `y_predicted` as a point plot in red\n",
    "    - `x` and `y_predicted` as a line plot in blue\n",
    "\n",
    "Based on your plot, would you say that a linear model is satisfactory for predicting the relationship between fare and survival rates?"
   ]
  },
  {
   "cell_type": "code",
   "execution_count": 3,
   "metadata": {
    "collapsed": true
   },
   "outputs": [],
   "source": [
    "import seaborn as sn \n",
    "import sklearn \n",
    "\n"
   ]
  },
  {
   "cell_type": "markdown",
   "metadata": {
    "collapsed": true
   },
   "source": [
    "\n",
    "\n",
    "---\n",
    "\n",
    "### Problem 2\n",
    "\n",
    "\n",
    "\n",
    "- Use `sklearn.datasets.load_breast_cancer()` function to load that data into a variable `cancer`\n",
    "- Use the `Isomap` manifold learning dimensionality reduction method (`components=2`) to visualize the data in a 2D scatter plot\n",
    "- Use the `PCA` dimensionality reduction method (`components=2`) to visualize the data in a 2D scatter plot\n",
    "- Use Gaussian naive Bayes to model the data (making sure to split the data into training and test data/target sets)\n",
    "- Perform 5-fold cross validation on your Gaussian naive Bayes model\n"
   ]
  },
  {
   "cell_type": "code",
   "execution_count": null,
   "metadata": {
    "collapsed": true
   },
   "outputs": [],
   "source": []
  }
 ],
 "metadata": {
  "kernelspec": {
   "display_name": "base",
   "language": "python",
   "name": "python3"
  },
  "language_info": {
   "codemirror_mode": {
    "name": "ipython",
    "version": 3
   },
   "file_extension": ".py",
   "mimetype": "text/x-python",
   "name": "python",
   "nbconvert_exporter": "python",
   "pygments_lexer": "ipython3",
   "version": "3.9.13"
  }
 },
 "nbformat": 4,
 "nbformat_minor": 2
}
